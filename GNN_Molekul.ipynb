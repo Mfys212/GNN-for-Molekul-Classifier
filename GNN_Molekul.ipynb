{
  "cells": [
    {
      "cell_type": "markdown",
      "metadata": {
        "id": "view-in-github",
        "colab_type": "text"
      },
      "source": [
        "<a href=\"https://colab.research.google.com/github/Mfys212/GNN-for-Molekul-Classifier/blob/main/GNN_Molekul.ipynb\" target=\"_parent\"><img src=\"https://colab.research.google.com/assets/colab-badge.svg\" alt=\"Open In Colab\"/></a>"
      ]
    },
    {
      "cell_type": "code",
      "execution_count": null,
      "metadata": {
        "colab": {
          "base_uri": "https://localhost:8080/"
        },
        "id": "rfwWo0myAtaN",
        "outputId": "17b7d587-abbb-42d5-b22b-45db6f9a3f80"
      },
      "outputs": [
        {
          "output_type": "stream",
          "name": "stdout",
          "text": [
            "Collecting torch_geometric\n",
            "  Downloading torch_geometric-2.6.1-py3-none-any.whl.metadata (63 kB)\n",
            "\u001b[?25l     \u001b[90m━━━━━━━━━━━━━━━━━━━━━━━━━━━━━━━━━━━━━━━━\u001b[0m \u001b[32m0.0/63.1 kB\u001b[0m \u001b[31m?\u001b[0m eta \u001b[36m-:--:--\u001b[0m\r\u001b[2K     \u001b[90m━━━━━━━━━━━━━━━━━━━━━━━━━━━━━━━━━━━━━━━━\u001b[0m \u001b[32m63.1/63.1 kB\u001b[0m \u001b[31m2.2 MB/s\u001b[0m eta \u001b[36m0:00:00\u001b[0m\n",
            "\u001b[?25hRequirement already satisfied: aiohttp in /usr/local/lib/python3.10/dist-packages (from torch_geometric) (3.11.10)\n",
            "Requirement already satisfied: fsspec in /usr/local/lib/python3.10/dist-packages (from torch_geometric) (2024.10.0)\n",
            "Requirement already satisfied: jinja2 in /usr/local/lib/python3.10/dist-packages (from torch_geometric) (3.1.4)\n",
            "Requirement already satisfied: numpy in /usr/local/lib/python3.10/dist-packages (from torch_geometric) (1.26.4)\n",
            "Requirement already satisfied: psutil>=5.8.0 in /usr/local/lib/python3.10/dist-packages (from torch_geometric) (5.9.5)\n",
            "Requirement already satisfied: pyparsing in /usr/local/lib/python3.10/dist-packages (from torch_geometric) (3.2.0)\n",
            "Requirement already satisfied: requests in /usr/local/lib/python3.10/dist-packages (from torch_geometric) (2.32.3)\n",
            "Requirement already satisfied: tqdm in /usr/local/lib/python3.10/dist-packages (from torch_geometric) (4.66.6)\n",
            "Requirement already satisfied: aiohappyeyeballs>=2.3.0 in /usr/local/lib/python3.10/dist-packages (from aiohttp->torch_geometric) (2.4.4)\n",
            "Requirement already satisfied: aiosignal>=1.1.2 in /usr/local/lib/python3.10/dist-packages (from aiohttp->torch_geometric) (1.3.1)\n",
            "Requirement already satisfied: async-timeout<6.0,>=4.0 in /usr/local/lib/python3.10/dist-packages (from aiohttp->torch_geometric) (4.0.3)\n",
            "Requirement already satisfied: attrs>=17.3.0 in /usr/local/lib/python3.10/dist-packages (from aiohttp->torch_geometric) (24.2.0)\n",
            "Requirement already satisfied: frozenlist>=1.1.1 in /usr/local/lib/python3.10/dist-packages (from aiohttp->torch_geometric) (1.5.0)\n",
            "Requirement already satisfied: multidict<7.0,>=4.5 in /usr/local/lib/python3.10/dist-packages (from aiohttp->torch_geometric) (6.1.0)\n",
            "Requirement already satisfied: propcache>=0.2.0 in /usr/local/lib/python3.10/dist-packages (from aiohttp->torch_geometric) (0.2.1)\n",
            "Requirement already satisfied: yarl<2.0,>=1.17.0 in /usr/local/lib/python3.10/dist-packages (from aiohttp->torch_geometric) (1.18.3)\n",
            "Requirement already satisfied: MarkupSafe>=2.0 in /usr/local/lib/python3.10/dist-packages (from jinja2->torch_geometric) (3.0.2)\n",
            "Requirement already satisfied: charset-normalizer<4,>=2 in /usr/local/lib/python3.10/dist-packages (from requests->torch_geometric) (3.4.0)\n",
            "Requirement already satisfied: idna<4,>=2.5 in /usr/local/lib/python3.10/dist-packages (from requests->torch_geometric) (3.10)\n",
            "Requirement already satisfied: urllib3<3,>=1.21.1 in /usr/local/lib/python3.10/dist-packages (from requests->torch_geometric) (2.2.3)\n",
            "Requirement already satisfied: certifi>=2017.4.17 in /usr/local/lib/python3.10/dist-packages (from requests->torch_geometric) (2024.8.30)\n",
            "Requirement already satisfied: typing-extensions>=4.1.0 in /usr/local/lib/python3.10/dist-packages (from multidict<7.0,>=4.5->aiohttp->torch_geometric) (4.12.2)\n",
            "Downloading torch_geometric-2.6.1-py3-none-any.whl (1.1 MB)\n",
            "\u001b[2K   \u001b[90m━━━━━━━━━━━━━━━━━━━━━━━━━━━━━━━━━━━━━━━━\u001b[0m \u001b[32m1.1/1.1 MB\u001b[0m \u001b[31m12.8 MB/s\u001b[0m eta \u001b[36m0:00:00\u001b[0m\n",
            "\u001b[?25hInstalling collected packages: torch_geometric\n",
            "Successfully installed torch_geometric-2.6.1\n",
            "Collecting rdkit\n",
            "  Downloading rdkit-2024.3.6-cp310-cp310-manylinux_2_28_x86_64.whl.metadata (4.0 kB)\n",
            "Requirement already satisfied: numpy in /usr/local/lib/python3.10/dist-packages (from rdkit) (1.26.4)\n",
            "Requirement already satisfied: Pillow in /usr/local/lib/python3.10/dist-packages (from rdkit) (11.0.0)\n",
            "Downloading rdkit-2024.3.6-cp310-cp310-manylinux_2_28_x86_64.whl (32.8 MB)\n",
            "\u001b[2K   \u001b[90m━━━━━━━━━━━━━━━━━━━━━━━━━━━━━━━━━━━━━━━━\u001b[0m \u001b[32m32.8/32.8 MB\u001b[0m \u001b[31m17.9 MB/s\u001b[0m eta \u001b[36m0:00:00\u001b[0m\n",
            "\u001b[?25hInstalling collected packages: rdkit\n",
            "Successfully installed rdkit-2024.3.6\n"
          ]
        }
      ],
      "source": [
        "!pip install torch_geometric\n",
        "!pip install rdkit"
      ]
    },
    {
      "cell_type": "code",
      "execution_count": null,
      "metadata": {
        "id": "wo5hwgrpAhmh"
      },
      "outputs": [],
      "source": [
        "import pandas as pd\n",
        "import torch\n",
        "from torch import nn\n",
        "from torch_geometric.data import Data\n",
        "from torch_geometric.loader import DataLoader as DL_geo\n",
        "from torch_geometric.nn import GCNConv, global_mean_pool, GINEConv\n",
        "from torch.utils.data import DataLoader, TensorDataset\n",
        "from rdkit import Chem\n",
        "from rdkit.Chem import rdmolops, AllChem, Draw\n",
        "import torch.nn.functional as F\n",
        "from sklearn.preprocessing import LabelEncoder\n",
        "import random\n",
        "from imblearn.over_sampling import RandomOverSampler\n",
        "from imblearn.under_sampling import RandomUnderSampler\n",
        "from sklearn.model_selection import train_test_split\n",
        "import concurrent.futures\n",
        "from tqdm import tqdm\n",
        "import numpy as np\n",
        "import matplotlib.pyplot as plt\n",
        "import seaborn as sns"
      ]
    },
    {
      "cell_type": "code",
      "execution_count": null,
      "metadata": {
        "colab": {
          "base_uri": "https://localhost:8080/",
          "height": 423
        },
        "id": "OXWEX8o7BDSO",
        "outputId": "aa931c63-1a19-483e-adda-6563da16c51f"
      },
      "outputs": [
        {
          "output_type": "execute_result",
          "data": {
            "text/plain": [
              "     molecule_chembl_id     class  \\\n",
              "0          CHEMBL541133    active   \n",
              "1          CHEMBL538346    active   \n",
              "2          CHEMBL541643    active   \n",
              "3          CHEMBL556399    active   \n",
              "4          CHEMBL538346    active   \n",
              "...                 ...       ...   \n",
              "5805      CHEMBL5279152    active   \n",
              "5806      CHEMBL5269677    active   \n",
              "5807      CHEMBL5279774  inactive   \n",
              "5808      CHEMBL5271447  inactive   \n",
              "5809      CHEMBL5291405  inactive   \n",
              "\n",
              "                                       canonical_smiles       MW     LogP  \\\n",
              "0     Cc1ccc([N+](=O)[O-])cc1S(=O)(=O)c1nc(-c2cnc3cc...  434.886  4.16062   \n",
              "1             Oc1cccc(-c2nc(N3CCOCC3)c3oc4ncccc4c3n2)c1  348.362  2.98020   \n",
              "2                   Oc1cccc(-c2nc(N3CCOCC3)c3sccc3n2)c1  313.382  2.90050   \n",
              "3     Cc1ccc([N+](=O)[O-])cc1S(=O)(=O)N(C)/N=C/c1cnc...  452.290  2.96802   \n",
              "4             Oc1cccc(-c2nc(N3CCOCC3)c3oc4ncccc4c3n2)c1  348.362  2.98020   \n",
              "...                                                 ...      ...      ...   \n",
              "5805      CCn1c(=O)c2ccnn2c2cc(N)c(C(=O)NCc3cccnc3)cc21  362.393  1.57630   \n",
              "5806      CCn1c(=O)c2ccnn2c2cc(N)c(C(=O)NCc3cncnc3)cc21  363.381  0.97130   \n",
              "5807     CCn1c(=O)c2ccnn2c2cc(NC)c(C(=O)NCc3cccnc3)cc21  376.420  2.03580   \n",
              "5808  CCn1c(=O)c2ccnn2c2cc(N(C)C)c(C(=O)NCc3cccnc3)cc21  390.447  2.06010   \n",
              "5809  CCn1c(=O)c2ccnn2c2cc(NC(C)=O)c(C(=O)NCc3cncnc3...  405.418  1.34750   \n",
              "\n",
              "      NumHDonors  NumHAcceptors     pIC50  \n",
              "0            0.0            8.0  7.000000  \n",
              "1            1.0            7.0  8.000000  \n",
              "2            1.0            6.0  6.657577  \n",
              "3            0.0            7.0  7.000000  \n",
              "4            1.0            7.0  8.000000  \n",
              "...          ...            ...       ...  \n",
              "5805         2.0            7.0  6.060481  \n",
              "5806         2.0            8.0  6.619789  \n",
              "5807         2.0            7.0  4.698970  \n",
              "5808         1.0            7.0  4.698970  \n",
              "5809         2.0            8.0  4.698970  \n",
              "\n",
              "[5810 rows x 8 columns]"
            ],
            "text/html": [
              "\n",
              "  <div id=\"df-551fd893-5399-4f2c-9472-b80e3335602e\" class=\"colab-df-container\">\n",
              "    <div>\n",
              "<style scoped>\n",
              "    .dataframe tbody tr th:only-of-type {\n",
              "        vertical-align: middle;\n",
              "    }\n",
              "\n",
              "    .dataframe tbody tr th {\n",
              "        vertical-align: top;\n",
              "    }\n",
              "\n",
              "    .dataframe thead th {\n",
              "        text-align: right;\n",
              "    }\n",
              "</style>\n",
              "<table border=\"1\" class=\"dataframe\">\n",
              "  <thead>\n",
              "    <tr style=\"text-align: right;\">\n",
              "      <th></th>\n",
              "      <th>molecule_chembl_id</th>\n",
              "      <th>class</th>\n",
              "      <th>canonical_smiles</th>\n",
              "      <th>MW</th>\n",
              "      <th>LogP</th>\n",
              "      <th>NumHDonors</th>\n",
              "      <th>NumHAcceptors</th>\n",
              "      <th>pIC50</th>\n",
              "    </tr>\n",
              "  </thead>\n",
              "  <tbody>\n",
              "    <tr>\n",
              "      <th>0</th>\n",
              "      <td>CHEMBL541133</td>\n",
              "      <td>active</td>\n",
              "      <td>Cc1ccc([N+](=O)[O-])cc1S(=O)(=O)c1nc(-c2cnc3cc...</td>\n",
              "      <td>434.886</td>\n",
              "      <td>4.16062</td>\n",
              "      <td>0.0</td>\n",
              "      <td>8.0</td>\n",
              "      <td>7.000000</td>\n",
              "    </tr>\n",
              "    <tr>\n",
              "      <th>1</th>\n",
              "      <td>CHEMBL538346</td>\n",
              "      <td>active</td>\n",
              "      <td>Oc1cccc(-c2nc(N3CCOCC3)c3oc4ncccc4c3n2)c1</td>\n",
              "      <td>348.362</td>\n",
              "      <td>2.98020</td>\n",
              "      <td>1.0</td>\n",
              "      <td>7.0</td>\n",
              "      <td>8.000000</td>\n",
              "    </tr>\n",
              "    <tr>\n",
              "      <th>2</th>\n",
              "      <td>CHEMBL541643</td>\n",
              "      <td>active</td>\n",
              "      <td>Oc1cccc(-c2nc(N3CCOCC3)c3sccc3n2)c1</td>\n",
              "      <td>313.382</td>\n",
              "      <td>2.90050</td>\n",
              "      <td>1.0</td>\n",
              "      <td>6.0</td>\n",
              "      <td>6.657577</td>\n",
              "    </tr>\n",
              "    <tr>\n",
              "      <th>3</th>\n",
              "      <td>CHEMBL556399</td>\n",
              "      <td>active</td>\n",
              "      <td>Cc1ccc([N+](=O)[O-])cc1S(=O)(=O)N(C)/N=C/c1cnc...</td>\n",
              "      <td>452.290</td>\n",
              "      <td>2.96802</td>\n",
              "      <td>0.0</td>\n",
              "      <td>7.0</td>\n",
              "      <td>7.000000</td>\n",
              "    </tr>\n",
              "    <tr>\n",
              "      <th>4</th>\n",
              "      <td>CHEMBL538346</td>\n",
              "      <td>active</td>\n",
              "      <td>Oc1cccc(-c2nc(N3CCOCC3)c3oc4ncccc4c3n2)c1</td>\n",
              "      <td>348.362</td>\n",
              "      <td>2.98020</td>\n",
              "      <td>1.0</td>\n",
              "      <td>7.0</td>\n",
              "      <td>8.000000</td>\n",
              "    </tr>\n",
              "    <tr>\n",
              "      <th>...</th>\n",
              "      <td>...</td>\n",
              "      <td>...</td>\n",
              "      <td>...</td>\n",
              "      <td>...</td>\n",
              "      <td>...</td>\n",
              "      <td>...</td>\n",
              "      <td>...</td>\n",
              "      <td>...</td>\n",
              "    </tr>\n",
              "    <tr>\n",
              "      <th>5805</th>\n",
              "      <td>CHEMBL5279152</td>\n",
              "      <td>active</td>\n",
              "      <td>CCn1c(=O)c2ccnn2c2cc(N)c(C(=O)NCc3cccnc3)cc21</td>\n",
              "      <td>362.393</td>\n",
              "      <td>1.57630</td>\n",
              "      <td>2.0</td>\n",
              "      <td>7.0</td>\n",
              "      <td>6.060481</td>\n",
              "    </tr>\n",
              "    <tr>\n",
              "      <th>5806</th>\n",
              "      <td>CHEMBL5269677</td>\n",
              "      <td>active</td>\n",
              "      <td>CCn1c(=O)c2ccnn2c2cc(N)c(C(=O)NCc3cncnc3)cc21</td>\n",
              "      <td>363.381</td>\n",
              "      <td>0.97130</td>\n",
              "      <td>2.0</td>\n",
              "      <td>8.0</td>\n",
              "      <td>6.619789</td>\n",
              "    </tr>\n",
              "    <tr>\n",
              "      <th>5807</th>\n",
              "      <td>CHEMBL5279774</td>\n",
              "      <td>inactive</td>\n",
              "      <td>CCn1c(=O)c2ccnn2c2cc(NC)c(C(=O)NCc3cccnc3)cc21</td>\n",
              "      <td>376.420</td>\n",
              "      <td>2.03580</td>\n",
              "      <td>2.0</td>\n",
              "      <td>7.0</td>\n",
              "      <td>4.698970</td>\n",
              "    </tr>\n",
              "    <tr>\n",
              "      <th>5808</th>\n",
              "      <td>CHEMBL5271447</td>\n",
              "      <td>inactive</td>\n",
              "      <td>CCn1c(=O)c2ccnn2c2cc(N(C)C)c(C(=O)NCc3cccnc3)cc21</td>\n",
              "      <td>390.447</td>\n",
              "      <td>2.06010</td>\n",
              "      <td>1.0</td>\n",
              "      <td>7.0</td>\n",
              "      <td>4.698970</td>\n",
              "    </tr>\n",
              "    <tr>\n",
              "      <th>5809</th>\n",
              "      <td>CHEMBL5291405</td>\n",
              "      <td>inactive</td>\n",
              "      <td>CCn1c(=O)c2ccnn2c2cc(NC(C)=O)c(C(=O)NCc3cncnc3...</td>\n",
              "      <td>405.418</td>\n",
              "      <td>1.34750</td>\n",
              "      <td>2.0</td>\n",
              "      <td>8.0</td>\n",
              "      <td>4.698970</td>\n",
              "    </tr>\n",
              "  </tbody>\n",
              "</table>\n",
              "<p>5810 rows × 8 columns</p>\n",
              "</div>\n",
              "    <div class=\"colab-df-buttons\">\n",
              "\n",
              "  <div class=\"colab-df-container\">\n",
              "    <button class=\"colab-df-convert\" onclick=\"convertToInteractive('df-551fd893-5399-4f2c-9472-b80e3335602e')\"\n",
              "            title=\"Convert this dataframe to an interactive table.\"\n",
              "            style=\"display:none;\">\n",
              "\n",
              "  <svg xmlns=\"http://www.w3.org/2000/svg\" height=\"24px\" viewBox=\"0 -960 960 960\">\n",
              "    <path d=\"M120-120v-720h720v720H120Zm60-500h600v-160H180v160Zm220 220h160v-160H400v160Zm0 220h160v-160H400v160ZM180-400h160v-160H180v160Zm440 0h160v-160H620v160ZM180-180h160v-160H180v160Zm440 0h160v-160H620v160Z\"/>\n",
              "  </svg>\n",
              "    </button>\n",
              "\n",
              "  <style>\n",
              "    .colab-df-container {\n",
              "      display:flex;\n",
              "      gap: 12px;\n",
              "    }\n",
              "\n",
              "    .colab-df-convert {\n",
              "      background-color: #E8F0FE;\n",
              "      border: none;\n",
              "      border-radius: 50%;\n",
              "      cursor: pointer;\n",
              "      display: none;\n",
              "      fill: #1967D2;\n",
              "      height: 32px;\n",
              "      padding: 0 0 0 0;\n",
              "      width: 32px;\n",
              "    }\n",
              "\n",
              "    .colab-df-convert:hover {\n",
              "      background-color: #E2EBFA;\n",
              "      box-shadow: 0px 1px 2px rgba(60, 64, 67, 0.3), 0px 1px 3px 1px rgba(60, 64, 67, 0.15);\n",
              "      fill: #174EA6;\n",
              "    }\n",
              "\n",
              "    .colab-df-buttons div {\n",
              "      margin-bottom: 4px;\n",
              "    }\n",
              "\n",
              "    [theme=dark] .colab-df-convert {\n",
              "      background-color: #3B4455;\n",
              "      fill: #D2E3FC;\n",
              "    }\n",
              "\n",
              "    [theme=dark] .colab-df-convert:hover {\n",
              "      background-color: #434B5C;\n",
              "      box-shadow: 0px 1px 3px 1px rgba(0, 0, 0, 0.15);\n",
              "      filter: drop-shadow(0px 1px 2px rgba(0, 0, 0, 0.3));\n",
              "      fill: #FFFFFF;\n",
              "    }\n",
              "  </style>\n",
              "\n",
              "    <script>\n",
              "      const buttonEl =\n",
              "        document.querySelector('#df-551fd893-5399-4f2c-9472-b80e3335602e button.colab-df-convert');\n",
              "      buttonEl.style.display =\n",
              "        google.colab.kernel.accessAllowed ? 'block' : 'none';\n",
              "\n",
              "      async function convertToInteractive(key) {\n",
              "        const element = document.querySelector('#df-551fd893-5399-4f2c-9472-b80e3335602e');\n",
              "        const dataTable =\n",
              "          await google.colab.kernel.invokeFunction('convertToInteractive',\n",
              "                                                    [key], {});\n",
              "        if (!dataTable) return;\n",
              "\n",
              "        const docLinkHtml = 'Like what you see? Visit the ' +\n",
              "          '<a target=\"_blank\" href=https://colab.research.google.com/notebooks/data_table.ipynb>data table notebook</a>'\n",
              "          + ' to learn more about interactive tables.';\n",
              "        element.innerHTML = '';\n",
              "        dataTable['output_type'] = 'display_data';\n",
              "        await google.colab.output.renderOutput(dataTable, element);\n",
              "        const docLink = document.createElement('div');\n",
              "        docLink.innerHTML = docLinkHtml;\n",
              "        element.appendChild(docLink);\n",
              "      }\n",
              "    </script>\n",
              "  </div>\n",
              "\n",
              "\n",
              "<div id=\"df-76163b42-c5cb-4acb-a7a4-c911613bb016\">\n",
              "  <button class=\"colab-df-quickchart\" onclick=\"quickchart('df-76163b42-c5cb-4acb-a7a4-c911613bb016')\"\n",
              "            title=\"Suggest charts\"\n",
              "            style=\"display:none;\">\n",
              "\n",
              "<svg xmlns=\"http://www.w3.org/2000/svg\" height=\"24px\"viewBox=\"0 0 24 24\"\n",
              "     width=\"24px\">\n",
              "    <g>\n",
              "        <path d=\"M19 3H5c-1.1 0-2 .9-2 2v14c0 1.1.9 2 2 2h14c1.1 0 2-.9 2-2V5c0-1.1-.9-2-2-2zM9 17H7v-7h2v7zm4 0h-2V7h2v10zm4 0h-2v-4h2v4z\"/>\n",
              "    </g>\n",
              "</svg>\n",
              "  </button>\n",
              "\n",
              "<style>\n",
              "  .colab-df-quickchart {\n",
              "      --bg-color: #E8F0FE;\n",
              "      --fill-color: #1967D2;\n",
              "      --hover-bg-color: #E2EBFA;\n",
              "      --hover-fill-color: #174EA6;\n",
              "      --disabled-fill-color: #AAA;\n",
              "      --disabled-bg-color: #DDD;\n",
              "  }\n",
              "\n",
              "  [theme=dark] .colab-df-quickchart {\n",
              "      --bg-color: #3B4455;\n",
              "      --fill-color: #D2E3FC;\n",
              "      --hover-bg-color: #434B5C;\n",
              "      --hover-fill-color: #FFFFFF;\n",
              "      --disabled-bg-color: #3B4455;\n",
              "      --disabled-fill-color: #666;\n",
              "  }\n",
              "\n",
              "  .colab-df-quickchart {\n",
              "    background-color: var(--bg-color);\n",
              "    border: none;\n",
              "    border-radius: 50%;\n",
              "    cursor: pointer;\n",
              "    display: none;\n",
              "    fill: var(--fill-color);\n",
              "    height: 32px;\n",
              "    padding: 0;\n",
              "    width: 32px;\n",
              "  }\n",
              "\n",
              "  .colab-df-quickchart:hover {\n",
              "    background-color: var(--hover-bg-color);\n",
              "    box-shadow: 0 1px 2px rgba(60, 64, 67, 0.3), 0 1px 3px 1px rgba(60, 64, 67, 0.15);\n",
              "    fill: var(--button-hover-fill-color);\n",
              "  }\n",
              "\n",
              "  .colab-df-quickchart-complete:disabled,\n",
              "  .colab-df-quickchart-complete:disabled:hover {\n",
              "    background-color: var(--disabled-bg-color);\n",
              "    fill: var(--disabled-fill-color);\n",
              "    box-shadow: none;\n",
              "  }\n",
              "\n",
              "  .colab-df-spinner {\n",
              "    border: 2px solid var(--fill-color);\n",
              "    border-color: transparent;\n",
              "    border-bottom-color: var(--fill-color);\n",
              "    animation:\n",
              "      spin 1s steps(1) infinite;\n",
              "  }\n",
              "\n",
              "  @keyframes spin {\n",
              "    0% {\n",
              "      border-color: transparent;\n",
              "      border-bottom-color: var(--fill-color);\n",
              "      border-left-color: var(--fill-color);\n",
              "    }\n",
              "    20% {\n",
              "      border-color: transparent;\n",
              "      border-left-color: var(--fill-color);\n",
              "      border-top-color: var(--fill-color);\n",
              "    }\n",
              "    30% {\n",
              "      border-color: transparent;\n",
              "      border-left-color: var(--fill-color);\n",
              "      border-top-color: var(--fill-color);\n",
              "      border-right-color: var(--fill-color);\n",
              "    }\n",
              "    40% {\n",
              "      border-color: transparent;\n",
              "      border-right-color: var(--fill-color);\n",
              "      border-top-color: var(--fill-color);\n",
              "    }\n",
              "    60% {\n",
              "      border-color: transparent;\n",
              "      border-right-color: var(--fill-color);\n",
              "    }\n",
              "    80% {\n",
              "      border-color: transparent;\n",
              "      border-right-color: var(--fill-color);\n",
              "      border-bottom-color: var(--fill-color);\n",
              "    }\n",
              "    90% {\n",
              "      border-color: transparent;\n",
              "      border-bottom-color: var(--fill-color);\n",
              "    }\n",
              "  }\n",
              "</style>\n",
              "\n",
              "  <script>\n",
              "    async function quickchart(key) {\n",
              "      const quickchartButtonEl =\n",
              "        document.querySelector('#' + key + ' button');\n",
              "      quickchartButtonEl.disabled = true;  // To prevent multiple clicks.\n",
              "      quickchartButtonEl.classList.add('colab-df-spinner');\n",
              "      try {\n",
              "        const charts = await google.colab.kernel.invokeFunction(\n",
              "            'suggestCharts', [key], {});\n",
              "      } catch (error) {\n",
              "        console.error('Error during call to suggestCharts:', error);\n",
              "      }\n",
              "      quickchartButtonEl.classList.remove('colab-df-spinner');\n",
              "      quickchartButtonEl.classList.add('colab-df-quickchart-complete');\n",
              "    }\n",
              "    (() => {\n",
              "      let quickchartButtonEl =\n",
              "        document.querySelector('#df-76163b42-c5cb-4acb-a7a4-c911613bb016 button');\n",
              "      quickchartButtonEl.style.display =\n",
              "        google.colab.kernel.accessAllowed ? 'block' : 'none';\n",
              "    })();\n",
              "  </script>\n",
              "</div>\n",
              "\n",
              "  <div id=\"id_8dfba2fa-b38e-4d61-9339-83e9e1761637\">\n",
              "    <style>\n",
              "      .colab-df-generate {\n",
              "        background-color: #E8F0FE;\n",
              "        border: none;\n",
              "        border-radius: 50%;\n",
              "        cursor: pointer;\n",
              "        display: none;\n",
              "        fill: #1967D2;\n",
              "        height: 32px;\n",
              "        padding: 0 0 0 0;\n",
              "        width: 32px;\n",
              "      }\n",
              "\n",
              "      .colab-df-generate:hover {\n",
              "        background-color: #E2EBFA;\n",
              "        box-shadow: 0px 1px 2px rgba(60, 64, 67, 0.3), 0px 1px 3px 1px rgba(60, 64, 67, 0.15);\n",
              "        fill: #174EA6;\n",
              "      }\n",
              "\n",
              "      [theme=dark] .colab-df-generate {\n",
              "        background-color: #3B4455;\n",
              "        fill: #D2E3FC;\n",
              "      }\n",
              "\n",
              "      [theme=dark] .colab-df-generate:hover {\n",
              "        background-color: #434B5C;\n",
              "        box-shadow: 0px 1px 3px 1px rgba(0, 0, 0, 0.15);\n",
              "        filter: drop-shadow(0px 1px 2px rgba(0, 0, 0, 0.3));\n",
              "        fill: #FFFFFF;\n",
              "      }\n",
              "    </style>\n",
              "    <button class=\"colab-df-generate\" onclick=\"generateWithVariable('df_2class_prep')\"\n",
              "            title=\"Generate code using this dataframe.\"\n",
              "            style=\"display:none;\">\n",
              "\n",
              "  <svg xmlns=\"http://www.w3.org/2000/svg\" height=\"24px\"viewBox=\"0 0 24 24\"\n",
              "       width=\"24px\">\n",
              "    <path d=\"M7,19H8.4L18.45,9,17,7.55,7,17.6ZM5,21V16.75L18.45,3.32a2,2,0,0,1,2.83,0l1.4,1.43a1.91,1.91,0,0,1,.58,1.4,1.91,1.91,0,0,1-.58,1.4L9.25,21ZM18.45,9,17,7.55Zm-12,3A5.31,5.31,0,0,0,4.9,8.1,5.31,5.31,0,0,0,1,6.5,5.31,5.31,0,0,0,4.9,4.9,5.31,5.31,0,0,0,6.5,1,5.31,5.31,0,0,0,8.1,4.9,5.31,5.31,0,0,0,12,6.5,5.46,5.46,0,0,0,6.5,12Z\"/>\n",
              "  </svg>\n",
              "    </button>\n",
              "    <script>\n",
              "      (() => {\n",
              "      const buttonEl =\n",
              "        document.querySelector('#id_8dfba2fa-b38e-4d61-9339-83e9e1761637 button.colab-df-generate');\n",
              "      buttonEl.style.display =\n",
              "        google.colab.kernel.accessAllowed ? 'block' : 'none';\n",
              "\n",
              "      buttonEl.onclick = () => {\n",
              "        google.colab.notebook.generateWithVariable('df_2class_prep');\n",
              "      }\n",
              "      })();\n",
              "    </script>\n",
              "  </div>\n",
              "\n",
              "    </div>\n",
              "  </div>\n"
            ],
            "application/vnd.google.colaboratory.intrinsic+json": {
              "type": "dataframe",
              "variable_name": "df_2class_prep",
              "summary": "{\n  \"name\": \"df_2class_prep\",\n  \"rows\": 5810,\n  \"fields\": [\n    {\n      \"column\": \"molecule_chembl_id\",\n      \"properties\": {\n        \"dtype\": \"string\",\n        \"num_unique_values\": 5047,\n        \"samples\": [\n          \"CHEMBL4176338\",\n          \"CHEMBL4061855\",\n          \"CHEMBL1914727\"\n        ],\n        \"semantic_type\": \"\",\n        \"description\": \"\"\n      }\n    },\n    {\n      \"column\": \"class\",\n      \"properties\": {\n        \"dtype\": \"category\",\n        \"num_unique_values\": 2,\n        \"samples\": [\n          \"inactive\",\n          \"active\"\n        ],\n        \"semantic_type\": \"\",\n        \"description\": \"\"\n      }\n    },\n    {\n      \"column\": \"canonical_smiles\",\n      \"properties\": {\n        \"dtype\": \"string\",\n        \"num_unique_values\": 5044,\n        \"samples\": [\n          \"C[C@H]1COCCN1c1nc(N2CCOCC2)nc2[nH]c(-c3cnc4cc[nH]c4c3)nc12\",\n          \"O=S(=O)(c1ccc(Cl)cc1)N1CCN(c2nc(NCCN3CCOCC3)nc(N3CCOCC3)n2)CC1\"\n        ],\n        \"semantic_type\": \"\",\n        \"description\": \"\"\n      }\n    },\n    {\n      \"column\": \"MW\",\n      \"properties\": {\n        \"dtype\": \"number\",\n        \"std\": 90.14801844448029,\n        \"min\": 110.11199999999998,\n        \"max\": 1093.2949999999998,\n        \"num_unique_values\": 3947,\n        \"samples\": [\n          626.7990000000002,\n          455.5650000000001\n        ],\n        \"semantic_type\": \"\",\n        \"description\": \"\"\n      }\n    },\n    {\n      \"column\": \"LogP\",\n      \"properties\": {\n        \"dtype\": \"number\",\n        \"std\": 1.248026760564411,\n        \"min\": -2.870829999999992,\n        \"max\": 8.263900000000005,\n        \"num_unique_values\": 4338,\n        \"samples\": [\n          3.1347000000000014,\n          2.940300000000001\n        ],\n        \"semantic_type\": \"\",\n        \"description\": \"\"\n      }\n    },\n    {\n      \"column\": \"NumHDonors\",\n      \"properties\": {\n        \"dtype\": \"number\",\n        \"std\": 0.9105438108750025,\n        \"min\": 0.0,\n        \"max\": 9.0,\n        \"num_unique_values\": 8,\n        \"samples\": [\n          1.0,\n          5.0\n        ],\n        \"semantic_type\": \"\",\n        \"description\": \"\"\n      }\n    },\n    {\n      \"column\": \"NumHAcceptors\",\n      \"properties\": {\n        \"dtype\": \"number\",\n        \"std\": 1.8927091703503895,\n        \"min\": 1.0,\n        \"max\": 17.0,\n        \"num_unique_values\": 17,\n        \"samples\": [\n          8.0,\n          7.0\n        ],\n        \"semantic_type\": \"\",\n        \"description\": \"\"\n      }\n    },\n    {\n      \"column\": \"pIC50\",\n      \"properties\": {\n        \"dtype\": \"number\",\n        \"std\": 1.2966507469780586,\n        \"min\": 1.3999999999492705,\n        \"max\": 10.744727494896694,\n        \"num_unique_values\": 1693,\n        \"samples\": [\n          6.689519108537325,\n          6.540607512240769\n        ],\n        \"semantic_type\": \"\",\n        \"description\": \"\"\n      }\n    }\n  ]\n}"
            }
          },
          "metadata": {},
          "execution_count": 3
        }
      ],
      "source": [
        "df_2class_prep = pd.read_csv('https://raw.githubusercontent.com/Mfys212/dokumen/refs/heads/main/01_label2class_sars.csv')\n",
        "df_2class_prep"
      ]
    },
    {
      "cell_type": "code",
      "execution_count": null,
      "metadata": {
        "colab": {
          "base_uri": "https://localhost:8080/"
        },
        "id": "LG9ktoeWBLyT",
        "outputId": "3ef03afd-294d-474b-9238-7664b13889ce"
      },
      "outputs": [
        {
          "output_type": "stream",
          "name": "stdout",
          "text": [
            "canonical_smiles    0\n",
            "class               0\n",
            "dtype: int64 \n",
            "\n",
            "<class 'pandas.core.frame.DataFrame'>\n",
            "RangeIndex: 5810 entries, 0 to 5809\n",
            "Data columns (total 2 columns):\n",
            " #   Column            Non-Null Count  Dtype \n",
            "---  ------            --------------  ----- \n",
            " 0   canonical_smiles  5810 non-null   object\n",
            " 1   class             5810 non-null   object\n",
            "dtypes: object(2)\n",
            "memory usage: 90.9+ KB\n"
          ]
        }
      ],
      "source": [
        "data = df_2class_prep[[\"canonical_smiles\", \"class\"]]\n",
        "print(data.isnull().sum(), \"\\n\")\n",
        "data.info()"
      ]
    },
    {
      "cell_type": "code",
      "execution_count": null,
      "metadata": {
        "colab": {
          "base_uri": "https://localhost:8080/",
          "height": 178
        },
        "id": "IMxwy9NhBtDm",
        "outputId": "f7575273-636f-453d-ecdb-11b994009537"
      },
      "outputs": [
        {
          "output_type": "execute_result",
          "data": {
            "text/plain": [
              "class\n",
              "active      4846\n",
              "inactive     964\n",
              "Name: count, dtype: int64"
            ],
            "text/html": [
              "<div>\n",
              "<style scoped>\n",
              "    .dataframe tbody tr th:only-of-type {\n",
              "        vertical-align: middle;\n",
              "    }\n",
              "\n",
              "    .dataframe tbody tr th {\n",
              "        vertical-align: top;\n",
              "    }\n",
              "\n",
              "    .dataframe thead th {\n",
              "        text-align: right;\n",
              "    }\n",
              "</style>\n",
              "<table border=\"1\" class=\"dataframe\">\n",
              "  <thead>\n",
              "    <tr style=\"text-align: right;\">\n",
              "      <th></th>\n",
              "      <th>count</th>\n",
              "    </tr>\n",
              "    <tr>\n",
              "      <th>class</th>\n",
              "      <th></th>\n",
              "    </tr>\n",
              "  </thead>\n",
              "  <tbody>\n",
              "    <tr>\n",
              "      <th>active</th>\n",
              "      <td>4846</td>\n",
              "    </tr>\n",
              "    <tr>\n",
              "      <th>inactive</th>\n",
              "      <td>964</td>\n",
              "    </tr>\n",
              "  </tbody>\n",
              "</table>\n",
              "</div><br><label><b>dtype:</b> int64</label>"
            ]
          },
          "metadata": {},
          "execution_count": 5
        }
      ],
      "source": [
        "class_counts = data[\"class\"].value_counts()\n",
        "class_counts"
      ]
    },
    {
      "cell_type": "code",
      "execution_count": null,
      "metadata": {
        "id": "28XP9tiECHxU"
      },
      "outputs": [],
      "source": [
        "target_over, target_under = 2000, 2500\n",
        "ros = RandomOverSampler(sampling_strategy={'inactive': target_over}, random_state=42)\n",
        "run = RandomUnderSampler(sampling_strategy={'active': target_under}, random_state=42)\n",
        "X_resampled, y_resampled = run.fit_resample(data[['canonical_smiles']], data['class'])\n",
        "X_resampled, y_resampled = ros.fit_resample(X_resampled, y_resampled)\n",
        "\n",
        "df_final = pd.DataFrame({\n",
        "    'canonical_smiles': X_resampled['canonical_smiles'],\n",
        "    'class': y_resampled\n",
        "})"
      ]
    },
    {
      "cell_type": "code",
      "execution_count": null,
      "metadata": {
        "colab": {
          "base_uri": "https://localhost:8080/",
          "height": 369
        },
        "id": "fdrMG5reClM4",
        "outputId": "f2f32e37-f9b7-4ba4-f5a0-82965c58e978"
      },
      "outputs": [
        {
          "output_type": "stream",
          "name": "stdout",
          "text": [
            "<class 'pandas.core.frame.DataFrame'>\n",
            "RangeIndex: 4500 entries, 0 to 4499\n",
            "Data columns (total 2 columns):\n",
            " #   Column            Non-Null Count  Dtype \n",
            "---  ------            --------------  ----- \n",
            " 0   canonical_smiles  4500 non-null   object\n",
            " 1   class             4500 non-null   object\n",
            "dtypes: object(2)\n",
            "memory usage: 70.4+ KB\n",
            "None \n",
            "\n"
          ]
        },
        {
          "output_type": "execute_result",
          "data": {
            "text/plain": [
              "class\n",
              "active      2500\n",
              "inactive    2000\n",
              "Name: count, dtype: int64"
            ],
            "text/html": [
              "<div>\n",
              "<style scoped>\n",
              "    .dataframe tbody tr th:only-of-type {\n",
              "        vertical-align: middle;\n",
              "    }\n",
              "\n",
              "    .dataframe tbody tr th {\n",
              "        vertical-align: top;\n",
              "    }\n",
              "\n",
              "    .dataframe thead th {\n",
              "        text-align: right;\n",
              "    }\n",
              "</style>\n",
              "<table border=\"1\" class=\"dataframe\">\n",
              "  <thead>\n",
              "    <tr style=\"text-align: right;\">\n",
              "      <th></th>\n",
              "      <th>count</th>\n",
              "    </tr>\n",
              "    <tr>\n",
              "      <th>class</th>\n",
              "      <th></th>\n",
              "    </tr>\n",
              "  </thead>\n",
              "  <tbody>\n",
              "    <tr>\n",
              "      <th>active</th>\n",
              "      <td>2500</td>\n",
              "    </tr>\n",
              "    <tr>\n",
              "      <th>inactive</th>\n",
              "      <td>2000</td>\n",
              "    </tr>\n",
              "  </tbody>\n",
              "</table>\n",
              "</div><br><label><b>dtype:</b> int64</label>"
            ]
          },
          "metadata": {},
          "execution_count": 7
        }
      ],
      "source": [
        "print(df_final.info(), \"\\n\")\n",
        "df_final['class'].value_counts()"
      ]
    },
    {
      "cell_type": "code",
      "source": [
        "df_final['smiles_length'] = df_final['canonical_smiles'].apply(len)\n",
        "plt.figure(figsize=(8, 6))\n",
        "sns.boxplot(x='class', y='smiles_length', data=df_final)\n",
        "plt.title('SMILES Length')\n",
        "plt.show()"
      ],
      "metadata": {
        "id": "MeJpb_hEKpXp",
        "outputId": "dfb2e26d-e010-4c14-e696-177311f36bb9",
        "colab": {
          "base_uri": "https://localhost:8080/",
          "height": 564
        }
      },
      "execution_count": null,
      "outputs": [
        {
          "output_type": "display_data",
          "data": {
            "text/plain": [
              "<Figure size 800x600 with 1 Axes>"
            ],
            "image/png": "[encoded data removed]"
          },
          "metadata": {}
        }
      ]
    },
    {
      "cell_type": "code",
      "source": [
        "class LoaderData(nn.Module):\n",
        "    def __init__(self, X, y, batch=32, test_size=0.2, seed=212, use_y=True):\n",
        "        super().__init__()\n",
        "        self.use_y = use_y\n",
        "        if use_y:\n",
        "            X_train, X_test, y_train, y_test = train_test_split(X, y, stratify=y, test_size=test_size, random_state=seed)\n",
        "            self.batch_size = batch\n",
        "            self.X_train = X_train\n",
        "            self.X_test = X_test\n",
        "            self.y_train = y_train\n",
        "            self.y_test = y_test\n",
        "\n",
        "    def process_molecule(self, molecule, cls, use_y=True):\n",
        "        return self.molecule_to_graph(molecule, cls, use_y)\n",
        "\n",
        "    def forward(self, x=None):\n",
        "        with concurrent.futures.ThreadPoolExecutor() as executor:\n",
        "            if self.use_y:\n",
        "              train_graphs = list(executor.map(self.process_molecule, self.X_train, self.y_train))\n",
        "              val_graphs = list(executor.map(self.process_molecule, self.X_test, self.y_test))\n",
        "            else:\n",
        "              graphs = self.process_molecule(x, None, self.use_y)\n",
        "\n",
        "        if self.use_y:\n",
        "            train_loader = DL_geo(train_graphs, batch_size=self.batch_size, shuffle=True)\n",
        "            val_loader = DL_geo(val_graphs, batch_size=self.batch_size, shuffle=False)\n",
        "            return train_loader, val_loader\n",
        "        else:\n",
        "            return graphs\n",
        "\n",
        "    def molecule_to_graph(self, molecule: str, y=None, use_y=True):\n",
        "        mol = Chem.MolFromSmiles(molecule)\n",
        "        if mol is None:\n",
        "            return None\n",
        "\n",
        "        atoms = [\n",
        "            [\n",
        "                atom.GetAtomicNum(),              # Nomor atom\n",
        "                atom.GetMass(),                   # Massa atom\n",
        "                int(atom.GetIsAromatic()),        # Apakah atom aromatik\n",
        "                int(atom.GetHybridization()),     # Tipe hibridisasi\n",
        "                atom.GetFormalCharge(),           # Muatan formal\n",
        "                atom.GetDegree(),                 # Derajat atom\n",
        "                atom.GetImplicitValence(),        # Valensi implisit\n",
        "                atom.GetExplicitValence(),        # Valensi eksplisit\n",
        "                int(atom.IsInRing()),             # Apakah dalam cincin\n",
        "                int(atom.GetChiralTag()),         # Tag kiralitas\n",
        "            ]\n",
        "            for atom in mol.GetAtoms()\n",
        "        ]\n",
        "\n",
        "        edges = []\n",
        "        edge_attr = []\n",
        "        for bond in mol.GetBonds():\n",
        "            i = bond.GetBeginAtomIdx()\n",
        "            j = bond.GetEndAtomIdx()\n",
        "            edges.append([i, j])\n",
        "            edges.append([j, i])  # kedua arah untuk graf tak berarah\n",
        "\n",
        "            bond_features = [\n",
        "                bond.GetBondTypeAsDouble(),      # Tipe ikatan\n",
        "                int(bond.GetIsConjugated()),     # Apakah ikatan terkonjugasi\n",
        "                int(bond.GetIsAromatic()),       # Apakah ikatan aromatik\n",
        "                int(bond.GetStereo()),           # Stereokimia ikatan\n",
        "                int(bond.IsInRing()),            # Apakah ikatan dalam cincin\n",
        "            ]\n",
        "            edge_attr.append(bond_features)\n",
        "            edge_attr.append(bond_features) # fitur edge untuk arah sebaliknya\n",
        "\n",
        "        edge_index = torch.tensor(edges, dtype=torch.long).t().contiguous()\n",
        "        edge_attr = torch.tensor(edge_attr, dtype=torch.float)\n",
        "        x = torch.tensor(atoms, dtype=torch.float)\n",
        "\n",
        "        if use_y:\n",
        "            data = Data(x=x, edge_index=edge_index, edge_attr=edge_attr, y=torch.tensor([y], dtype=torch.long))\n",
        "        else:\n",
        "            data = Data(x=x, edge_index=edge_index, edge_attr=edge_attr)\n",
        "        return data\n",
        "\n",
        "class GNNBlock(nn.Module):\n",
        "    def __init__(self, edge_features, c1, c2, dropout_rate=0.2, c1_=False):\n",
        "        super().__init__()\n",
        "        self.conv1 = GINEConv(nn.Linear(c1, c2), edge_dim=edge_features)\n",
        "        self.conv2 = GINEConv(nn.Linear(c2, c1), edge_dim=edge_features)\n",
        "        self.dropout = nn.Dropout(dropout_rate)\n",
        "\n",
        "    def forward(self, inputs, edge_index, edge_attr):\n",
        "        x = self.dropout(F.leaky_relu(self.conv1(inputs, edge_index, edge_attr)))\n",
        "        return self.conv2(x+inputs, edge_index, edge_attr)\n",
        "\n",
        "class GNNModel(nn.Module):\n",
        "    def __init__(self, num_features, edge_features, c1=128, c2=128, num_block=2):\n",
        "        super().__init__()\n",
        "        self.inputs = GINEConv(nn.Linear(num_features, c1//2), edge_dim=edge_features)\n",
        "        self.conv = GINEConv(nn.Linear(c1//2, c1), edge_dim=edge_features)\n",
        "        self.block = [GNNBlock(edge_features, c1, c2) for i in range(num_block)]\n",
        "        self.cls = nn.Linear(c1, 1)\n",
        "\n",
        "    def forward(self, data):\n",
        "        x, edge_index, edge_attr = data.x, data.edge_index, data.edge_attr\n",
        "        x = F.leaky_relu(self.inputs(x, edge_index, edge_attr))\n",
        "        x = self.conv(x, edge_index, edge_attr)\n",
        "        for block in self.block:\n",
        "            x = block(x, edge_index, edge_attr)\n",
        "        x = global_mean_pool(self.cls(x), data.batch)\n",
        "        return x\n",
        "\n",
        "class CreateModel(nn.Module):\n",
        "    def __init__(self,\n",
        "                 X, y,\n",
        "                 epochs,\n",
        "                 batch=32,\n",
        "                 test_size=0.2,\n",
        "                 seed=212,\n",
        "                 c1=128,\n",
        "                 c2=128,\n",
        "                 num_block=2,\n",
        "                 dropout_rate=0.3):\n",
        "        super().__init__()\n",
        "        print(\"Loading data ...\")\n",
        "        self.epochs = epochs\n",
        "        self.X, self.y = X, y\n",
        "        self.loader = LoaderData(X, y, batch, test_size, seed)\n",
        "        self.train_loader, self.val_loader = self.loader()\n",
        "        self.num_node_features = self.train_loader.dataset[0].x.size(1)\n",
        "        self.num_edge_features = self.train_loader.dataset[0].edge_attr.size(1)\n",
        "        self.model = GNNModel(self.num_node_features, self.num_edge_features, c1, c2, num_block)\n",
        "        self.device = 'cuda' if torch.cuda.is_available() else 'cpu'\n",
        "        self.model = self.model.to(self.device)\n",
        "\n",
        "    def forward(self, x):\n",
        "        self.load= LoaderData(self.X, self.y, 1, 0.2, seed=212, use_y=False)\n",
        "        data = self.load(x=x)\n",
        "        out = self.model(data)\n",
        "        return torch.sigmoid(out)\n",
        "\n",
        "    def predict(self, x):\n",
        "        return self.forward(x)\n",
        "\n",
        "    def train(self, optimizer, criterion):\n",
        "        self.model.train()\n",
        "        total_loss = 0\n",
        "        correct = 0\n",
        "        with tqdm(self.train_loader, desc=\"Training\", unit=\"batch\") as t:\n",
        "            for data in t:\n",
        "                data = data.to(self.device)\n",
        "                optimizer.zero_grad()\n",
        "                out = self.model(data)\n",
        "                loss = criterion(out.view(-1), data.y.float())\n",
        "                loss.backward()\n",
        "                optimizer.step()\n",
        "                total_loss += loss.item()\n",
        "                pred = torch.sigmoid(out)\n",
        "                pred = (pred > 0.5).float()\n",
        "                correct += (pred.view(-1) == data.y).sum().item()\n",
        "        avg_loss = total_loss / len(self.train_loader)\n",
        "        accuracy = correct / len(self.train_loader.dataset)\n",
        "        return avg_loss, accuracy\n",
        "\n",
        "    def eval(self, threshold=0.5):\n",
        "        self.model.eval()\n",
        "        total_loss = 0\n",
        "        correct = 0\n",
        "        all_labels, all_preds = [], []\n",
        "        with tqdm(self.val_loader, desc=\"Validation\", unit=\"batch\") as t:\n",
        "            with torch.no_grad():\n",
        "                for data in t:\n",
        "                    data = data.to(self.device)\n",
        "                    out = self.model(data)\n",
        "                    pred = torch.sigmoid(out)\n",
        "                    pred = (pred > threshold).float()\n",
        "                    all_labels.extend(data.y.cpu().numpy())\n",
        "                    all_preds.extend(pred.cpu().numpy())\n",
        "        return all_labels, all_preds\n",
        "\n",
        "    def validate(self, criterion):\n",
        "        self.model.eval()\n",
        "        total_loss = 0\n",
        "        correct = 0\n",
        "        with tqdm(self.val_loader, desc=\"Validation\", unit=\"batch\") as t:\n",
        "            with torch.no_grad():\n",
        "                for data in t:\n",
        "                    data = data.to(self.device)\n",
        "                    out = self.model(data)\n",
        "                    loss = criterion(out.view(-1), data.y.float())\n",
        "                    total_loss += loss.item()\n",
        "                    pred = torch.sigmoid(out)\n",
        "                    pred = (pred > 0.5).float()\n",
        "                    correct += (pred.view(-1) == data.y).sum().item()\n",
        "        avg_loss = total_loss / len(self.val_loader)\n",
        "        accuracy = correct / len(self.val_loader.dataset)\n",
        "        return avg_loss, accuracy\n",
        "\n",
        "    def fit(self, optimizer, lr, loss, loss_w=None):\n",
        "        optimizer, criterion = self.get_optim(optimizer, lr, loss, loss_w)\n",
        "        t_acc, t_loss, v_acc, v_loss = [], [], [], []\n",
        "        best_val_loss = float('inf')\n",
        "        best_model_state_dict = None\n",
        "        for epoch in range(1, self.epochs + 1):\n",
        "            train_loss, train_acc = self.train(optimizer, criterion)\n",
        "            val_loss, val_accuracy = self.validate(criterion)\n",
        "            if val_loss < best_val_loss:\n",
        "                best_val_loss = val_loss\n",
        "                best_model_state_dict = self.model.state_dict()\n",
        "            print(f\"Epoch {epoch}/{self.epochs} | Train Loss: {train_loss:.4f} | Train Acc: {train_acc:.4f} | Val Loss: {val_loss:.4f} | Val Acc: {val_accuracy:.4f}\\n\")\n",
        "            t_loss.append(train_loss)\n",
        "            t_acc.append(train_acc)\n",
        "            v_loss.append(val_loss)\n",
        "            v_acc.append(val_accuracy)\n",
        "        if best_model_state_dict:\n",
        "            self.model.load_state_dict(best_model_state_dict)\n",
        "            print(\"Restored model to the best state based on validation loss.\")\n",
        "        history = {\"Train Loss\":t_loss, \"Train Acc\":t_acc, \"Val Loss\":v_loss, \"Val Acc\":v_acc}\n",
        "        return history\n",
        "\n",
        "    def get_optim(self, optimizer, lr, loss, loss_w):\n",
        "        optimizer = optimizer(self.model.parameters(), lr=lr)\n",
        "        if loss_w is not None:\n",
        "            try:\n",
        "              criterion = loss(weight=loss_w)\n",
        "            except:\n",
        "              criterion = loss(pos_weight=loss_w)\n",
        "        else:\n",
        "            criterion = loss()\n",
        "        return optimizer, criterion"
      ],
      "metadata": {
        "id": "x3FDmAEXOpXD"
      },
      "execution_count": null,
      "outputs": []
    },
    {
      "cell_type": "code",
      "source": [
        "X = df_final['canonical_smiles']\n",
        "y = df_final['class'].map({'active': 1, 'inactive': 0})\n",
        "EPOCHS = 100\n",
        "model = CreateModel(X, y, epochs=EPOCHS, batch=32, test_size=0.2, seed=212)"
      ],
      "metadata": {
        "id": "HOYL7JGlsfcj",
        "outputId": "1e6b6dd6-9d1a-46a8-cfc5-fe5ec65e0631",
        "colab": {
          "base_uri": "https://localhost:8080/"
        }
      },
      "execution_count": null,
      "outputs": [
        {
          "output_type": "stream",
          "name": "stdout",
          "text": [
            "Loading data ...\n"
          ]
        }
      ]
    },
    {
      "cell_type": "code",
      "source": [
        "loss_weights = torch.tensor([0.7])\n",
        "history = model.fit(torch.optim.Adam, lr=0.001, loss=nn.BCEWithLogitsLoss, loss_w=loss_weights)"
      ],
      "metadata": {
        "colab": {
          "base_uri": "https://localhost:8080/"
        },
        "id": "e9lYgivHsgiY",
        "outputId": "ddd084f9-d1b5-40dd-a698-b97e51abf017"
      },
      "execution_count": null,
      "outputs": [
        {
          "output_type": "stream",
          "name": "stderr",
          "text": [
            "Training: 100%|██████████| 113/113 [00:07<00:00, 16.09batch/s]\n",
            "Validation: 100%|██████████| 29/29 [00:01<00:00, 18.39batch/s]\n"
          ]
        },
        {
          "output_type": "stream",
          "name": "stdout",
          "text": [
            "Epoch 1/100 | Train Loss: 1.1941 | Train Acc: 0.5219 | Val Loss: 0.6389 | Val Acc: 0.5144\n",
            "\n"
          ]
        },
        {
          "output_type": "stream",
          "name": "stderr",
          "text": [
            "Training: 100%|██████████| 113/113 [00:10<00:00, 10.52batch/s]\n",
            "Validation: 100%|██████████| 29/29 [00:00<00:00, 30.20batch/s]\n"
          ]
        },
        {
          "output_type": "stream",
          "name": "stdout",
          "text": [
            "Epoch 2/100 | Train Loss: 0.6107 | Train Acc: 0.5211 | Val Loss: 0.5496 | Val Acc: 0.5122\n",
            "\n"
          ]
        },
        {
          "output_type": "stream",
          "name": "stderr",
          "text": [
            "Training: 100%|██████████| 113/113 [00:05<00:00, 20.28batch/s]\n",
            "Validation: 100%|██████████| 29/29 [00:00<00:00, 46.47batch/s]\n"
          ]
        },
        {
          "output_type": "stream",
          "name": "stdout",
          "text": [
            "Epoch 3/100 | Train Loss: 0.5654 | Train Acc: 0.5325 | Val Loss: 0.6391 | Val Acc: 0.5611\n",
            "\n"
          ]
        },
        {
          "output_type": "stream",
          "name": "stderr",
          "text": [
            "Training: 100%|██████████| 113/113 [00:04<00:00, 27.51batch/s]\n",
            "Validation: 100%|██████████| 29/29 [00:00<00:00, 71.06batch/s]\n"
          ]
        },
        {
          "output_type": "stream",
          "name": "stdout",
          "text": [
            "Epoch 4/100 | Train Loss: 0.5315 | Train Acc: 0.5372 | Val Loss: 0.5015 | Val Acc: 0.5711\n",
            "\n"
          ]
        },
        {
          "output_type": "stream",
          "name": "stderr",
          "text": [
            "Training: 100%|██████████| 113/113 [00:03<00:00, 32.29batch/s]\n",
            "Validation: 100%|██████████| 29/29 [00:00<00:00, 72.37batch/s]\n"
          ]
        },
        {
          "output_type": "stream",
          "name": "stdout",
          "text": [
            "Epoch 5/100 | Train Loss: 0.5119 | Train Acc: 0.5447 | Val Loss: 0.4854 | Val Acc: 0.5900\n",
            "\n"
          ]
        },
        {
          "output_type": "stream",
          "name": "stderr",
          "text": [
            "Training: 100%|██████████| 113/113 [00:03<00:00, 29.34batch/s]\n",
            "Validation: 100%|██████████| 29/29 [00:00<00:00, 54.16batch/s]\n"
          ]
        },
        {
          "output_type": "stream",
          "name": "stdout",
          "text": [
            "Epoch 6/100 | Train Loss: 0.5153 | Train Acc: 0.5483 | Val Loss: 0.4753 | Val Acc: 0.5578\n",
            "\n"
          ]
        },
        {
          "output_type": "stream",
          "name": "stderr",
          "text": [
            "Training: 100%|██████████| 113/113 [00:04<00:00, 26.32batch/s]\n",
            "Validation: 100%|██████████| 29/29 [00:00<00:00, 75.56batch/s]\n"
          ]
        },
        {
          "output_type": "stream",
          "name": "stdout",
          "text": [
            "Epoch 7/100 | Train Loss: 0.4873 | Train Acc: 0.5769 | Val Loss: 0.4734 | Val Acc: 0.6044\n",
            "\n"
          ]
        },
        {
          "output_type": "stream",
          "name": "stderr",
          "text": [
            "Training: 100%|██████████| 113/113 [00:03<00:00, 32.21batch/s]\n",
            "Validation: 100%|██████████| 29/29 [00:00<00:00, 71.61batch/s]\n"
          ]
        },
        {
          "output_type": "stream",
          "name": "stdout",
          "text": [
            "Epoch 8/100 | Train Loss: 0.4831 | Train Acc: 0.5725 | Val Loss: 0.4702 | Val Acc: 0.6022\n",
            "\n"
          ]
        },
        {
          "output_type": "stream",
          "name": "stderr",
          "text": [
            "Training: 100%|██████████| 113/113 [00:03<00:00, 32.05batch/s]\n",
            "Validation: 100%|██████████| 29/29 [00:00<00:00, 70.93batch/s]\n"
          ]
        },
        {
          "output_type": "stream",
          "name": "stdout",
          "text": [
            "Epoch 9/100 | Train Loss: 0.4826 | Train Acc: 0.5775 | Val Loss: 0.4745 | Val Acc: 0.5644\n",
            "\n"
          ]
        },
        {
          "output_type": "stream",
          "name": "stderr",
          "text": [
            "Training: 100%|██████████| 113/113 [00:04<00:00, 22.96batch/s]\n",
            "Validation: 100%|██████████| 29/29 [00:00<00:00, 66.60batch/s]\n"
          ]
        },
        {
          "output_type": "stream",
          "name": "stdout",
          "text": [
            "Epoch 10/100 | Train Loss: 0.4800 | Train Acc: 0.5894 | Val Loss: 0.4490 | Val Acc: 0.6489\n",
            "\n"
          ]
        },
        {
          "output_type": "stream",
          "name": "stderr",
          "text": [
            "Training: 100%|██████████| 113/113 [00:03<00:00, 32.22batch/s]\n",
            "Validation: 100%|██████████| 29/29 [00:00<00:00, 70.60batch/s]\n"
          ]
        },
        {
          "output_type": "stream",
          "name": "stdout",
          "text": [
            "Epoch 11/100 | Train Loss: 0.4953 | Train Acc: 0.5636 | Val Loss: 0.4791 | Val Acc: 0.5167\n",
            "\n"
          ]
        },
        {
          "output_type": "stream",
          "name": "stderr",
          "text": [
            "Training: 100%|██████████| 113/113 [00:03<00:00, 32.02batch/s]\n",
            "Validation: 100%|██████████| 29/29 [00:00<00:00, 66.36batch/s]\n"
          ]
        },
        {
          "output_type": "stream",
          "name": "stdout",
          "text": [
            "Epoch 12/100 | Train Loss: 0.4673 | Train Acc: 0.6047 | Val Loss: 0.4635 | Val Acc: 0.6022\n",
            "\n"
          ]
        },
        {
          "output_type": "stream",
          "name": "stderr",
          "text": [
            "Training: 100%|██████████| 113/113 [00:04<00:00, 25.68batch/s]\n",
            "Validation: 100%|██████████| 29/29 [00:00<00:00, 50.70batch/s]\n"
          ]
        },
        {
          "output_type": "stream",
          "name": "stdout",
          "text": [
            "Epoch 13/100 | Train Loss: 0.4618 | Train Acc: 0.6064 | Val Loss: 0.4569 | Val Acc: 0.6267\n",
            "\n"
          ]
        },
        {
          "output_type": "stream",
          "name": "stderr",
          "text": [
            "Training: 100%|██████████| 113/113 [00:03<00:00, 30.39batch/s]\n",
            "Validation: 100%|██████████| 29/29 [00:00<00:00, 72.93batch/s]\n"
          ]
        },
        {
          "output_type": "stream",
          "name": "stdout",
          "text": [
            "Epoch 14/100 | Train Loss: 0.4777 | Train Acc: 0.5822 | Val Loss: 0.4410 | Val Acc: 0.6656\n",
            "\n"
          ]
        },
        {
          "output_type": "stream",
          "name": "stderr",
          "text": [
            "Training: 100%|██████████| 113/113 [00:03<00:00, 31.80batch/s]\n",
            "Validation: 100%|██████████| 29/29 [00:00<00:00, 71.87batch/s]\n"
          ]
        },
        {
          "output_type": "stream",
          "name": "stdout",
          "text": [
            "Epoch 15/100 | Train Loss: 0.4653 | Train Acc: 0.6083 | Val Loss: 0.4349 | Val Acc: 0.6600\n",
            "\n"
          ]
        },
        {
          "output_type": "stream",
          "name": "stderr",
          "text": [
            "Training: 100%|██████████| 113/113 [00:03<00:00, 28.52batch/s]\n",
            "Validation: 100%|██████████| 29/29 [00:00<00:00, 49.68batch/s]\n"
          ]
        },
        {
          "output_type": "stream",
          "name": "stdout",
          "text": [
            "Epoch 16/100 | Train Loss: 0.4540 | Train Acc: 0.6275 | Val Loss: 0.4560 | Val Acc: 0.6178\n",
            "\n"
          ]
        },
        {
          "output_type": "stream",
          "name": "stderr",
          "text": [
            "Training: 100%|██████████| 113/113 [00:04<00:00, 27.66batch/s]\n",
            "Validation: 100%|██████████| 29/29 [00:00<00:00, 65.61batch/s]\n"
          ]
        },
        {
          "output_type": "stream",
          "name": "stdout",
          "text": [
            "Epoch 17/100 | Train Loss: 0.4529 | Train Acc: 0.6228 | Val Loss: 0.4989 | Val Acc: 0.5189\n",
            "\n"
          ]
        },
        {
          "output_type": "stream",
          "name": "stderr",
          "text": [
            "Training: 100%|██████████| 113/113 [00:03<00:00, 32.24batch/s]\n",
            "Validation: 100%|██████████| 29/29 [00:00<00:00, 71.22batch/s]\n"
          ]
        },
        {
          "output_type": "stream",
          "name": "stdout",
          "text": [
            "Epoch 18/100 | Train Loss: 0.4645 | Train Acc: 0.6106 | Val Loss: 0.4374 | Val Acc: 0.6633\n",
            "\n"
          ]
        },
        {
          "output_type": "stream",
          "name": "stderr",
          "text": [
            "Training: 100%|██████████| 113/113 [00:03<00:00, 31.47batch/s]\n",
            "Validation: 100%|██████████| 29/29 [00:00<00:00, 48.52batch/s]\n"
          ]
        },
        {
          "output_type": "stream",
          "name": "stdout",
          "text": [
            "Epoch 19/100 | Train Loss: 0.4518 | Train Acc: 0.6289 | Val Loss: 0.4473 | Val Acc: 0.6400\n",
            "\n"
          ]
        },
        {
          "output_type": "stream",
          "name": "stderr",
          "text": [
            "Training: 100%|██████████| 113/113 [00:04<00:00, 24.80batch/s]\n",
            "Validation: 100%|██████████| 29/29 [00:00<00:00, 66.50batch/s]\n"
          ]
        },
        {
          "output_type": "stream",
          "name": "stdout",
          "text": [
            "Epoch 20/100 | Train Loss: 0.4598 | Train Acc: 0.6183 | Val Loss: 0.4276 | Val Acc: 0.6856\n",
            "\n"
          ]
        },
        {
          "output_type": "stream",
          "name": "stderr",
          "text": [
            "Training: 100%|██████████| 113/113 [00:04<00:00, 28.05batch/s]\n",
            "Validation: 100%|██████████| 29/29 [00:00<00:00, 70.41batch/s]\n"
          ]
        },
        {
          "output_type": "stream",
          "name": "stdout",
          "text": [
            "Epoch 21/100 | Train Loss: 0.4520 | Train Acc: 0.6319 | Val Loss: 0.4321 | Val Acc: 0.6633\n",
            "\n"
          ]
        },
        {
          "output_type": "stream",
          "name": "stderr",
          "text": [
            "Training: 100%|██████████| 113/113 [00:03<00:00, 31.78batch/s]\n",
            "Validation: 100%|██████████| 29/29 [00:00<00:00, 73.65batch/s]\n"
          ]
        },
        {
          "output_type": "stream",
          "name": "stdout",
          "text": [
            "Epoch 22/100 | Train Loss: 0.4582 | Train Acc: 0.6214 | Val Loss: 0.4263 | Val Acc: 0.6756\n",
            "\n"
          ]
        },
        {
          "output_type": "stream",
          "name": "stderr",
          "text": [
            "Training: 100%|██████████| 113/113 [00:04<00:00, 24.07batch/s]\n",
            "Validation: 100%|██████████| 29/29 [00:00<00:00, 70.22batch/s]\n"
          ]
        },
        {
          "output_type": "stream",
          "name": "stdout",
          "text": [
            "Epoch 23/100 | Train Loss: 0.4368 | Train Acc: 0.6381 | Val Loss: 0.4260 | Val Acc: 0.6578\n",
            "\n"
          ]
        },
        {
          "output_type": "stream",
          "name": "stderr",
          "text": [
            "Training: 100%|██████████| 113/113 [00:03<00:00, 31.79batch/s]\n",
            "Validation: 100%|██████████| 29/29 [00:00<00:00, 71.31batch/s]\n"
          ]
        },
        {
          "output_type": "stream",
          "name": "stdout",
          "text": [
            "Epoch 24/100 | Train Loss: 0.4620 | Train Acc: 0.6194 | Val Loss: 0.4227 | Val Acc: 0.6700\n",
            "\n"
          ]
        },
        {
          "output_type": "stream",
          "name": "stderr",
          "text": [
            "Training: 100%|██████████| 113/113 [00:03<00:00, 32.07batch/s]\n",
            "Validation: 100%|██████████| 29/29 [00:00<00:00, 74.13batch/s]\n"
          ]
        },
        {
          "output_type": "stream",
          "name": "stdout",
          "text": [
            "Epoch 25/100 | Train Loss: 0.4450 | Train Acc: 0.6358 | Val Loss: 0.4207 | Val Acc: 0.6778\n",
            "\n"
          ]
        },
        {
          "output_type": "stream",
          "name": "stderr",
          "text": [
            "Training: 100%|██████████| 113/113 [00:04<00:00, 24.59batch/s]\n",
            "Validation: 100%|██████████| 29/29 [00:00<00:00, 62.49batch/s]\n"
          ]
        },
        {
          "output_type": "stream",
          "name": "stdout",
          "text": [
            "Epoch 26/100 | Train Loss: 0.4410 | Train Acc: 0.6447 | Val Loss: 0.4227 | Val Acc: 0.6889\n",
            "\n"
          ]
        },
        {
          "output_type": "stream",
          "name": "stderr",
          "text": [
            "Training: 100%|██████████| 113/113 [00:03<00:00, 31.04batch/s]\n",
            "Validation: 100%|██████████| 29/29 [00:00<00:00, 70.20batch/s]\n"
          ]
        },
        {
          "output_type": "stream",
          "name": "stdout",
          "text": [
            "Epoch 27/100 | Train Loss: 0.4556 | Train Acc: 0.6267 | Val Loss: 0.4241 | Val Acc: 0.6667\n",
            "\n"
          ]
        },
        {
          "output_type": "stream",
          "name": "stderr",
          "text": [
            "Training: 100%|██████████| 113/113 [00:03<00:00, 32.02batch/s]\n",
            "Validation: 100%|██████████| 29/29 [00:00<00:00, 69.28batch/s]\n"
          ]
        },
        {
          "output_type": "stream",
          "name": "stdout",
          "text": [
            "Epoch 28/100 | Train Loss: 0.4363 | Train Acc: 0.6522 | Val Loss: 0.4217 | Val Acc: 0.6600\n",
            "\n"
          ]
        },
        {
          "output_type": "stream",
          "name": "stderr",
          "text": [
            "Training: 100%|██████████| 113/113 [00:04<00:00, 27.06batch/s]\n",
            "Validation: 100%|██████████| 29/29 [00:00<00:00, 51.55batch/s]\n"
          ]
        },
        {
          "output_type": "stream",
          "name": "stdout",
          "text": [
            "Epoch 29/100 | Train Loss: 0.4388 | Train Acc: 0.6461 | Val Loss: 0.4245 | Val Acc: 0.6567\n",
            "\n"
          ]
        },
        {
          "output_type": "stream",
          "name": "stderr",
          "text": [
            "Training: 100%|██████████| 113/113 [00:03<00:00, 30.04batch/s]\n",
            "Validation: 100%|██████████| 29/29 [00:00<00:00, 73.75batch/s]\n"
          ]
        },
        {
          "output_type": "stream",
          "name": "stdout",
          "text": [
            "Epoch 30/100 | Train Loss: 0.4325 | Train Acc: 0.6517 | Val Loss: 0.4290 | Val Acc: 0.6578\n",
            "\n"
          ]
        },
        {
          "output_type": "stream",
          "name": "stderr",
          "text": [
            "Training: 100%|██████████| 113/113 [00:03<00:00, 31.71batch/s]\n",
            "Validation: 100%|██████████| 29/29 [00:00<00:00, 75.11batch/s]\n"
          ]
        },
        {
          "output_type": "stream",
          "name": "stdout",
          "text": [
            "Epoch 31/100 | Train Loss: 0.4421 | Train Acc: 0.6369 | Val Loss: 0.4328 | Val Acc: 0.6478\n",
            "\n"
          ]
        },
        {
          "output_type": "stream",
          "name": "stderr",
          "text": [
            "Training: 100%|██████████| 113/113 [00:03<00:00, 29.32batch/s]\n",
            "Validation: 100%|██████████| 29/29 [00:00<00:00, 53.73batch/s]\n"
          ]
        },
        {
          "output_type": "stream",
          "name": "stdout",
          "text": [
            "Epoch 32/100 | Train Loss: 0.4366 | Train Acc: 0.6461 | Val Loss: 0.4150 | Val Acc: 0.6733\n",
            "\n"
          ]
        },
        {
          "output_type": "stream",
          "name": "stderr",
          "text": [
            "Training: 100%|██████████| 113/113 [00:04<00:00, 25.81batch/s]\n",
            "Validation: 100%|██████████| 29/29 [00:00<00:00, 70.56batch/s]\n"
          ]
        },
        {
          "output_type": "stream",
          "name": "stdout",
          "text": [
            "Epoch 33/100 | Train Loss: 0.4283 | Train Acc: 0.6639 | Val Loss: 0.4184 | Val Acc: 0.6800\n",
            "\n"
          ]
        },
        {
          "output_type": "stream",
          "name": "stderr",
          "text": [
            "Training: 100%|██████████| 113/113 [00:03<00:00, 31.94batch/s]\n",
            "Validation: 100%|██████████| 29/29 [00:00<00:00, 72.06batch/s]\n"
          ]
        },
        {
          "output_type": "stream",
          "name": "stdout",
          "text": [
            "Epoch 34/100 | Train Loss: 0.4202 | Train Acc: 0.6694 | Val Loss: 0.4043 | Val Acc: 0.6789\n",
            "\n"
          ]
        },
        {
          "output_type": "stream",
          "name": "stderr",
          "text": [
            "Training: 100%|██████████| 113/113 [00:03<00:00, 32.05batch/s]\n",
            "Validation: 100%|██████████| 29/29 [00:00<00:00, 70.29batch/s]\n"
          ]
        },
        {
          "output_type": "stream",
          "name": "stdout",
          "text": [
            "Epoch 35/100 | Train Loss: 0.4222 | Train Acc: 0.6664 | Val Loss: 0.5864 | Val Acc: 0.4900\n",
            "\n"
          ]
        },
        {
          "output_type": "stream",
          "name": "stderr",
          "text": [
            "Training: 100%|██████████| 113/113 [00:04<00:00, 23.70batch/s]\n",
            "Validation: 100%|██████████| 29/29 [00:00<00:00, 70.77batch/s]\n"
          ]
        },
        {
          "output_type": "stream",
          "name": "stdout",
          "text": [
            "Epoch 36/100 | Train Loss: 0.4225 | Train Acc: 0.6750 | Val Loss: 0.4103 | Val Acc: 0.6756\n",
            "\n"
          ]
        },
        {
          "output_type": "stream",
          "name": "stderr",
          "text": [
            "Training: 100%|██████████| 113/113 [00:03<00:00, 32.06batch/s]\n",
            "Validation: 100%|██████████| 29/29 [00:00<00:00, 72.00batch/s]\n"
          ]
        },
        {
          "output_type": "stream",
          "name": "stdout",
          "text": [
            "Epoch 37/100 | Train Loss: 0.4240 | Train Acc: 0.6617 | Val Loss: 0.4032 | Val Acc: 0.6778\n",
            "\n"
          ]
        },
        {
          "output_type": "stream",
          "name": "stderr",
          "text": [
            "Training: 100%|██████████| 113/113 [00:03<00:00, 29.46batch/s]\n",
            "Validation: 100%|██████████| 29/29 [00:00<00:00, 52.14batch/s]\n"
          ]
        },
        {
          "output_type": "stream",
          "name": "stdout",
          "text": [
            "Epoch 38/100 | Train Loss: 0.4219 | Train Acc: 0.6683 | Val Loss: 0.4215 | Val Acc: 0.6700\n",
            "\n"
          ]
        },
        {
          "output_type": "stream",
          "name": "stderr",
          "text": [
            "Training: 100%|██████████| 113/113 [00:05<00:00, 20.85batch/s]\n",
            "Validation: 100%|██████████| 29/29 [00:00<00:00, 49.75batch/s]\n"
          ]
        },
        {
          "output_type": "stream",
          "name": "stdout",
          "text": [
            "Epoch 39/100 | Train Loss: 0.4238 | Train Acc: 0.6606 | Val Loss: 0.4091 | Val Acc: 0.6678\n",
            "\n"
          ]
        },
        {
          "output_type": "stream",
          "name": "stderr",
          "text": [
            "Training: 100%|██████████| 113/113 [00:03<00:00, 30.09batch/s]\n",
            "Validation: 100%|██████████| 29/29 [00:00<00:00, 71.66batch/s]\n"
          ]
        },
        {
          "output_type": "stream",
          "name": "stdout",
          "text": [
            "Epoch 40/100 | Train Loss: 0.4199 | Train Acc: 0.6697 | Val Loss: 0.4034 | Val Acc: 0.6744\n",
            "\n"
          ]
        },
        {
          "output_type": "stream",
          "name": "stderr",
          "text": [
            "Training: 100%|██████████| 113/113 [00:03<00:00, 32.17batch/s]\n",
            "Validation: 100%|██████████| 29/29 [00:00<00:00, 73.41batch/s]\n"
          ]
        },
        {
          "output_type": "stream",
          "name": "stdout",
          "text": [
            "Epoch 41/100 | Train Loss: 0.4191 | Train Acc: 0.6697 | Val Loss: 0.4381 | Val Acc: 0.6189\n",
            "\n"
          ]
        },
        {
          "output_type": "stream",
          "name": "stderr",
          "text": [
            "Training: 100%|██████████| 113/113 [00:03<00:00, 29.77batch/s]\n",
            "Validation: 100%|██████████| 29/29 [00:00<00:00, 52.31batch/s]\n"
          ]
        },
        {
          "output_type": "stream",
          "name": "stdout",
          "text": [
            "Epoch 42/100 | Train Loss: 0.4262 | Train Acc: 0.6664 | Val Loss: 0.4122 | Val Acc: 0.6700\n",
            "\n"
          ]
        },
        {
          "output_type": "stream",
          "name": "stderr",
          "text": [
            "Training: 100%|██████████| 113/113 [00:04<00:00, 26.89batch/s]\n",
            "Validation: 100%|██████████| 29/29 [00:00<00:00, 70.51batch/s]\n"
          ]
        },
        {
          "output_type": "stream",
          "name": "stdout",
          "text": [
            "Epoch 43/100 | Train Loss: 0.4176 | Train Acc: 0.6617 | Val Loss: 0.4119 | Val Acc: 0.6722\n",
            "\n"
          ]
        },
        {
          "output_type": "stream",
          "name": "stderr",
          "text": [
            "Training: 100%|██████████| 113/113 [00:04<00:00, 24.75batch/s]\n",
            "Validation: 100%|██████████| 29/29 [00:00<00:00, 73.37batch/s]\n"
          ]
        },
        {
          "output_type": "stream",
          "name": "stdout",
          "text": [
            "Epoch 44/100 | Train Loss: 0.4248 | Train Acc: 0.6581 | Val Loss: 0.4069 | Val Acc: 0.6844\n",
            "\n"
          ]
        },
        {
          "output_type": "stream",
          "name": "stderr",
          "text": [
            "Training: 100%|██████████| 113/113 [00:03<00:00, 29.51batch/s]\n",
            "Validation: 100%|██████████| 29/29 [00:00<00:00, 53.81batch/s]\n"
          ]
        },
        {
          "output_type": "stream",
          "name": "stdout",
          "text": [
            "Epoch 45/100 | Train Loss: 0.4136 | Train Acc: 0.6828 | Val Loss: 0.4283 | Val Acc: 0.6556\n",
            "\n"
          ]
        },
        {
          "output_type": "stream",
          "name": "stderr",
          "text": [
            "Training: 100%|██████████| 113/113 [00:04<00:00, 26.71batch/s]\n",
            "Validation: 100%|██████████| 29/29 [00:00<00:00, 71.97batch/s]\n"
          ]
        },
        {
          "output_type": "stream",
          "name": "stdout",
          "text": [
            "Epoch 46/100 | Train Loss: 0.4173 | Train Acc: 0.6739 | Val Loss: 0.4129 | Val Acc: 0.6800\n",
            "\n"
          ]
        },
        {
          "output_type": "stream",
          "name": "stderr",
          "text": [
            "Training: 100%|██████████| 113/113 [00:03<00:00, 31.85batch/s]\n",
            "Validation: 100%|██████████| 29/29 [00:00<00:00, 70.32batch/s]\n"
          ]
        },
        {
          "output_type": "stream",
          "name": "stdout",
          "text": [
            "Epoch 47/100 | Train Loss: 0.4127 | Train Acc: 0.6800 | Val Loss: 0.4033 | Val Acc: 0.7033\n",
            "\n"
          ]
        },
        {
          "output_type": "stream",
          "name": "stderr",
          "text": [
            "Training: 100%|██████████| 113/113 [00:03<00:00, 31.91batch/s]\n",
            "Validation: 100%|██████████| 29/29 [00:00<00:00, 75.87batch/s]\n"
          ]
        },
        {
          "output_type": "stream",
          "name": "stdout",
          "text": [
            "Epoch 48/100 | Train Loss: 0.4073 | Train Acc: 0.6911 | Val Loss: 0.3977 | Val Acc: 0.6944\n",
            "\n"
          ]
        },
        {
          "output_type": "stream",
          "name": "stderr",
          "text": [
            "Training: 100%|██████████| 113/113 [00:04<00:00, 23.84batch/s]\n",
            "Validation: 100%|██████████| 29/29 [00:00<00:00, 74.06batch/s]\n"
          ]
        },
        {
          "output_type": "stream",
          "name": "stdout",
          "text": [
            "Epoch 49/100 | Train Loss: 0.4087 | Train Acc: 0.6831 | Val Loss: 0.3990 | Val Acc: 0.6911\n",
            "\n"
          ]
        },
        {
          "output_type": "stream",
          "name": "stderr",
          "text": [
            "Training: 100%|██████████| 113/113 [00:03<00:00, 32.38batch/s]\n",
            "Validation: 100%|██████████| 29/29 [00:00<00:00, 74.07batch/s]\n"
          ]
        },
        {
          "output_type": "stream",
          "name": "stdout",
          "text": [
            "Epoch 50/100 | Train Loss: 0.4056 | Train Acc: 0.6825 | Val Loss: 0.3974 | Val Acc: 0.7033\n",
            "\n"
          ]
        },
        {
          "output_type": "stream",
          "name": "stderr",
          "text": [
            "Training: 100%|██████████| 113/113 [00:03<00:00, 31.83batch/s]\n",
            "Validation: 100%|██████████| 29/29 [00:00<00:00, 69.83batch/s]\n"
          ]
        },
        {
          "output_type": "stream",
          "name": "stdout",
          "text": [
            "Epoch 51/100 | Train Loss: 0.4172 | Train Acc: 0.6814 | Val Loss: 0.4447 | Val Acc: 0.6489\n",
            "\n"
          ]
        },
        {
          "output_type": "stream",
          "name": "stderr",
          "text": [
            "Training: 100%|██████████| 113/113 [00:04<00:00, 24.90batch/s]\n",
            "Validation: 100%|██████████| 29/29 [00:00<00:00, 50.38batch/s]\n"
          ]
        },
        {
          "output_type": "stream",
          "name": "stdout",
          "text": [
            "Epoch 52/100 | Train Loss: 0.4163 | Train Acc: 0.6792 | Val Loss: 0.4152 | Val Acc: 0.6867\n",
            "\n"
          ]
        },
        {
          "output_type": "stream",
          "name": "stderr",
          "text": [
            "Training: 100%|██████████| 113/113 [00:03<00:00, 32.10batch/s]\n",
            "Validation: 100%|██████████| 29/29 [00:00<00:00, 72.37batch/s]\n"
          ]
        },
        {
          "output_type": "stream",
          "name": "stdout",
          "text": [
            "Epoch 53/100 | Train Loss: 0.4035 | Train Acc: 0.6942 | Val Loss: 0.4094 | Val Acc: 0.6956\n",
            "\n"
          ]
        },
        {
          "output_type": "stream",
          "name": "stderr",
          "text": [
            "Training: 100%|██████████| 113/113 [00:03<00:00, 31.54batch/s]\n",
            "Validation: 100%|██████████| 29/29 [00:00<00:00, 74.47batch/s]\n"
          ]
        },
        {
          "output_type": "stream",
          "name": "stdout",
          "text": [
            "Epoch 54/100 | Train Loss: 0.4029 | Train Acc: 0.6939 | Val Loss: 0.4054 | Val Acc: 0.6933\n",
            "\n"
          ]
        },
        {
          "output_type": "stream",
          "name": "stderr",
          "text": [
            "Training: 100%|██████████| 113/113 [00:04<00:00, 27.39batch/s]\n",
            "Validation: 100%|██████████| 29/29 [00:00<00:00, 49.90batch/s]\n"
          ]
        },
        {
          "output_type": "stream",
          "name": "stdout",
          "text": [
            "Epoch 55/100 | Train Loss: 0.3994 | Train Acc: 0.7036 | Val Loss: 0.4120 | Val Acc: 0.6844\n",
            "\n"
          ]
        },
        {
          "output_type": "stream",
          "name": "stderr",
          "text": [
            "Training: 100%|██████████| 113/113 [00:03<00:00, 28.65batch/s]\n",
            "Validation: 100%|██████████| 29/29 [00:00<00:00, 74.68batch/s]\n"
          ]
        },
        {
          "output_type": "stream",
          "name": "stdout",
          "text": [
            "Epoch 56/100 | Train Loss: 0.4008 | Train Acc: 0.6950 | Val Loss: 0.3961 | Val Acc: 0.7067\n",
            "\n"
          ]
        },
        {
          "output_type": "stream",
          "name": "stderr",
          "text": [
            "Training: 100%|██████████| 113/113 [00:03<00:00, 32.62batch/s]\n",
            "Validation: 100%|██████████| 29/29 [00:00<00:00, 72.21batch/s]\n"
          ]
        },
        {
          "output_type": "stream",
          "name": "stdout",
          "text": [
            "Epoch 57/100 | Train Loss: 0.4015 | Train Acc: 0.6967 | Val Loss: 0.3828 | Val Acc: 0.7167\n",
            "\n"
          ]
        },
        {
          "output_type": "stream",
          "name": "stderr",
          "text": [
            "Training: 100%|██████████| 113/113 [00:03<00:00, 30.68batch/s]\n",
            "Validation: 100%|██████████| 29/29 [00:00<00:00, 51.71batch/s]\n"
          ]
        },
        {
          "output_type": "stream",
          "name": "stdout",
          "text": [
            "Epoch 58/100 | Train Loss: 0.3946 | Train Acc: 0.7067 | Val Loss: 0.3817 | Val Acc: 0.7267\n",
            "\n"
          ]
        },
        {
          "output_type": "stream",
          "name": "stderr",
          "text": [
            "Training: 100%|██████████| 113/113 [00:04<00:00, 25.66batch/s]\n",
            "Validation: 100%|██████████| 29/29 [00:00<00:00, 72.72batch/s]\n"
          ]
        },
        {
          "output_type": "stream",
          "name": "stdout",
          "text": [
            "Epoch 59/100 | Train Loss: 0.3970 | Train Acc: 0.6981 | Val Loss: 0.4228 | Val Acc: 0.6778\n",
            "\n"
          ]
        },
        {
          "output_type": "stream",
          "name": "stderr",
          "text": [
            "Training: 100%|██████████| 113/113 [00:03<00:00, 32.06batch/s]\n",
            "Validation: 100%|██████████| 29/29 [00:00<00:00, 74.40batch/s]\n"
          ]
        },
        {
          "output_type": "stream",
          "name": "stdout",
          "text": [
            "Epoch 60/100 | Train Loss: 0.4098 | Train Acc: 0.6761 | Val Loss: 0.4037 | Val Acc: 0.6822\n",
            "\n"
          ]
        },
        {
          "output_type": "stream",
          "name": "stderr",
          "text": [
            "Training: 100%|██████████| 113/113 [00:03<00:00, 32.14batch/s]\n",
            "Validation: 100%|██████████| 29/29 [00:00<00:00, 71.54batch/s]\n"
          ]
        },
        {
          "output_type": "stream",
          "name": "stdout",
          "text": [
            "Epoch 61/100 | Train Loss: 0.3948 | Train Acc: 0.7036 | Val Loss: 0.3792 | Val Acc: 0.7133\n",
            "\n"
          ]
        },
        {
          "output_type": "stream",
          "name": "stderr",
          "text": [
            "Training: 100%|██████████| 113/113 [00:04<00:00, 24.28batch/s]\n",
            "Validation: 100%|██████████| 29/29 [00:00<00:00, 73.16batch/s]\n"
          ]
        },
        {
          "output_type": "stream",
          "name": "stdout",
          "text": [
            "Epoch 62/100 | Train Loss: 0.3846 | Train Acc: 0.7167 | Val Loss: 0.3868 | Val Acc: 0.7078\n",
            "\n"
          ]
        },
        {
          "output_type": "stream",
          "name": "stderr",
          "text": [
            "Training: 100%|██████████| 113/113 [00:03<00:00, 32.41batch/s]\n",
            "Validation: 100%|██████████| 29/29 [00:00<00:00, 70.13batch/s]\n"
          ]
        },
        {
          "output_type": "stream",
          "name": "stdout",
          "text": [
            "Epoch 63/100 | Train Loss: 0.3855 | Train Acc: 0.7175 | Val Loss: 0.3855 | Val Acc: 0.7478\n",
            "\n"
          ]
        },
        {
          "output_type": "stream",
          "name": "stderr",
          "text": [
            "Training: 100%|██████████| 113/113 [00:03<00:00, 32.48batch/s]\n",
            "Validation: 100%|██████████| 29/29 [00:00<00:00, 68.80batch/s]\n"
          ]
        },
        {
          "output_type": "stream",
          "name": "stdout",
          "text": [
            "Epoch 64/100 | Train Loss: 0.3821 | Train Acc: 0.7189 | Val Loss: 0.3861 | Val Acc: 0.7100\n",
            "\n"
          ]
        },
        {
          "output_type": "stream",
          "name": "stderr",
          "text": [
            "Training: 100%|██████████| 113/113 [00:04<00:00, 24.85batch/s]\n",
            "Validation: 100%|██████████| 29/29 [00:00<00:00, 50.59batch/s]\n"
          ]
        },
        {
          "output_type": "stream",
          "name": "stdout",
          "text": [
            "Epoch 65/100 | Train Loss: 0.3865 | Train Acc: 0.7172 | Val Loss: 0.3690 | Val Acc: 0.7422\n",
            "\n"
          ]
        },
        {
          "output_type": "stream",
          "name": "stderr",
          "text": [
            "Training: 100%|██████████| 113/113 [00:03<00:00, 30.33batch/s]\n",
            "Validation: 100%|██████████| 29/29 [00:00<00:00, 73.93batch/s]\n"
          ]
        },
        {
          "output_type": "stream",
          "name": "stdout",
          "text": [
            "Epoch 66/100 | Train Loss: 0.3732 | Train Acc: 0.7292 | Val Loss: 0.3734 | Val Acc: 0.7367\n",
            "\n"
          ]
        },
        {
          "output_type": "stream",
          "name": "stderr",
          "text": [
            "Training: 100%|██████████| 113/113 [00:03<00:00, 31.90batch/s]\n",
            "Validation: 100%|██████████| 29/29 [00:00<00:00, 69.70batch/s]\n"
          ]
        },
        {
          "output_type": "stream",
          "name": "stdout",
          "text": [
            "Epoch 67/100 | Train Loss: 0.3684 | Train Acc: 0.7347 | Val Loss: 0.3982 | Val Acc: 0.7078\n",
            "\n"
          ]
        },
        {
          "output_type": "stream",
          "name": "stderr",
          "text": [
            "Training: 100%|██████████| 113/113 [00:03<00:00, 28.61batch/s]\n",
            "Validation: 100%|██████████| 29/29 [00:00<00:00, 47.41batch/s]\n"
          ]
        },
        {
          "output_type": "stream",
          "name": "stdout",
          "text": [
            "Epoch 68/100 | Train Loss: 0.3754 | Train Acc: 0.7278 | Val Loss: 0.3910 | Val Acc: 0.7078\n",
            "\n"
          ]
        },
        {
          "output_type": "stream",
          "name": "stderr",
          "text": [
            "Training: 100%|██████████| 113/113 [00:04<00:00, 27.10batch/s]\n",
            "Validation: 100%|██████████| 29/29 [00:00<00:00, 69.40batch/s]\n"
          ]
        },
        {
          "output_type": "stream",
          "name": "stdout",
          "text": [
            "Epoch 69/100 | Train Loss: 0.3723 | Train Acc: 0.7269 | Val Loss: 0.3699 | Val Acc: 0.7433\n",
            "\n"
          ]
        },
        {
          "output_type": "stream",
          "name": "stderr",
          "text": [
            "Training: 100%|██████████| 113/113 [00:03<00:00, 31.89batch/s]\n",
            "Validation: 100%|██████████| 29/29 [00:00<00:00, 71.02batch/s]\n"
          ]
        },
        {
          "output_type": "stream",
          "name": "stdout",
          "text": [
            "Epoch 70/100 | Train Loss: 0.3674 | Train Acc: 0.7422 | Val Loss: 0.3650 | Val Acc: 0.7456\n",
            "\n"
          ]
        },
        {
          "output_type": "stream",
          "name": "stderr",
          "text": [
            "Training: 100%|██████████| 113/113 [00:03<00:00, 31.61batch/s]\n",
            "Validation: 100%|██████████| 29/29 [00:00<00:00, 47.99batch/s]\n"
          ]
        },
        {
          "output_type": "stream",
          "name": "stdout",
          "text": [
            "Epoch 71/100 | Train Loss: 0.3659 | Train Acc: 0.7403 | Val Loss: 0.3651 | Val Acc: 0.7544\n",
            "\n"
          ]
        },
        {
          "output_type": "stream",
          "name": "stderr",
          "text": [
            "Training: 100%|██████████| 113/113 [00:04<00:00, 24.99batch/s]\n",
            "Validation: 100%|██████████| 29/29 [00:00<00:00, 70.57batch/s]\n"
          ]
        },
        {
          "output_type": "stream",
          "name": "stdout",
          "text": [
            "Epoch 72/100 | Train Loss: 0.3605 | Train Acc: 0.7478 | Val Loss: 0.3830 | Val Acc: 0.7267\n",
            "\n"
          ]
        },
        {
          "output_type": "stream",
          "name": "stderr",
          "text": [
            "Training: 100%|██████████| 113/113 [00:03<00:00, 32.14batch/s]\n",
            "Validation: 100%|██████████| 29/29 [00:00<00:00, 70.78batch/s]\n"
          ]
        },
        {
          "output_type": "stream",
          "name": "stdout",
          "text": [
            "Epoch 73/100 | Train Loss: 0.3714 | Train Acc: 0.7347 | Val Loss: 0.3742 | Val Acc: 0.7378\n",
            "\n"
          ]
        },
        {
          "output_type": "stream",
          "name": "stderr",
          "text": [
            "Training: 100%|██████████| 113/113 [00:03<00:00, 31.76batch/s]\n",
            "Validation: 100%|██████████| 29/29 [00:00<00:00, 70.04batch/s]\n"
          ]
        },
        {
          "output_type": "stream",
          "name": "stdout",
          "text": [
            "Epoch 74/100 | Train Loss: 0.3643 | Train Acc: 0.7397 | Val Loss: 0.3685 | Val Acc: 0.7389\n",
            "\n"
          ]
        },
        {
          "output_type": "stream",
          "name": "stderr",
          "text": [
            "Training: 100%|██████████| 113/113 [00:04<00:00, 23.73batch/s]\n",
            "Validation: 100%|██████████| 29/29 [00:00<00:00, 66.73batch/s]\n"
          ]
        },
        {
          "output_type": "stream",
          "name": "stdout",
          "text": [
            "Epoch 75/100 | Train Loss: 0.3566 | Train Acc: 0.7503 | Val Loss: 0.3560 | Val Acc: 0.7644\n",
            "\n"
          ]
        },
        {
          "output_type": "stream",
          "name": "stderr",
          "text": [
            "Training: 100%|██████████| 113/113 [00:03<00:00, 32.09batch/s]\n",
            "Validation: 100%|██████████| 29/29 [00:00<00:00, 64.16batch/s]\n"
          ]
        },
        {
          "output_type": "stream",
          "name": "stdout",
          "text": [
            "Epoch 76/100 | Train Loss: 0.3566 | Train Acc: 0.7436 | Val Loss: 0.3669 | Val Acc: 0.7411\n",
            "\n"
          ]
        },
        {
          "output_type": "stream",
          "name": "stderr",
          "text": [
            "Training: 100%|██████████| 113/113 [00:03<00:00, 32.35batch/s]\n",
            "Validation: 100%|██████████| 29/29 [00:00<00:00, 66.32batch/s]\n"
          ]
        },
        {
          "output_type": "stream",
          "name": "stdout",
          "text": [
            "Epoch 77/100 | Train Loss: 0.3454 | Train Acc: 0.7606 | Val Loss: 0.4090 | Val Acc: 0.7133\n",
            "\n"
          ]
        },
        {
          "output_type": "stream",
          "name": "stderr",
          "text": [
            "Training: 100%|██████████| 113/113 [00:04<00:00, 25.53batch/s]\n",
            "Validation: 100%|██████████| 29/29 [00:00<00:00, 47.90batch/s]\n"
          ]
        },
        {
          "output_type": "stream",
          "name": "stdout",
          "text": [
            "Epoch 78/100 | Train Loss: 0.3541 | Train Acc: 0.7478 | Val Loss: 0.3440 | Val Acc: 0.7500\n",
            "\n"
          ]
        },
        {
          "output_type": "stream",
          "name": "stderr",
          "text": [
            "Training: 100%|██████████| 113/113 [00:03<00:00, 31.26batch/s]\n",
            "Validation: 100%|██████████| 29/29 [00:00<00:00, 70.74batch/s]\n"
          ]
        },
        {
          "output_type": "stream",
          "name": "stdout",
          "text": [
            "Epoch 79/100 | Train Loss: 0.3434 | Train Acc: 0.7678 | Val Loss: 0.3823 | Val Acc: 0.7222\n",
            "\n"
          ]
        },
        {
          "output_type": "stream",
          "name": "stderr",
          "text": [
            "Training: 100%|██████████| 113/113 [00:03<00:00, 31.80batch/s]\n",
            "Validation: 100%|██████████| 29/29 [00:00<00:00, 67.76batch/s]\n"
          ]
        },
        {
          "output_type": "stream",
          "name": "stdout",
          "text": [
            "Epoch 80/100 | Train Loss: 0.3552 | Train Acc: 0.7503 | Val Loss: 0.3602 | Val Acc: 0.7456\n",
            "\n"
          ]
        },
        {
          "output_type": "stream",
          "name": "stderr",
          "text": [
            "Training: 100%|██████████| 113/113 [00:04<00:00, 28.17batch/s]\n",
            "Validation: 100%|██████████| 29/29 [00:00<00:00, 51.21batch/s]\n"
          ]
        },
        {
          "output_type": "stream",
          "name": "stdout",
          "text": [
            "Epoch 81/100 | Train Loss: 0.3491 | Train Acc: 0.7553 | Val Loss: 0.3610 | Val Acc: 0.7433\n",
            "\n"
          ]
        },
        {
          "output_type": "stream",
          "name": "stderr",
          "text": [
            "Training: 100%|██████████| 113/113 [00:04<00:00, 28.00batch/s]\n",
            "Validation: 100%|██████████| 29/29 [00:00<00:00, 66.33batch/s]\n"
          ]
        },
        {
          "output_type": "stream",
          "name": "stdout",
          "text": [
            "Epoch 82/100 | Train Loss: 0.3386 | Train Acc: 0.7675 | Val Loss: 0.3588 | Val Acc: 0.7400\n",
            "\n"
          ]
        },
        {
          "output_type": "stream",
          "name": "stderr",
          "text": [
            "Training: 100%|██████████| 113/113 [00:03<00:00, 31.00batch/s]\n",
            "Validation: 100%|██████████| 29/29 [00:00<00:00, 48.79batch/s]\n"
          ]
        },
        {
          "output_type": "stream",
          "name": "stdout",
          "text": [
            "Epoch 83/100 | Train Loss: 0.3424 | Train Acc: 0.7658 | Val Loss: 0.3395 | Val Acc: 0.7600\n",
            "\n"
          ]
        },
        {
          "output_type": "stream",
          "name": "stderr",
          "text": [
            "Training: 100%|██████████| 113/113 [00:05<00:00, 22.35batch/s]\n",
            "Validation: 100%|██████████| 29/29 [00:00<00:00, 48.73batch/s]\n"
          ]
        },
        {
          "output_type": "stream",
          "name": "stdout",
          "text": [
            "Epoch 84/100 | Train Loss: 0.3560 | Train Acc: 0.7436 | Val Loss: 0.3513 | Val Acc: 0.7533\n",
            "\n"
          ]
        },
        {
          "output_type": "stream",
          "name": "stderr",
          "text": [
            "Training: 100%|██████████| 113/113 [00:04<00:00, 27.40batch/s]\n",
            "Validation: 100%|██████████| 29/29 [00:00<00:00, 70.35batch/s]\n"
          ]
        },
        {
          "output_type": "stream",
          "name": "stdout",
          "text": [
            "Epoch 85/100 | Train Loss: 0.3353 | Train Acc: 0.7617 | Val Loss: 0.3444 | Val Acc: 0.7711\n",
            "\n"
          ]
        },
        {
          "output_type": "stream",
          "name": "stderr",
          "text": [
            "Training: 100%|██████████| 113/113 [00:03<00:00, 32.27batch/s]\n",
            "Validation: 100%|██████████| 29/29 [00:00<00:00, 73.36batch/s]\n"
          ]
        },
        {
          "output_type": "stream",
          "name": "stdout",
          "text": [
            "Epoch 86/100 | Train Loss: 0.3348 | Train Acc: 0.7706 | Val Loss: 0.3387 | Val Acc: 0.7656\n",
            "\n"
          ]
        },
        {
          "output_type": "stream",
          "name": "stderr",
          "text": [
            "Training: 100%|██████████| 113/113 [00:03<00:00, 32.56batch/s]\n",
            "Validation: 100%|██████████| 29/29 [00:00<00:00, 52.14batch/s]\n"
          ]
        },
        {
          "output_type": "stream",
          "name": "stdout",
          "text": [
            "Epoch 87/100 | Train Loss: 0.3312 | Train Acc: 0.7756 | Val Loss: 0.3262 | Val Acc: 0.7744\n",
            "\n"
          ]
        },
        {
          "output_type": "stream",
          "name": "stderr",
          "text": [
            "Training: 100%|██████████| 113/113 [00:04<00:00, 24.52batch/s]\n",
            "Validation: 100%|██████████| 29/29 [00:00<00:00, 70.05batch/s]\n"
          ]
        },
        {
          "output_type": "stream",
          "name": "stdout",
          "text": [
            "Epoch 88/100 | Train Loss: 0.3267 | Train Acc: 0.7858 | Val Loss: 0.3299 | Val Acc: 0.7711\n",
            "\n"
          ]
        },
        {
          "output_type": "stream",
          "name": "stderr",
          "text": [
            "Training: 100%|██████████| 113/113 [00:03<00:00, 31.94batch/s]\n",
            "Validation: 100%|██████████| 29/29 [00:00<00:00, 71.78batch/s]\n"
          ]
        },
        {
          "output_type": "stream",
          "name": "stdout",
          "text": [
            "Epoch 89/100 | Train Loss: 0.3341 | Train Acc: 0.7664 | Val Loss: 0.3522 | Val Acc: 0.7444\n",
            "\n"
          ]
        },
        {
          "output_type": "stream",
          "name": "stderr",
          "text": [
            "Training: 100%|██████████| 113/113 [00:03<00:00, 32.54batch/s]\n",
            "Validation: 100%|██████████| 29/29 [00:00<00:00, 70.14batch/s]\n"
          ]
        },
        {
          "output_type": "stream",
          "name": "stdout",
          "text": [
            "Epoch 90/100 | Train Loss: 0.3278 | Train Acc: 0.7775 | Val Loss: 0.3247 | Val Acc: 0.7789\n",
            "\n"
          ]
        },
        {
          "output_type": "stream",
          "name": "stderr",
          "text": [
            "Training: 100%|██████████| 113/113 [00:04<00:00, 24.67batch/s]\n",
            "Validation: 100%|██████████| 29/29 [00:00<00:00, 50.90batch/s]\n"
          ]
        },
        {
          "output_type": "stream",
          "name": "stdout",
          "text": [
            "Epoch 91/100 | Train Loss: 0.3364 | Train Acc: 0.7717 | Val Loss: 0.3464 | Val Acc: 0.7644\n",
            "\n"
          ]
        },
        {
          "output_type": "stream",
          "name": "stderr",
          "text": [
            "Training: 100%|██████████| 113/113 [00:03<00:00, 31.70batch/s]\n",
            "Validation: 100%|██████████| 29/29 [00:00<00:00, 73.49batch/s]\n"
          ]
        },
        {
          "output_type": "stream",
          "name": "stdout",
          "text": [
            "Epoch 92/100 | Train Loss: 0.3246 | Train Acc: 0.7747 | Val Loss: 0.3384 | Val Acc: 0.7478\n",
            "\n"
          ]
        },
        {
          "output_type": "stream",
          "name": "stderr",
          "text": [
            "Training: 100%|██████████| 113/113 [00:03<00:00, 31.68batch/s]\n",
            "Validation: 100%|██████████| 29/29 [00:00<00:00, 71.45batch/s]\n"
          ]
        },
        {
          "output_type": "stream",
          "name": "stdout",
          "text": [
            "Epoch 93/100 | Train Loss: 0.3259 | Train Acc: 0.7811 | Val Loss: 0.3249 | Val Acc: 0.7833\n",
            "\n"
          ]
        },
        {
          "output_type": "stream",
          "name": "stderr",
          "text": [
            "Training: 100%|██████████| 113/113 [00:04<00:00, 27.75batch/s]\n",
            "Validation: 100%|██████████| 29/29 [00:00<00:00, 47.00batch/s]\n"
          ]
        },
        {
          "output_type": "stream",
          "name": "stdout",
          "text": [
            "Epoch 94/100 | Train Loss: 0.3205 | Train Acc: 0.7936 | Val Loss: 0.3417 | Val Acc: 0.7567\n",
            "\n"
          ]
        },
        {
          "output_type": "stream",
          "name": "stderr",
          "text": [
            "Training: 100%|██████████| 113/113 [00:03<00:00, 29.18batch/s]\n",
            "Validation: 100%|██████████| 29/29 [00:00<00:00, 70.74batch/s]\n"
          ]
        },
        {
          "output_type": "stream",
          "name": "stdout",
          "text": [
            "Epoch 95/100 | Train Loss: 0.3184 | Train Acc: 0.7772 | Val Loss: 0.3327 | Val Acc: 0.7733\n",
            "\n"
          ]
        },
        {
          "output_type": "stream",
          "name": "stderr",
          "text": [
            "Training: 100%|██████████| 113/113 [00:03<00:00, 31.49batch/s]\n",
            "Validation: 100%|██████████| 29/29 [00:00<00:00, 70.69batch/s]\n"
          ]
        },
        {
          "output_type": "stream",
          "name": "stdout",
          "text": [
            "Epoch 96/100 | Train Loss: 0.3269 | Train Acc: 0.7750 | Val Loss: 0.3605 | Val Acc: 0.7389\n",
            "\n"
          ]
        },
        {
          "output_type": "stream",
          "name": "stderr",
          "text": [
            "Training: 100%|██████████| 113/113 [00:03<00:00, 29.73batch/s]\n",
            "Validation: 100%|██████████| 29/29 [00:00<00:00, 51.10batch/s]\n"
          ]
        },
        {
          "output_type": "stream",
          "name": "stdout",
          "text": [
            "Epoch 97/100 | Train Loss: 0.3111 | Train Acc: 0.7878 | Val Loss: 0.3435 | Val Acc: 0.7489\n",
            "\n"
          ]
        },
        {
          "output_type": "stream",
          "name": "stderr",
          "text": [
            "Training: 100%|██████████| 113/113 [00:04<00:00, 26.43batch/s]\n",
            "Validation: 100%|██████████| 29/29 [00:00<00:00, 71.88batch/s]\n"
          ]
        },
        {
          "output_type": "stream",
          "name": "stdout",
          "text": [
            "Epoch 98/100 | Train Loss: 0.3255 | Train Acc: 0.7881 | Val Loss: 0.3214 | Val Acc: 0.7889\n",
            "\n"
          ]
        },
        {
          "output_type": "stream",
          "name": "stderr",
          "text": [
            "Training: 100%|██████████| 113/113 [00:03<00:00, 31.95batch/s]\n",
            "Validation: 100%|██████████| 29/29 [00:00<00:00, 72.68batch/s]\n"
          ]
        },
        {
          "output_type": "stream",
          "name": "stdout",
          "text": [
            "Epoch 99/100 | Train Loss: 0.3155 | Train Acc: 0.7928 | Val Loss: 0.3445 | Val Acc: 0.7556\n",
            "\n"
          ]
        },
        {
          "output_type": "stream",
          "name": "stderr",
          "text": [
            "Training: 100%|██████████| 113/113 [00:03<00:00, 31.77batch/s]\n",
            "Validation: 100%|██████████| 29/29 [00:00<00:00, 53.37batch/s]"
          ]
        },
        {
          "output_type": "stream",
          "name": "stdout",
          "text": [
            "Epoch 100/100 | Train Loss: 0.3166 | Train Acc: 0.7822 | Val Loss: 0.3132 | Val Acc: 0.7933\n",
            "\n",
            "Restored model to the best state based on validation loss.\n"
          ]
        },
        {
          "output_type": "stream",
          "name": "stderr",
          "text": [
            "\n"
          ]
        }
      ]
    },
    {
      "cell_type": "code",
      "source": [
        "epochs_range = range(EPOCHS)\n",
        "plt.figure(figsize=(15, 15))\n",
        "plt.subplot(2, 2, 1)\n",
        "plt.plot(epochs_range, history['Train Acc'], label='Training Accuracy')\n",
        "plt.plot(epochs_range, history['Val Acc'], label='Validation Accuracy')\n",
        "plt.legend(loc='lower right')\n",
        "plt.title('Training and Validation Accuracy')\n",
        "\n",
        "plt.subplot(2, 2, 2)\n",
        "plt.plot(epochs_range, history['Train Loss'], label='Training Loss')\n",
        "plt.plot(epochs_range, history['Val Loss'], label='Validation Loss')\n",
        "plt.legend(loc='upper right')\n",
        "plt.title('Training and Validation Loss')\n",
        "plt.show()"
      ],
      "metadata": {
        "colab": {
          "base_uri": "https://localhost:8080/",
          "height": 608
        },
        "id": "b7AQ3G4Ysj-t",
        "outputId": "6ef31785-007e-430b-aa93-5b5b49b469fd"
      },
      "execution_count": null,
      "outputs": [
        {
          "output_type": "display_data",
          "data": {
            "text/plain": [
              "<Figure size 1500x1500 with 2 Axes>"
            ],
            "image/png": "[encoded data removed]"
          },
          "metadata": {}
        }
      ]
    },
    {
      "cell_type": "code",
      "source": [
        "from sklearn.metrics import confusion_matrix, precision_score, recall_score, f1_score, accuracy_score\n",
        "\n",
        "def tune_threshold(threshold):\n",
        "    best_f1, best_thres = 0, 0\n",
        "    y_t, y_p = 0, 0\n",
        "    for i in threshold:\n",
        "        y_true, y_pred = model.eval(threshold=i)\n",
        "        f1 = f1_score(y_true, y_pred, average='macro')\n",
        "        if best_f1 < f1:\n",
        "            best_f1, best_thres = f1, i\n",
        "            y_t = y_true\n",
        "            y_p = y_pred\n",
        "    return best_thres, y_t, y_p\n",
        "\n",
        "threshold, y_true, y_pred = tune_threshold(np.arange(0.1, 0.95, 0.05))"
      ],
      "metadata": {
        "id": "6N7kUZSmWioD",
        "outputId": "b5a63152-daed-4961-b332-4823aa3a94a8",
        "colab": {
          "base_uri": "https://localhost:8080/"
        }
      },
      "execution_count": null,
      "outputs": [
        {
          "output_type": "stream",
          "name": "stderr",
          "text": [
            "Validation: 100%|██████████| 29/29 [00:00<00:00, 49.54batch/s]\n",
            "Validation: 100%|██████████| 29/29 [00:00<00:00, 46.91batch/s]\n",
            "Validation: 100%|██████████| 29/29 [00:00<00:00, 47.44batch/s]\n",
            "Validation: 100%|██████████| 29/29 [00:00<00:00, 50.05batch/s]\n",
            "Validation: 100%|██████████| 29/29 [00:00<00:00, 49.37batch/s]\n",
            "Validation: 100%|██████████| 29/29 [00:00<00:00, 72.83batch/s]\n",
            "Validation: 100%|██████████| 29/29 [00:00<00:00, 71.88batch/s]\n",
            "Validation: 100%|██████████| 29/29 [00:00<00:00, 73.14batch/s]\n",
            "Validation: 100%|██████████| 29/29 [00:00<00:00, 70.56batch/s]\n",
            "Validation: 100%|██████████| 29/29 [00:00<00:00, 72.27batch/s]\n",
            "Validation: 100%|██████████| 29/29 [00:00<00:00, 69.06batch/s]\n",
            "Validation: 100%|██████████| 29/29 [00:00<00:00, 71.28batch/s]\n",
            "Validation: 100%|██████████| 29/29 [00:00<00:00, 68.30batch/s]\n",
            "Validation: 100%|██████████| 29/29 [00:00<00:00, 73.54batch/s]\n",
            "Validation: 100%|██████████| 29/29 [00:00<00:00, 71.35batch/s]\n",
            "Validation: 100%|██████████| 29/29 [00:00<00:00, 66.55batch/s]\n",
            "Validation: 100%|██████████| 29/29 [00:00<00:00, 73.66batch/s]\n"
          ]
        }
      ]
    },
    {
      "cell_type": "code",
      "source": [
        "precision = precision_score(y_true, y_pred, average='macro')\n",
        "recall = recall_score(y_true, y_pred, average='macro')\n",
        "f1 = f1_score(y_true, y_pred, average='macro')\n",
        "accuracy = accuracy_score(y_true, y_pred)\n",
        "\n",
        "print(f\"Precision: {precision:.2f}\")\n",
        "print(f\"Recall: {recall:.2f}\")\n",
        "print(f\"F1 Score: {f1:.2f}\")\n",
        "print(f\"Akurasi: {accuracy:.2f}\")\n",
        "print(f\"Threshold: {threshold:.2f}\")\n",
        "\n",
        "cm = confusion_matrix(y_true, y_pred)\n",
        "\n",
        "plt.figure(figsize=(6, 5))\n",
        "sns.heatmap(cm, annot=True, fmt='d', cmap='Blues', xticklabels=['Inactive', 'Active'], yticklabels=['Inactive', 'Active'])\n",
        "plt.title('Confusion Matrix')\n",
        "plt.xlabel('Predicted')\n",
        "plt.ylabel('True')\n",
        "plt.show()"
      ],
      "metadata": {
        "id": "5f_QYTpNAlJD",
        "outputId": "93eaded9-45a8-4ee5-c35d-5942db6f176e",
        "colab": {
          "base_uri": "https://localhost:8080/",
          "height": 574
        }
      },
      "execution_count": null,
      "outputs": [
        {
          "output_type": "stream",
          "name": "stdout",
          "text": [
            "Precision: 0.81\n",
            "Recall: 0.80\n",
            "F1 Score: 0.80\n",
            "Akurasi: 0.81\n",
            "Threshold: 0.55\n"
          ]
        },
        {
          "output_type": "display_data",
          "data": {
            "text/plain": [
              "<Figure size 600x500 with 2 Axes>"
            ],
            "image/png": "[encoded data removed]"
          },
          "metadata": {}
        }
      ]
    },
    {
      "cell_type": "code",
      "source": [
        "def predict(model, molekul, threshold):\n",
        "    prob = model.predict(molekul)\n",
        "    pred = \"active\" if prob[0] > threshold else \"inactive\"\n",
        "    return pred\n",
        "\n",
        "print(predict(model, \"Oc1cccc(-c2nc(N3CCOCC3)c3sccc3n2)c1\", threshold))\n",
        "print(predict(model, \"CCn1c(=O)c2ccnn2c2cc(NC)c(C(=O)NCc3cccnc3)cc21\", threshold))"
      ],
      "metadata": {
        "id": "ATlQsdbgvw8_",
        "outputId": "5e3e903e-f023-405d-a88b-9bd14feda3c4",
        "colab": {
          "base_uri": "https://localhost:8080/"
        }
      },
      "execution_count": null,
      "outputs": [
        {
          "output_type": "stream",
          "name": "stdout",
          "text": [
            "active\n",
            "inactive\n"
          ]
        }
      ]
    }
  ],
  "metadata": {
    "colab": {
      "provenance": [],
      "include_colab_link": true
    },
    "kernelspec": {
      "display_name": "Python 3",
      "name": "python3"
    },
    "language_info": {
      "name": "python"
    }
  },
  "nbformat": 4,
  "nbformat_minor": 0
}