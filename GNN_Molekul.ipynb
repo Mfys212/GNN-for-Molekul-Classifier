{
  "cells": [
    {
      "cell_type": "markdown",
      "metadata": {
        "id": "view-in-github",
        "colab_type": "text"
      },
      "source": [
        "<a href=\"https://colab.research.google.com/github/Mfys212/GNN-for-Molekul-Classifier/blob/main/GNN_Molekul.ipynb\" target=\"_parent\"><img src=\"https://colab.research.google.com/assets/colab-badge.svg\" alt=\"Open In Colab\"/></a>"
      ]
    },
    {
      "cell_type": "code",
      "source": [
        "# !pip install chembl_webresource_client\n",
        "!pip install torch_geometric\n",
        "!pip install rdkit"
      ],
      "metadata": {
        "id": "--8TQ0D9W6Al",
        "outputId": "8434ed95-53a2-40f0-b264-5a2dc5917acb",
        "colab": {
          "base_uri": "https://localhost:8080/"
        }
      },
      "execution_count": 1,
      "outputs": [
        {
          "output_type": "stream",
          "name": "stdout",
          "text": [
            "Collecting torch_geometric\n",
            "  Downloading torch_geometric-2.6.1-py3-none-any.whl.metadata (63 kB)\n",
            "\u001b[?25l     \u001b[90m━━━━━━━━━━━━━━━━━━━━━━━━━━━━━━━━━━━━━━━━\u001b[0m \u001b[32m0.0/63.1 kB\u001b[0m \u001b[31m?\u001b[0m eta \u001b[36m-:--:--\u001b[0m\r\u001b[2K     \u001b[91m━━━━━━━━━━━━━━━━━━━━━━━━━━━━━━━━━━━━━━\u001b[0m\u001b[91m╸\u001b[0m\u001b[90m━\u001b[0m \u001b[32m61.4/63.1 kB\u001b[0m \u001b[31m8.1 MB/s\u001b[0m eta \u001b[36m0:00:01\u001b[0m\r\u001b[2K     \u001b[90m━━━━━━━━━━━━━━━━━━━━━━━━━━━━━━━━━━━━━━━━\u001b[0m \u001b[32m63.1/63.1 kB\u001b[0m \u001b[31m880.3 kB/s\u001b[0m eta \u001b[36m0:00:00\u001b[0m\n",
            "\u001b[?25hRequirement already satisfied: aiohttp in /usr/local/lib/python3.10/dist-packages (from torch_geometric) (3.11.10)\n",
            "Requirement already satisfied: fsspec in /usr/local/lib/python3.10/dist-packages (from torch_geometric) (2024.10.0)\n",
            "Requirement already satisfied: jinja2 in /usr/local/lib/python3.10/dist-packages (from torch_geometric) (3.1.4)\n",
            "Requirement already satisfied: numpy in /usr/local/lib/python3.10/dist-packages (from torch_geometric) (1.26.4)\n",
            "Requirement already satisfied: psutil>=5.8.0 in /usr/local/lib/python3.10/dist-packages (from torch_geometric) (5.9.5)\n",
            "Requirement already satisfied: pyparsing in /usr/local/lib/python3.10/dist-packages (from torch_geometric) (3.2.0)\n",
            "Requirement already satisfied: requests in /usr/local/lib/python3.10/dist-packages (from torch_geometric) (2.32.3)\n",
            "Requirement already satisfied: tqdm in /usr/local/lib/python3.10/dist-packages (from torch_geometric) (4.67.1)\n",
            "Requirement already satisfied: aiohappyeyeballs>=2.3.0 in /usr/local/lib/python3.10/dist-packages (from aiohttp->torch_geometric) (2.4.4)\n",
            "Requirement already satisfied: aiosignal>=1.1.2 in /usr/local/lib/python3.10/dist-packages (from aiohttp->torch_geometric) (1.3.2)\n",
            "Requirement already satisfied: async-timeout<6.0,>=4.0 in /usr/local/lib/python3.10/dist-packages (from aiohttp->torch_geometric) (4.0.3)\n",
            "Requirement already satisfied: attrs>=17.3.0 in /usr/local/lib/python3.10/dist-packages (from aiohttp->torch_geometric) (24.3.0)\n",
            "Requirement already satisfied: frozenlist>=1.1.1 in /usr/local/lib/python3.10/dist-packages (from aiohttp->torch_geometric) (1.5.0)\n",
            "Requirement already satisfied: multidict<7.0,>=4.5 in /usr/local/lib/python3.10/dist-packages (from aiohttp->torch_geometric) (6.1.0)\n",
            "Requirement already satisfied: propcache>=0.2.0 in /usr/local/lib/python3.10/dist-packages (from aiohttp->torch_geometric) (0.2.1)\n",
            "Requirement already satisfied: yarl<2.0,>=1.17.0 in /usr/local/lib/python3.10/dist-packages (from aiohttp->torch_geometric) (1.18.3)\n",
            "Requirement already satisfied: MarkupSafe>=2.0 in /usr/local/lib/python3.10/dist-packages (from jinja2->torch_geometric) (3.0.2)\n",
            "Requirement already satisfied: charset-normalizer<4,>=2 in /usr/local/lib/python3.10/dist-packages (from requests->torch_geometric) (3.4.0)\n",
            "Requirement already satisfied: idna<4,>=2.5 in /usr/local/lib/python3.10/dist-packages (from requests->torch_geometric) (3.10)\n",
            "Requirement already satisfied: urllib3<3,>=1.21.1 in /usr/local/lib/python3.10/dist-packages (from requests->torch_geometric) (2.2.3)\n",
            "Requirement already satisfied: certifi>=2017.4.17 in /usr/local/lib/python3.10/dist-packages (from requests->torch_geometric) (2024.12.14)\n",
            "Requirement already satisfied: typing-extensions>=4.1.0 in /usr/local/lib/python3.10/dist-packages (from multidict<7.0,>=4.5->aiohttp->torch_geometric) (4.12.2)\n",
            "Downloading torch_geometric-2.6.1-py3-none-any.whl (1.1 MB)\n",
            "\u001b[2K   \u001b[90m━━━━━━━━━━━━━━━━━━━━━━━━━━━━━━━━━━━━━━━━\u001b[0m \u001b[32m1.1/1.1 MB\u001b[0m \u001b[31m3.1 MB/s\u001b[0m eta \u001b[36m0:00:00\u001b[0m\n",
            "\u001b[?25hInstalling collected packages: torch_geometric\n",
            "Successfully installed torch_geometric-2.6.1\n",
            "Collecting rdkit\n",
            "  Downloading rdkit-2024.3.6-cp310-cp310-manylinux_2_28_x86_64.whl.metadata (4.0 kB)\n",
            "Requirement already satisfied: numpy in /usr/local/lib/python3.10/dist-packages (from rdkit) (1.26.4)\n",
            "Requirement already satisfied: Pillow in /usr/local/lib/python3.10/dist-packages (from rdkit) (11.0.0)\n",
            "Downloading rdkit-2024.3.6-cp310-cp310-manylinux_2_28_x86_64.whl (32.8 MB)\n",
            "\u001b[2K   \u001b[90m━━━━━━━━━━━━━━━━━━━━━━━━━━━━━━━━━━━━━━━━\u001b[0m \u001b[32m32.8/32.8 MB\u001b[0m \u001b[31m22.8 MB/s\u001b[0m eta \u001b[36m0:00:00\u001b[0m\n",
            "\u001b[?25hInstalling collected packages: rdkit\n",
            "Successfully installed rdkit-2024.3.6\n"
          ]
        }
      ]
    },
    {
      "cell_type": "code",
      "source": [
        "# from chembl_webresource_client.new_client import new_client\n",
        "import pandas as pd\n",
        "import torch\n",
        "from torch import nn\n",
        "from torch_geometric.data import Data\n",
        "from torch_geometric.loader import DataLoader as DL_geo\n",
        "from torch_geometric.nn import GCNConv, global_mean_pool, GINEConv\n",
        "from torch.utils.data import DataLoader, TensorDataset\n",
        "from rdkit import Chem\n",
        "from rdkit.Chem import rdmolops, AllChem, Draw\n",
        "import torch.nn.functional as F\n",
        "from imblearn.over_sampling import RandomOverSampler\n",
        "from imblearn.under_sampling import RandomUnderSampler\n",
        "from sklearn.model_selection import train_test_split\n",
        "import concurrent.futures\n",
        "from tqdm import tqdm\n",
        "import numpy as np\n",
        "import matplotlib.pyplot as plt\n",
        "import seaborn as sns"
      ],
      "metadata": {
        "id": "H9b0EHqQXYjd"
      },
      "execution_count": 2,
      "outputs": []
    },
    {
      "cell_type": "code",
      "source": [
        "# target = new_client.target\n",
        "# target_query = target.search('PI3K (Phosphoinositide 3-kinases)')\n",
        "# targets = pd.DataFrame.from_dict(target_query)\n",
        "# targets"
      ],
      "metadata": {
        "id": "97GJzUcTXEQD",
        "outputId": "52c604a2-b3cc-49db-e15f-48a92508ad1a",
        "colab": {
          "base_uri": "https://localhost:8080/",
          "height": 597
        }
      },
      "execution_count": null,
      "outputs": [
        {
          "output_type": "execute_result",
          "data": {
            "text/plain": [
              "     cross_references           organism  \\\n",
              "0                  []       Homo sapiens   \n",
              "1                  []       Homo sapiens   \n",
              "2                  []  Rattus norvegicus   \n",
              "3                  []       Homo sapiens   \n",
              "4                  []       Homo sapiens   \n",
              "...               ...                ...   \n",
              "3094               []       Homo sapiens   \n",
              "3095               []       Homo sapiens   \n",
              "3096               []       Homo sapiens   \n",
              "3097               []       Homo sapiens   \n",
              "3098               []       Homo sapiens   \n",
              "\n",
              "                                              pref_name  score  \\\n",
              "0     Phosphatidylinositol-4-phosphate 3-kinase C2 d...   26.0   \n",
              "1     Phosphatidylinositol-4-phosphate 3-kinase C2 d...   24.0   \n",
              "2     Phosphatidylinositol 3-kinase catalytic subuni...   24.0   \n",
              "3                                           VPS15-VPS34   24.0   \n",
              "4     Phosphatidylinositol-4-phosphate 3-kinase C2 d...   23.0   \n",
              "...                                                 ...    ...   \n",
              "3094  Ubiquitin-like domain-containing CTD phosphata...    0.0   \n",
              "3095                             Protein phosphatase 1G    0.0   \n",
              "3096             Serine/threonine-protein phosphatase 5    0.0   \n",
              "3097                                       80S Ribosome    0.0   \n",
              "3098                                    Cytochrome P450    0.0   \n",
              "\n",
              "      species_group_flag target_chembl_id  \\\n",
              "0                  False       CHEMBL5554   \n",
              "1                  False    CHEMBL1163120   \n",
              "2                  False    CHEMBL5291577   \n",
              "3                  False    CHEMBL5483084   \n",
              "4                  False    CHEMBL1075102   \n",
              "...                  ...              ...   \n",
              "3094               False    CHEMBL3317333   \n",
              "3095               False    CHEMBL3351199   \n",
              "3096               False    CHEMBL3425389   \n",
              "3097               False    CHEMBL3987582   \n",
              "3098               False    CHEMBL4523986   \n",
              "\n",
              "                                      target_components  \\\n",
              "0     [{'accession': 'O00750', 'component_descriptio...   \n",
              "1     [{'accession': 'O75747', 'component_descriptio...   \n",
              "2     [{'accession': 'O88763', 'component_descriptio...   \n",
              "3     [{'accession': 'Q8NEB9', 'component_descriptio...   \n",
              "4     [{'accession': 'O00443', 'component_descriptio...   \n",
              "...                                                 ...   \n",
              "3094  [{'accession': 'Q8WVY7', 'component_descriptio...   \n",
              "3095  [{'accession': 'O15355', 'component_descriptio...   \n",
              "3096  [{'accession': 'P53041', 'component_descriptio...   \n",
              "3097  [{'accession': 'P08865', 'component_descriptio...   \n",
              "3098  [{'accession': 'P08684', 'component_descriptio...   \n",
              "\n",
              "                       target_type   tax_id  \n",
              "0                   SINGLE PROTEIN   9606.0  \n",
              "1                   SINGLE PROTEIN   9606.0  \n",
              "2                   SINGLE PROTEIN  10116.0  \n",
              "3                  PROTEIN COMPLEX   9606.0  \n",
              "4                   SINGLE PROTEIN   9606.0  \n",
              "...                            ...      ...  \n",
              "3094                SINGLE PROTEIN   9606.0  \n",
              "3095                SINGLE PROTEIN   9606.0  \n",
              "3096                SINGLE PROTEIN   9606.0  \n",
              "3097  PROTEIN NUCLEIC-ACID COMPLEX   9606.0  \n",
              "3098                PROTEIN FAMILY   9606.0  \n",
              "\n",
              "[3099 rows x 9 columns]"
            ],
            "text/html": [
              "\n",
              "  <div id=\"df-c80b6092-fb43-4655-8606-b5781b0ef9a6\" class=\"colab-df-container\">\n",
              "    <div>\n",
              "<style scoped>\n",
              "    .dataframe tbody tr th:only-of-type {\n",
              "        vertical-align: middle;\n",
              "    }\n",
              "\n",
              "    .dataframe tbody tr th {\n",
              "        vertical-align: top;\n",
              "    }\n",
              "\n",
              "    .dataframe thead th {\n",
              "        text-align: right;\n",
              "    }\n",
              "</style>\n",
              "<table border=\"1\" class=\"dataframe\">\n",
              "  <thead>\n",
              "    <tr style=\"text-align: right;\">\n",
              "      <th></th>\n",
              "      <th>cross_references</th>\n",
              "      <th>organism</th>\n",
              "      <th>pref_name</th>\n",
              "      <th>score</th>\n",
              "      <th>species_group_flag</th>\n",
              "      <th>target_chembl_id</th>\n",
              "      <th>target_components</th>\n",
              "      <th>target_type</th>\n",
              "      <th>tax_id</th>\n",
              "    </tr>\n",
              "  </thead>\n",
              "  <tbody>\n",
              "    <tr>\n",
              "      <th>0</th>\n",
              "      <td>[]</td>\n",
              "      <td>Homo sapiens</td>\n",
              "      <td>Phosphatidylinositol-4-phosphate 3-kinase C2 d...</td>\n",
              "      <td>26.0</td>\n",
              "      <td>False</td>\n",
              "      <td>CHEMBL5554</td>\n",
              "      <td>[{'accession': 'O00750', 'component_descriptio...</td>\n",
              "      <td>SINGLE PROTEIN</td>\n",
              "      <td>9606.0</td>\n",
              "    </tr>\n",
              "    <tr>\n",
              "      <th>1</th>\n",
              "      <td>[]</td>\n",
              "      <td>Homo sapiens</td>\n",
              "      <td>Phosphatidylinositol-4-phosphate 3-kinase C2 d...</td>\n",
              "      <td>24.0</td>\n",
              "      <td>False</td>\n",
              "      <td>CHEMBL1163120</td>\n",
              "      <td>[{'accession': 'O75747', 'component_descriptio...</td>\n",
              "      <td>SINGLE PROTEIN</td>\n",
              "      <td>9606.0</td>\n",
              "    </tr>\n",
              "    <tr>\n",
              "      <th>2</th>\n",
              "      <td>[]</td>\n",
              "      <td>Rattus norvegicus</td>\n",
              "      <td>Phosphatidylinositol 3-kinase catalytic subuni...</td>\n",
              "      <td>24.0</td>\n",
              "      <td>False</td>\n",
              "      <td>CHEMBL5291577</td>\n",
              "      <td>[{'accession': 'O88763', 'component_descriptio...</td>\n",
              "      <td>SINGLE PROTEIN</td>\n",
              "      <td>10116.0</td>\n",
              "    </tr>\n",
              "    <tr>\n",
              "      <th>3</th>\n",
              "      <td>[]</td>\n",
              "      <td>Homo sapiens</td>\n",
              "      <td>VPS15-VPS34</td>\n",
              "      <td>24.0</td>\n",
              "      <td>False</td>\n",
              "      <td>CHEMBL5483084</td>\n",
              "      <td>[{'accession': 'Q8NEB9', 'component_descriptio...</td>\n",
              "      <td>PROTEIN COMPLEX</td>\n",
              "      <td>9606.0</td>\n",
              "    </tr>\n",
              "    <tr>\n",
              "      <th>4</th>\n",
              "      <td>[]</td>\n",
              "      <td>Homo sapiens</td>\n",
              "      <td>Phosphatidylinositol-4-phosphate 3-kinase C2 d...</td>\n",
              "      <td>23.0</td>\n",
              "      <td>False</td>\n",
              "      <td>CHEMBL1075102</td>\n",
              "      <td>[{'accession': 'O00443', 'component_descriptio...</td>\n",
              "      <td>SINGLE PROTEIN</td>\n",
              "      <td>9606.0</td>\n",
              "    </tr>\n",
              "    <tr>\n",
              "      <th>...</th>\n",
              "      <td>...</td>\n",
              "      <td>...</td>\n",
              "      <td>...</td>\n",
              "      <td>...</td>\n",
              "      <td>...</td>\n",
              "      <td>...</td>\n",
              "      <td>...</td>\n",
              "      <td>...</td>\n",
              "      <td>...</td>\n",
              "    </tr>\n",
              "    <tr>\n",
              "      <th>3094</th>\n",
              "      <td>[]</td>\n",
              "      <td>Homo sapiens</td>\n",
              "      <td>Ubiquitin-like domain-containing CTD phosphata...</td>\n",
              "      <td>0.0</td>\n",
              "      <td>False</td>\n",
              "      <td>CHEMBL3317333</td>\n",
              "      <td>[{'accession': 'Q8WVY7', 'component_descriptio...</td>\n",
              "      <td>SINGLE PROTEIN</td>\n",
              "      <td>9606.0</td>\n",
              "    </tr>\n",
              "    <tr>\n",
              "      <th>3095</th>\n",
              "      <td>[]</td>\n",
              "      <td>Homo sapiens</td>\n",
              "      <td>Protein phosphatase 1G</td>\n",
              "      <td>0.0</td>\n",
              "      <td>False</td>\n",
              "      <td>CHEMBL3351199</td>\n",
              "      <td>[{'accession': 'O15355', 'component_descriptio...</td>\n",
              "      <td>SINGLE PROTEIN</td>\n",
              "      <td>9606.0</td>\n",
              "    </tr>\n",
              "    <tr>\n",
              "      <th>3096</th>\n",
              "      <td>[]</td>\n",
              "      <td>Homo sapiens</td>\n",
              "      <td>Serine/threonine-protein phosphatase 5</td>\n",
              "      <td>0.0</td>\n",
              "      <td>False</td>\n",
              "      <td>CHEMBL3425389</td>\n",
              "      <td>[{'accession': 'P53041', 'component_descriptio...</td>\n",
              "      <td>SINGLE PROTEIN</td>\n",
              "      <td>9606.0</td>\n",
              "    </tr>\n",
              "    <tr>\n",
              "      <th>3097</th>\n",
              "      <td>[]</td>\n",
              "      <td>Homo sapiens</td>\n",
              "      <td>80S Ribosome</td>\n",
              "      <td>0.0</td>\n",
              "      <td>False</td>\n",
              "      <td>CHEMBL3987582</td>\n",
              "      <td>[{'accession': 'P08865', 'component_descriptio...</td>\n",
              "      <td>PROTEIN NUCLEIC-ACID COMPLEX</td>\n",
              "      <td>9606.0</td>\n",
              "    </tr>\n",
              "    <tr>\n",
              "      <th>3098</th>\n",
              "      <td>[]</td>\n",
              "      <td>Homo sapiens</td>\n",
              "      <td>Cytochrome P450</td>\n",
              "      <td>0.0</td>\n",
              "      <td>False</td>\n",
              "      <td>CHEMBL4523986</td>\n",
              "      <td>[{'accession': 'P08684', 'component_descriptio...</td>\n",
              "      <td>PROTEIN FAMILY</td>\n",
              "      <td>9606.0</td>\n",
              "    </tr>\n",
              "  </tbody>\n",
              "</table>\n",
              "<p>3099 rows × 9 columns</p>\n",
              "</div>\n",
              "    <div class=\"colab-df-buttons\">\n",
              "\n",
              "  <div class=\"colab-df-container\">\n",
              "    <button class=\"colab-df-convert\" onclick=\"convertToInteractive('df-c80b6092-fb43-4655-8606-b5781b0ef9a6')\"\n",
              "            title=\"Convert this dataframe to an interactive table.\"\n",
              "            style=\"display:none;\">\n",
              "\n",
              "  <svg xmlns=\"http://www.w3.org/2000/svg\" height=\"24px\" viewBox=\"0 -960 960 960\">\n",
              "    <path d=\"M120-120v-720h720v720H120Zm60-500h600v-160H180v160Zm220 220h160v-160H400v160Zm0 220h160v-160H400v160ZM180-400h160v-160H180v160Zm440 0h160v-160H620v160ZM180-180h160v-160H180v160Zm440 0h160v-160H620v160Z\"/>\n",
              "  </svg>\n",
              "    </button>\n",
              "\n",
              "  <style>\n",
              "    .colab-df-container {\n",
              "      display:flex;\n",
              "      gap: 12px;\n",
              "    }\n",
              "\n",
              "    .colab-df-convert {\n",
              "      background-color: #E8F0FE;\n",
              "      border: none;\n",
              "      border-radius: 50%;\n",
              "      cursor: pointer;\n",
              "      display: none;\n",
              "      fill: #1967D2;\n",
              "      height: 32px;\n",
              "      padding: 0 0 0 0;\n",
              "      width: 32px;\n",
              "    }\n",
              "\n",
              "    .colab-df-convert:hover {\n",
              "      background-color: #E2EBFA;\n",
              "      box-shadow: 0px 1px 2px rgba(60, 64, 67, 0.3), 0px 1px 3px 1px rgba(60, 64, 67, 0.15);\n",
              "      fill: #174EA6;\n",
              "    }\n",
              "\n",
              "    .colab-df-buttons div {\n",
              "      margin-bottom: 4px;\n",
              "    }\n",
              "\n",
              "    [theme=dark] .colab-df-convert {\n",
              "      background-color: #3B4455;\n",
              "      fill: #D2E3FC;\n",
              "    }\n",
              "\n",
              "    [theme=dark] .colab-df-convert:hover {\n",
              "      background-color: #434B5C;\n",
              "      box-shadow: 0px 1px 3px 1px rgba(0, 0, 0, 0.15);\n",
              "      filter: drop-shadow(0px 1px 2px rgba(0, 0, 0, 0.3));\n",
              "      fill: #FFFFFF;\n",
              "    }\n",
              "  </style>\n",
              "\n",
              "    <script>\n",
              "      const buttonEl =\n",
              "        document.querySelector('#df-c80b6092-fb43-4655-8606-b5781b0ef9a6 button.colab-df-convert');\n",
              "      buttonEl.style.display =\n",
              "        google.colab.kernel.accessAllowed ? 'block' : 'none';\n",
              "\n",
              "      async function convertToInteractive(key) {\n",
              "        const element = document.querySelector('#df-c80b6092-fb43-4655-8606-b5781b0ef9a6');\n",
              "        const dataTable =\n",
              "          await google.colab.kernel.invokeFunction('convertToInteractive',\n",
              "                                                    [key], {});\n",
              "        if (!dataTable) return;\n",
              "\n",
              "        const docLinkHtml = 'Like what you see? Visit the ' +\n",
              "          '<a target=\"_blank\" href=https://colab.research.google.com/notebooks/data_table.ipynb>data table notebook</a>'\n",
              "          + ' to learn more about interactive tables.';\n",
              "        element.innerHTML = '';\n",
              "        dataTable['output_type'] = 'display_data';\n",
              "        await google.colab.output.renderOutput(dataTable, element);\n",
              "        const docLink = document.createElement('div');\n",
              "        docLink.innerHTML = docLinkHtml;\n",
              "        element.appendChild(docLink);\n",
              "      }\n",
              "    </script>\n",
              "  </div>\n",
              "\n",
              "\n",
              "<div id=\"df-675cc650-f2bb-44ae-ac0e-f7af70fd9294\">\n",
              "  <button class=\"colab-df-quickchart\" onclick=\"quickchart('df-675cc650-f2bb-44ae-ac0e-f7af70fd9294')\"\n",
              "            title=\"Suggest charts\"\n",
              "            style=\"display:none;\">\n",
              "\n",
              "<svg xmlns=\"http://www.w3.org/2000/svg\" height=\"24px\"viewBox=\"0 0 24 24\"\n",
              "     width=\"24px\">\n",
              "    <g>\n",
              "        <path d=\"M19 3H5c-1.1 0-2 .9-2 2v14c0 1.1.9 2 2 2h14c1.1 0 2-.9 2-2V5c0-1.1-.9-2-2-2zM9 17H7v-7h2v7zm4 0h-2V7h2v10zm4 0h-2v-4h2v4z\"/>\n",
              "    </g>\n",
              "</svg>\n",
              "  </button>\n",
              "\n",
              "<style>\n",
              "  .colab-df-quickchart {\n",
              "      --bg-color: #E8F0FE;\n",
              "      --fill-color: #1967D2;\n",
              "      --hover-bg-color: #E2EBFA;\n",
              "      --hover-fill-color: #174EA6;\n",
              "      --disabled-fill-color: #AAA;\n",
              "      --disabled-bg-color: #DDD;\n",
              "  }\n",
              "\n",
              "  [theme=dark] .colab-df-quickchart {\n",
              "      --bg-color: #3B4455;\n",
              "      --fill-color: #D2E3FC;\n",
              "      --hover-bg-color: #434B5C;\n",
              "      --hover-fill-color: #FFFFFF;\n",
              "      --disabled-bg-color: #3B4455;\n",
              "      --disabled-fill-color: #666;\n",
              "  }\n",
              "\n",
              "  .colab-df-quickchart {\n",
              "    background-color: var(--bg-color);\n",
              "    border: none;\n",
              "    border-radius: 50%;\n",
              "    cursor: pointer;\n",
              "    display: none;\n",
              "    fill: var(--fill-color);\n",
              "    height: 32px;\n",
              "    padding: 0;\n",
              "    width: 32px;\n",
              "  }\n",
              "\n",
              "  .colab-df-quickchart:hover {\n",
              "    background-color: var(--hover-bg-color);\n",
              "    box-shadow: 0 1px 2px rgba(60, 64, 67, 0.3), 0 1px 3px 1px rgba(60, 64, 67, 0.15);\n",
              "    fill: var(--button-hover-fill-color);\n",
              "  }\n",
              "\n",
              "  .colab-df-quickchart-complete:disabled,\n",
              "  .colab-df-quickchart-complete:disabled:hover {\n",
              "    background-color: var(--disabled-bg-color);\n",
              "    fill: var(--disabled-fill-color);\n",
              "    box-shadow: none;\n",
              "  }\n",
              "\n",
              "  .colab-df-spinner {\n",
              "    border: 2px solid var(--fill-color);\n",
              "    border-color: transparent;\n",
              "    border-bottom-color: var(--fill-color);\n",
              "    animation:\n",
              "      spin 1s steps(1) infinite;\n",
              "  }\n",
              "\n",
              "  @keyframes spin {\n",
              "    0% {\n",
              "      border-color: transparent;\n",
              "      border-bottom-color: var(--fill-color);\n",
              "      border-left-color: var(--fill-color);\n",
              "    }\n",
              "    20% {\n",
              "      border-color: transparent;\n",
              "      border-left-color: var(--fill-color);\n",
              "      border-top-color: var(--fill-color);\n",
              "    }\n",
              "    30% {\n",
              "      border-color: transparent;\n",
              "      border-left-color: var(--fill-color);\n",
              "      border-top-color: var(--fill-color);\n",
              "      border-right-color: var(--fill-color);\n",
              "    }\n",
              "    40% {\n",
              "      border-color: transparent;\n",
              "      border-right-color: var(--fill-color);\n",
              "      border-top-color: var(--fill-color);\n",
              "    }\n",
              "    60% {\n",
              "      border-color: transparent;\n",
              "      border-right-color: var(--fill-color);\n",
              "    }\n",
              "    80% {\n",
              "      border-color: transparent;\n",
              "      border-right-color: var(--fill-color);\n",
              "      border-bottom-color: var(--fill-color);\n",
              "    }\n",
              "    90% {\n",
              "      border-color: transparent;\n",
              "      border-bottom-color: var(--fill-color);\n",
              "    }\n",
              "  }\n",
              "</style>\n",
              "\n",
              "  <script>\n",
              "    async function quickchart(key) {\n",
              "      const quickchartButtonEl =\n",
              "        document.querySelector('#' + key + ' button');\n",
              "      quickchartButtonEl.disabled = true;  // To prevent multiple clicks.\n",
              "      quickchartButtonEl.classList.add('colab-df-spinner');\n",
              "      try {\n",
              "        const charts = await google.colab.kernel.invokeFunction(\n",
              "            'suggestCharts', [key], {});\n",
              "      } catch (error) {\n",
              "        console.error('Error during call to suggestCharts:', error);\n",
              "      }\n",
              "      quickchartButtonEl.classList.remove('colab-df-spinner');\n",
              "      quickchartButtonEl.classList.add('colab-df-quickchart-complete');\n",
              "    }\n",
              "    (() => {\n",
              "      let quickchartButtonEl =\n",
              "        document.querySelector('#df-675cc650-f2bb-44ae-ac0e-f7af70fd9294 button');\n",
              "      quickchartButtonEl.style.display =\n",
              "        google.colab.kernel.accessAllowed ? 'block' : 'none';\n",
              "    })();\n",
              "  </script>\n",
              "</div>\n",
              "\n",
              "  <div id=\"id_28530d38-8156-4e91-9cdb-eb91cd833ce3\">\n",
              "    <style>\n",
              "      .colab-df-generate {\n",
              "        background-color: #E8F0FE;\n",
              "        border: none;\n",
              "        border-radius: 50%;\n",
              "        cursor: pointer;\n",
              "        display: none;\n",
              "        fill: #1967D2;\n",
              "        height: 32px;\n",
              "        padding: 0 0 0 0;\n",
              "        width: 32px;\n",
              "      }\n",
              "\n",
              "      .colab-df-generate:hover {\n",
              "        background-color: #E2EBFA;\n",
              "        box-shadow: 0px 1px 2px rgba(60, 64, 67, 0.3), 0px 1px 3px 1px rgba(60, 64, 67, 0.15);\n",
              "        fill: #174EA6;\n",
              "      }\n",
              "\n",
              "      [theme=dark] .colab-df-generate {\n",
              "        background-color: #3B4455;\n",
              "        fill: #D2E3FC;\n",
              "      }\n",
              "\n",
              "      [theme=dark] .colab-df-generate:hover {\n",
              "        background-color: #434B5C;\n",
              "        box-shadow: 0px 1px 3px 1px rgba(0, 0, 0, 0.15);\n",
              "        filter: drop-shadow(0px 1px 2px rgba(0, 0, 0, 0.3));\n",
              "        fill: #FFFFFF;\n",
              "      }\n",
              "    </style>\n",
              "    <button class=\"colab-df-generate\" onclick=\"generateWithVariable('targets')\"\n",
              "            title=\"Generate code using this dataframe.\"\n",
              "            style=\"display:none;\">\n",
              "\n",
              "  <svg xmlns=\"http://www.w3.org/2000/svg\" height=\"24px\"viewBox=\"0 0 24 24\"\n",
              "       width=\"24px\">\n",
              "    <path d=\"M7,19H8.4L18.45,9,17,7.55,7,17.6ZM5,21V16.75L18.45,3.32a2,2,0,0,1,2.83,0l1.4,1.43a1.91,1.91,0,0,1,.58,1.4,1.91,1.91,0,0,1-.58,1.4L9.25,21ZM18.45,9,17,7.55Zm-12,3A5.31,5.31,0,0,0,4.9,8.1,5.31,5.31,0,0,0,1,6.5,5.31,5.31,0,0,0,4.9,4.9,5.31,5.31,0,0,0,6.5,1,5.31,5.31,0,0,0,8.1,4.9,5.31,5.31,0,0,0,12,6.5,5.46,5.46,0,0,0,6.5,12Z\"/>\n",
              "  </svg>\n",
              "    </button>\n",
              "    <script>\n",
              "      (() => {\n",
              "      const buttonEl =\n",
              "        document.querySelector('#id_28530d38-8156-4e91-9cdb-eb91cd833ce3 button.colab-df-generate');\n",
              "      buttonEl.style.display =\n",
              "        google.colab.kernel.accessAllowed ? 'block' : 'none';\n",
              "\n",
              "      buttonEl.onclick = () => {\n",
              "        google.colab.notebook.generateWithVariable('targets');\n",
              "      }\n",
              "      })();\n",
              "    </script>\n",
              "  </div>\n",
              "\n",
              "    </div>\n",
              "  </div>\n"
            ],
            "application/vnd.google.colaboratory.intrinsic+json": {
              "type": "dataframe",
              "variable_name": "targets",
              "summary": "{\n  \"name\": \"targets\",\n  \"rows\": 3099,\n  \"fields\": [\n    {\n      \"column\": \"cross_references\",\n      \"properties\": {\n        \"dtype\": \"object\",\n        \"semantic_type\": \"\",\n        \"description\": \"\"\n      }\n    },\n    {\n      \"column\": \"organism\",\n      \"properties\": {\n        \"dtype\": \"category\",\n        \"num_unique_values\": 183,\n        \"samples\": [\n          \"Human respirovirus 3\",\n          \"Aedes aegypti\",\n          \"Listeria monocytogenes serovar 1/2a (strain ATCC BAA-679 / EGD-e)\"\n        ],\n        \"semantic_type\": \"\",\n        \"description\": \"\"\n      }\n    },\n    {\n      \"column\": \"pref_name\",\n      \"properties\": {\n        \"dtype\": \"string\",\n        \"num_unique_values\": 2473,\n        \"samples\": [\n          \"Cyclin-dependent kinase 2/cyclin A\",\n          \"Serine/threonine-protein kinase toxin HipA\",\n          \"Activin receptor type-1\"\n        ],\n        \"semantic_type\": \"\",\n        \"description\": \"\"\n      }\n    },\n    {\n      \"column\": \"score\",\n      \"properties\": {\n        \"dtype\": \"number\",\n        \"std\": 2.1531235442526206,\n        \"min\": 0.0,\n        \"max\": 26.0,\n        \"num_unique_values\": 25,\n        \"samples\": [\n          17.0,\n          8.0,\n          26.0\n        ],\n        \"semantic_type\": \"\",\n        \"description\": \"\"\n      }\n    },\n    {\n      \"column\": \"species_group_flag\",\n      \"properties\": {\n        \"dtype\": \"boolean\",\n        \"num_unique_values\": 2,\n        \"samples\": [\n          true,\n          false\n        ],\n        \"semantic_type\": \"\",\n        \"description\": \"\"\n      }\n    },\n    {\n      \"column\": \"target_chembl_id\",\n      \"properties\": {\n        \"dtype\": \"string\",\n        \"num_unique_values\": 3099,\n        \"samples\": [\n          \"CHEMBL2095220\",\n          \"CHEMBL2095177\"\n        ],\n        \"semantic_type\": \"\",\n        \"description\": \"\"\n      }\n    },\n    {\n      \"column\": \"target_components\",\n      \"properties\": {\n        \"dtype\": \"object\",\n        \"semantic_type\": \"\",\n        \"description\": \"\"\n      }\n    },\n    {\n      \"column\": \"target_type\",\n      \"properties\": {\n        \"dtype\": \"category\",\n        \"num_unique_values\": 12,\n        \"samples\": [\n          \"CHIMERIC PROTEIN\",\n          \"SELECTIVITY GROUP\"\n        ],\n        \"semantic_type\": \"\",\n        \"description\": \"\"\n      }\n    },\n    {\n      \"column\": \"tax_id\",\n      \"properties\": {\n        \"dtype\": \"number\",\n        \"std\": 85404.1897399648,\n        \"min\": 2.0,\n        \"max\": 2697049.0,\n        \"num_unique_values\": 175,\n        \"samples\": [\n          31708.0,\n          5807.0\n        ],\n        \"semantic_type\": \"\",\n        \"description\": \"\"\n      }\n    }\n  ]\n}"
            }
          },
          "metadata": {},
          "execution_count": 3
        }
      ]
    },
    {
      "cell_type": "code",
      "source": [
        "# def targetFilter(selected_target):\n",
        "#     activity = new_client.activity\n",
        "#     res = activity.filter(target_chembl_id=selected_target).filter(standard_type=\"IC50\")\n",
        "#     df = pd.DataFrame.from_dict(res)\n",
        "#     return df"
      ],
      "metadata": {
        "id": "23DUMO2eXHYo"
      },
      "execution_count": null,
      "outputs": []
    },
    {
      "cell_type": "code",
      "source": [
        "# targets_new = targets[targets['organism'] == 'Homo sapiens']\n",
        "# unique_ids = targets_new['target_chembl_id'].unique().tolist()\n",
        "# df = []\n",
        "# for i in tqdm(unique_ids[:100], desc=\"Processing IDs\", unit=\"ID\"):\n",
        "#     df.append(targetFilter(i))\n",
        "# df = pd.concat(df)"
      ],
      "metadata": {
        "id": "yhg0oIQfXK6R",
        "outputId": "cca4bf1a-70d6-454b-cdfa-51a0c2fb77ca",
        "colab": {
          "base_uri": "https://localhost:8080/"
        }
      },
      "execution_count": null,
      "outputs": [
        {
          "output_type": "stream",
          "name": "stderr",
          "text": [
            "Processing IDs: 100%|██████████| 100/100 [00:09<00:00, 10.84ID/s]\n",
            "<ipython-input-10-5bf85b438076>:6: FutureWarning: The behavior of DataFrame concatenation with empty or all-NA entries is deprecated. In a future version, this will no longer exclude empty or all-NA columns when determining the result dtypes. To retain the old behavior, exclude the relevant entries before the concat operation.\n",
            "  df = pd.concat(df)\n"
          ]
        }
      ]
    },
    {
      "cell_type": "code",
      "source": [
        "# selection = ['molecule_chembl_id', 'canonical_smiles','standard_value']\n",
        "# df_prep = df[selection].dropna()\n",
        "\n",
        "# df_prep_label = df_prep.copy()\n",
        "# bioactivity_threshold = []\n",
        "# for i in df_prep_label.standard_value:\n",
        "#     if float(i) >= 10000:\n",
        "#         bioactivity_threshold.append(\"inactive\")\n",
        "#     elif float(i) <= 1000:\n",
        "#         bioactivity_threshold.append(\"active\")\n",
        "#     else:\n",
        "#         bioactivity_threshold.append(\"intermediate\")\n",
        "\n",
        "# df_prep_label['class'] = bioactivity_threshold\n",
        "# df_2class = df_prep_label[df_prep_label['class'] != 'intermediate'].reset_index(drop=True)"
      ],
      "metadata": {
        "id": "05-7PBtQXw8W"
      },
      "execution_count": null,
      "outputs": []
    },
    {
      "cell_type": "code",
      "source": [
        "# df_2class.to_csv('PI3K (Phosphoinositide 3-kinases).csv', index=False)\n",
        "# from google.colab import files\n",
        "# files.download('PI3K (Phosphoinositide 3-kinases).csv')"
      ],
      "metadata": {
        "id": "zmaz9dqvcYtt",
        "outputId": "367c1a2a-ebd0-4562-bde2-b6b2d394462c",
        "colab": {
          "base_uri": "https://localhost:8080/",
          "height": 17
        }
      },
      "execution_count": null,
      "outputs": [
        {
          "output_type": "display_data",
          "data": {
            "text/plain": [
              "<IPython.core.display.Javascript object>"
            ],
            "application/javascript": [
              "\n",
              "    async function download(id, filename, size) {\n",
              "      if (!google.colab.kernel.accessAllowed) {\n",
              "        return;\n",
              "      }\n",
              "      const div = document.createElement('div');\n",
              "      const label = document.createElement('label');\n",
              "      label.textContent = `Downloading \"${filename}\": `;\n",
              "      div.appendChild(label);\n",
              "      const progress = document.createElement('progress');\n",
              "      progress.max = size;\n",
              "      div.appendChild(progress);\n",
              "      document.body.appendChild(div);\n",
              "\n",
              "      const buffers = [];\n",
              "      let downloaded = 0;\n",
              "\n",
              "      const channel = await google.colab.kernel.comms.open(id);\n",
              "      // Send a message to notify the kernel that we're ready.\n",
              "      channel.send({})\n",
              "\n",
              "      for await (const message of channel.messages) {\n",
              "        // Send a message to notify the kernel that we're ready.\n",
              "        channel.send({})\n",
              "        if (message.buffers) {\n",
              "          for (const buffer of message.buffers) {\n",
              "            buffers.push(buffer);\n",
              "            downloaded += buffer.byteLength;\n",
              "            progress.value = downloaded;\n",
              "          }\n",
              "        }\n",
              "      }\n",
              "      const blob = new Blob(buffers, {type: 'application/binary'});\n",
              "      const a = document.createElement('a');\n",
              "      a.href = window.URL.createObjectURL(blob);\n",
              "      a.download = filename;\n",
              "      div.appendChild(a);\n",
              "      a.click();\n",
              "      div.remove();\n",
              "    }\n",
              "  "
            ]
          },
          "metadata": {}
        },
        {
          "output_type": "display_data",
          "data": {
            "text/plain": [
              "<IPython.core.display.Javascript object>"
            ],
            "application/javascript": [
              "download(\"download_4bb32b62-f7f4-4253-9519-1e6bec7ae71d\", \"PI3K (Phosphoinositide 3-kinases).csv\", 3783894)"
            ]
          },
          "metadata": {}
        }
      ]
    },
    {
      "cell_type": "code",
      "execution_count": 3,
      "metadata": {
        "colab": {
          "base_uri": "https://localhost:8080/",
          "height": 423
        },
        "id": "OXWEX8o7BDSO",
        "outputId": "aad58a53-e78c-4145-e0b2-e3b55322a706"
      },
      "outputs": [
        {
          "output_type": "execute_result",
          "data": {
            "text/plain": [
              "      molecule_chembl_id                                   canonical_smiles  \\\n",
              "0           CHEMBL541133  Cc1ccc([N+](=O)[O-])cc1S(=O)(=O)c1nc(-c2cnc3cc...   \n",
              "1           CHEMBL538346       Cl.Oc1cccc(-c2nc(N3CCOCC3)c3oc4ncccc4c3n2)c1   \n",
              "2           CHEMBL541643             Cl.Oc1cccc(-c2nc(N3CCOCC3)c3sccc3n2)c1   \n",
              "3           CHEMBL556399  Cc1ccc([N+](=O)[O-])cc1S(=O)(=O)N(C)/N=C/c1cnc...   \n",
              "4           CHEMBL538346       Cl.Oc1cccc(-c2nc(N3CCOCC3)c3oc4ncccc4c3n2)c1   \n",
              "...                  ...                                                ...   \n",
              "42358      CHEMBL3745885  Cn1c(=O)c(S(=O)(=O)c2ccc(F)cc2F)cc2cnc(Nc3ccc4...   \n",
              "42359      CHEMBL4069365  CC1(C)OCC(=O)Nc2cc(Nc3nc(NCC(F)(F)F)c4occc4n3)...   \n",
              "42360       CHEMBL388978  CN[C@@H]1C[C@H]2O[C@@](C)([C@@H]1OC)n1c3ccccc3...   \n",
              "42361       CHEMBL388978  CN[C@@H]1C[C@H]2O[C@@](C)([C@@H]1OC)n1c3ccccc3...   \n",
              "42362      CHEMBL3622821  CC[C@@H]1CN(C(=O)NCC(F)(F)F)C[C@@H]1c1cnc2cnc3...   \n",
              "\n",
              "       standard_value     class  \n",
              "0              100.00    active  \n",
              "1               10.00    active  \n",
              "2              220.00    active  \n",
              "3              100.00    active  \n",
              "4               10.00    active  \n",
              "...               ...       ...  \n",
              "42358        10000.00  inactive  \n",
              "42359        10000.00  inactive  \n",
              "42360           17.20    active  \n",
              "42361            2.54    active  \n",
              "42362        10000.00  inactive  \n",
              "\n",
              "[42363 rows x 4 columns]"
            ],
            "text/html": [
              "\n",
              "  <div id=\"df-ff24c1ca-0737-4b65-8179-fe766a1ce20e\" class=\"colab-df-container\">\n",
              "    <div>\n",
              "<style scoped>\n",
              "    .dataframe tbody tr th:only-of-type {\n",
              "        vertical-align: middle;\n",
              "    }\n",
              "\n",
              "    .dataframe tbody tr th {\n",
              "        vertical-align: top;\n",
              "    }\n",
              "\n",
              "    .dataframe thead th {\n",
              "        text-align: right;\n",
              "    }\n",
              "</style>\n",
              "<table border=\"1\" class=\"dataframe\">\n",
              "  <thead>\n",
              "    <tr style=\"text-align: right;\">\n",
              "      <th></th>\n",
              "      <th>molecule_chembl_id</th>\n",
              "      <th>canonical_smiles</th>\n",
              "      <th>standard_value</th>\n",
              "      <th>class</th>\n",
              "    </tr>\n",
              "  </thead>\n",
              "  <tbody>\n",
              "    <tr>\n",
              "      <th>0</th>\n",
              "      <td>CHEMBL541133</td>\n",
              "      <td>Cc1ccc([N+](=O)[O-])cc1S(=O)(=O)c1nc(-c2cnc3cc...</td>\n",
              "      <td>100.00</td>\n",
              "      <td>active</td>\n",
              "    </tr>\n",
              "    <tr>\n",
              "      <th>1</th>\n",
              "      <td>CHEMBL538346</td>\n",
              "      <td>Cl.Oc1cccc(-c2nc(N3CCOCC3)c3oc4ncccc4c3n2)c1</td>\n",
              "      <td>10.00</td>\n",
              "      <td>active</td>\n",
              "    </tr>\n",
              "    <tr>\n",
              "      <th>2</th>\n",
              "      <td>CHEMBL541643</td>\n",
              "      <td>Cl.Oc1cccc(-c2nc(N3CCOCC3)c3sccc3n2)c1</td>\n",
              "      <td>220.00</td>\n",
              "      <td>active</td>\n",
              "    </tr>\n",
              "    <tr>\n",
              "      <th>3</th>\n",
              "      <td>CHEMBL556399</td>\n",
              "      <td>Cc1ccc([N+](=O)[O-])cc1S(=O)(=O)N(C)/N=C/c1cnc...</td>\n",
              "      <td>100.00</td>\n",
              "      <td>active</td>\n",
              "    </tr>\n",
              "    <tr>\n",
              "      <th>4</th>\n",
              "      <td>CHEMBL538346</td>\n",
              "      <td>Cl.Oc1cccc(-c2nc(N3CCOCC3)c3oc4ncccc4c3n2)c1</td>\n",
              "      <td>10.00</td>\n",
              "      <td>active</td>\n",
              "    </tr>\n",
              "    <tr>\n",
              "      <th>...</th>\n",
              "      <td>...</td>\n",
              "      <td>...</td>\n",
              "      <td>...</td>\n",
              "      <td>...</td>\n",
              "    </tr>\n",
              "    <tr>\n",
              "      <th>42358</th>\n",
              "      <td>CHEMBL3745885</td>\n",
              "      <td>Cn1c(=O)c(S(=O)(=O)c2ccc(F)cc2F)cc2cnc(Nc3ccc4...</td>\n",
              "      <td>10000.00</td>\n",
              "      <td>inactive</td>\n",
              "    </tr>\n",
              "    <tr>\n",
              "      <th>42359</th>\n",
              "      <td>CHEMBL4069365</td>\n",
              "      <td>CC1(C)OCC(=O)Nc2cc(Nc3nc(NCC(F)(F)F)c4occc4n3)...</td>\n",
              "      <td>10000.00</td>\n",
              "      <td>inactive</td>\n",
              "    </tr>\n",
              "    <tr>\n",
              "      <th>42360</th>\n",
              "      <td>CHEMBL388978</td>\n",
              "      <td>CN[C@@H]1C[C@H]2O[C@@](C)([C@@H]1OC)n1c3ccccc3...</td>\n",
              "      <td>17.20</td>\n",
              "      <td>active</td>\n",
              "    </tr>\n",
              "    <tr>\n",
              "      <th>42361</th>\n",
              "      <td>CHEMBL388978</td>\n",
              "      <td>CN[C@@H]1C[C@H]2O[C@@](C)([C@@H]1OC)n1c3ccccc3...</td>\n",
              "      <td>2.54</td>\n",
              "      <td>active</td>\n",
              "    </tr>\n",
              "    <tr>\n",
              "      <th>42362</th>\n",
              "      <td>CHEMBL3622821</td>\n",
              "      <td>CC[C@@H]1CN(C(=O)NCC(F)(F)F)C[C@@H]1c1cnc2cnc3...</td>\n",
              "      <td>10000.00</td>\n",
              "      <td>inactive</td>\n",
              "    </tr>\n",
              "  </tbody>\n",
              "</table>\n",
              "<p>42363 rows × 4 columns</p>\n",
              "</div>\n",
              "    <div class=\"colab-df-buttons\">\n",
              "\n",
              "  <div class=\"colab-df-container\">\n",
              "    <button class=\"colab-df-convert\" onclick=\"convertToInteractive('df-ff24c1ca-0737-4b65-8179-fe766a1ce20e')\"\n",
              "            title=\"Convert this dataframe to an interactive table.\"\n",
              "            style=\"display:none;\">\n",
              "\n",
              "  <svg xmlns=\"http://www.w3.org/2000/svg\" height=\"24px\" viewBox=\"0 -960 960 960\">\n",
              "    <path d=\"M120-120v-720h720v720H120Zm60-500h600v-160H180v160Zm220 220h160v-160H400v160Zm0 220h160v-160H400v160ZM180-400h160v-160H180v160Zm440 0h160v-160H620v160ZM180-180h160v-160H180v160Zm440 0h160v-160H620v160Z\"/>\n",
              "  </svg>\n",
              "    </button>\n",
              "\n",
              "  <style>\n",
              "    .colab-df-container {\n",
              "      display:flex;\n",
              "      gap: 12px;\n",
              "    }\n",
              "\n",
              "    .colab-df-convert {\n",
              "      background-color: #E8F0FE;\n",
              "      border: none;\n",
              "      border-radius: 50%;\n",
              "      cursor: pointer;\n",
              "      display: none;\n",
              "      fill: #1967D2;\n",
              "      height: 32px;\n",
              "      padding: 0 0 0 0;\n",
              "      width: 32px;\n",
              "    }\n",
              "\n",
              "    .colab-df-convert:hover {\n",
              "      background-color: #E2EBFA;\n",
              "      box-shadow: 0px 1px 2px rgba(60, 64, 67, 0.3), 0px 1px 3px 1px rgba(60, 64, 67, 0.15);\n",
              "      fill: #174EA6;\n",
              "    }\n",
              "\n",
              "    .colab-df-buttons div {\n",
              "      margin-bottom: 4px;\n",
              "    }\n",
              "\n",
              "    [theme=dark] .colab-df-convert {\n",
              "      background-color: #3B4455;\n",
              "      fill: #D2E3FC;\n",
              "    }\n",
              "\n",
              "    [theme=dark] .colab-df-convert:hover {\n",
              "      background-color: #434B5C;\n",
              "      box-shadow: 0px 1px 3px 1px rgba(0, 0, 0, 0.15);\n",
              "      filter: drop-shadow(0px 1px 2px rgba(0, 0, 0, 0.3));\n",
              "      fill: #FFFFFF;\n",
              "    }\n",
              "  </style>\n",
              "\n",
              "    <script>\n",
              "      const buttonEl =\n",
              "        document.querySelector('#df-ff24c1ca-0737-4b65-8179-fe766a1ce20e button.colab-df-convert');\n",
              "      buttonEl.style.display =\n",
              "        google.colab.kernel.accessAllowed ? 'block' : 'none';\n",
              "\n",
              "      async function convertToInteractive(key) {\n",
              "        const element = document.querySelector('#df-ff24c1ca-0737-4b65-8179-fe766a1ce20e');\n",
              "        const dataTable =\n",
              "          await google.colab.kernel.invokeFunction('convertToInteractive',\n",
              "                                                    [key], {});\n",
              "        if (!dataTable) return;\n",
              "\n",
              "        const docLinkHtml = 'Like what you see? Visit the ' +\n",
              "          '<a target=\"_blank\" href=https://colab.research.google.com/notebooks/data_table.ipynb>data table notebook</a>'\n",
              "          + ' to learn more about interactive tables.';\n",
              "        element.innerHTML = '';\n",
              "        dataTable['output_type'] = 'display_data';\n",
              "        await google.colab.output.renderOutput(dataTable, element);\n",
              "        const docLink = document.createElement('div');\n",
              "        docLink.innerHTML = docLinkHtml;\n",
              "        element.appendChild(docLink);\n",
              "      }\n",
              "    </script>\n",
              "  </div>\n",
              "\n",
              "\n",
              "<div id=\"df-61ae2a01-3103-4f9d-b135-b52da5723344\">\n",
              "  <button class=\"colab-df-quickchart\" onclick=\"quickchart('df-61ae2a01-3103-4f9d-b135-b52da5723344')\"\n",
              "            title=\"Suggest charts\"\n",
              "            style=\"display:none;\">\n",
              "\n",
              "<svg xmlns=\"http://www.w3.org/2000/svg\" height=\"24px\"viewBox=\"0 0 24 24\"\n",
              "     width=\"24px\">\n",
              "    <g>\n",
              "        <path d=\"M19 3H5c-1.1 0-2 .9-2 2v14c0 1.1.9 2 2 2h14c1.1 0 2-.9 2-2V5c0-1.1-.9-2-2-2zM9 17H7v-7h2v7zm4 0h-2V7h2v10zm4 0h-2v-4h2v4z\"/>\n",
              "    </g>\n",
              "</svg>\n",
              "  </button>\n",
              "\n",
              "<style>\n",
              "  .colab-df-quickchart {\n",
              "      --bg-color: #E8F0FE;\n",
              "      --fill-color: #1967D2;\n",
              "      --hover-bg-color: #E2EBFA;\n",
              "      --hover-fill-color: #174EA6;\n",
              "      --disabled-fill-color: #AAA;\n",
              "      --disabled-bg-color: #DDD;\n",
              "  }\n",
              "\n",
              "  [theme=dark] .colab-df-quickchart {\n",
              "      --bg-color: #3B4455;\n",
              "      --fill-color: #D2E3FC;\n",
              "      --hover-bg-color: #434B5C;\n",
              "      --hover-fill-color: #FFFFFF;\n",
              "      --disabled-bg-color: #3B4455;\n",
              "      --disabled-fill-color: #666;\n",
              "  }\n",
              "\n",
              "  .colab-df-quickchart {\n",
              "    background-color: var(--bg-color);\n",
              "    border: none;\n",
              "    border-radius: 50%;\n",
              "    cursor: pointer;\n",
              "    display: none;\n",
              "    fill: var(--fill-color);\n",
              "    height: 32px;\n",
              "    padding: 0;\n",
              "    width: 32px;\n",
              "  }\n",
              "\n",
              "  .colab-df-quickchart:hover {\n",
              "    background-color: var(--hover-bg-color);\n",
              "    box-shadow: 0 1px 2px rgba(60, 64, 67, 0.3), 0 1px 3px 1px rgba(60, 64, 67, 0.15);\n",
              "    fill: var(--button-hover-fill-color);\n",
              "  }\n",
              "\n",
              "  .colab-df-quickchart-complete:disabled,\n",
              "  .colab-df-quickchart-complete:disabled:hover {\n",
              "    background-color: var(--disabled-bg-color);\n",
              "    fill: var(--disabled-fill-color);\n",
              "    box-shadow: none;\n",
              "  }\n",
              "\n",
              "  .colab-df-spinner {\n",
              "    border: 2px solid var(--fill-color);\n",
              "    border-color: transparent;\n",
              "    border-bottom-color: var(--fill-color);\n",
              "    animation:\n",
              "      spin 1s steps(1) infinite;\n",
              "  }\n",
              "\n",
              "  @keyframes spin {\n",
              "    0% {\n",
              "      border-color: transparent;\n",
              "      border-bottom-color: var(--fill-color);\n",
              "      border-left-color: var(--fill-color);\n",
              "    }\n",
              "    20% {\n",
              "      border-color: transparent;\n",
              "      border-left-color: var(--fill-color);\n",
              "      border-top-color: var(--fill-color);\n",
              "    }\n",
              "    30% {\n",
              "      border-color: transparent;\n",
              "      border-left-color: var(--fill-color);\n",
              "      border-top-color: var(--fill-color);\n",
              "      border-right-color: var(--fill-color);\n",
              "    }\n",
              "    40% {\n",
              "      border-color: transparent;\n",
              "      border-right-color: var(--fill-color);\n",
              "      border-top-color: var(--fill-color);\n",
              "    }\n",
              "    60% {\n",
              "      border-color: transparent;\n",
              "      border-right-color: var(--fill-color);\n",
              "    }\n",
              "    80% {\n",
              "      border-color: transparent;\n",
              "      border-right-color: var(--fill-color);\n",
              "      border-bottom-color: var(--fill-color);\n",
              "    }\n",
              "    90% {\n",
              "      border-color: transparent;\n",
              "      border-bottom-color: var(--fill-color);\n",
              "    }\n",
              "  }\n",
              "</style>\n",
              "\n",
              "  <script>\n",
              "    async function quickchart(key) {\n",
              "      const quickchartButtonEl =\n",
              "        document.querySelector('#' + key + ' button');\n",
              "      quickchartButtonEl.disabled = true;  // To prevent multiple clicks.\n",
              "      quickchartButtonEl.classList.add('colab-df-spinner');\n",
              "      try {\n",
              "        const charts = await google.colab.kernel.invokeFunction(\n",
              "            'suggestCharts', [key], {});\n",
              "      } catch (error) {\n",
              "        console.error('Error during call to suggestCharts:', error);\n",
              "      }\n",
              "      quickchartButtonEl.classList.remove('colab-df-spinner');\n",
              "      quickchartButtonEl.classList.add('colab-df-quickchart-complete');\n",
              "    }\n",
              "    (() => {\n",
              "      let quickchartButtonEl =\n",
              "        document.querySelector('#df-61ae2a01-3103-4f9d-b135-b52da5723344 button');\n",
              "      quickchartButtonEl.style.display =\n",
              "        google.colab.kernel.accessAllowed ? 'block' : 'none';\n",
              "    })();\n",
              "  </script>\n",
              "</div>\n",
              "\n",
              "  <div id=\"id_5c71912a-ced6-4fd1-8802-a2693bec589d\">\n",
              "    <style>\n",
              "      .colab-df-generate {\n",
              "        background-color: #E8F0FE;\n",
              "        border: none;\n",
              "        border-radius: 50%;\n",
              "        cursor: pointer;\n",
              "        display: none;\n",
              "        fill: #1967D2;\n",
              "        height: 32px;\n",
              "        padding: 0 0 0 0;\n",
              "        width: 32px;\n",
              "      }\n",
              "\n",
              "      .colab-df-generate:hover {\n",
              "        background-color: #E2EBFA;\n",
              "        box-shadow: 0px 1px 2px rgba(60, 64, 67, 0.3), 0px 1px 3px 1px rgba(60, 64, 67, 0.15);\n",
              "        fill: #174EA6;\n",
              "      }\n",
              "\n",
              "      [theme=dark] .colab-df-generate {\n",
              "        background-color: #3B4455;\n",
              "        fill: #D2E3FC;\n",
              "      }\n",
              "\n",
              "      [theme=dark] .colab-df-generate:hover {\n",
              "        background-color: #434B5C;\n",
              "        box-shadow: 0px 1px 3px 1px rgba(0, 0, 0, 0.15);\n",
              "        filter: drop-shadow(0px 1px 2px rgba(0, 0, 0, 0.3));\n",
              "        fill: #FFFFFF;\n",
              "      }\n",
              "    </style>\n",
              "    <button class=\"colab-df-generate\" onclick=\"generateWithVariable('df_2class_prep')\"\n",
              "            title=\"Generate code using this dataframe.\"\n",
              "            style=\"display:none;\">\n",
              "\n",
              "  <svg xmlns=\"http://www.w3.org/2000/svg\" height=\"24px\"viewBox=\"0 0 24 24\"\n",
              "       width=\"24px\">\n",
              "    <path d=\"M7,19H8.4L18.45,9,17,7.55,7,17.6ZM5,21V16.75L18.45,3.32a2,2,0,0,1,2.83,0l1.4,1.43a1.91,1.91,0,0,1,.58,1.4,1.91,1.91,0,0,1-.58,1.4L9.25,21ZM18.45,9,17,7.55Zm-12,3A5.31,5.31,0,0,0,4.9,8.1,5.31,5.31,0,0,0,1,6.5,5.31,5.31,0,0,0,4.9,4.9,5.31,5.31,0,0,0,6.5,1,5.31,5.31,0,0,0,8.1,4.9,5.31,5.31,0,0,0,12,6.5,5.46,5.46,0,0,0,6.5,12Z\"/>\n",
              "  </svg>\n",
              "    </button>\n",
              "    <script>\n",
              "      (() => {\n",
              "      const buttonEl =\n",
              "        document.querySelector('#id_5c71912a-ced6-4fd1-8802-a2693bec589d button.colab-df-generate');\n",
              "      buttonEl.style.display =\n",
              "        google.colab.kernel.accessAllowed ? 'block' : 'none';\n",
              "\n",
              "      buttonEl.onclick = () => {\n",
              "        google.colab.notebook.generateWithVariable('df_2class_prep');\n",
              "      }\n",
              "      })();\n",
              "    </script>\n",
              "  </div>\n",
              "\n",
              "    </div>\n",
              "  </div>\n"
            ],
            "application/vnd.google.colaboratory.intrinsic+json": {
              "type": "dataframe",
              "variable_name": "df_2class_prep",
              "summary": "{\n  \"name\": \"df_2class_prep\",\n  \"rows\": 42363,\n  \"fields\": [\n    {\n      \"column\": \"molecule_chembl_id\",\n      \"properties\": {\n        \"dtype\": \"string\",\n        \"num_unique_values\": 27958,\n        \"samples\": [\n          \"CHEMBL4516974\",\n          \"CHEMBL4103976\",\n          \"CHEMBL5430723\"\n        ],\n        \"semantic_type\": \"\",\n        \"description\": \"\"\n      }\n    },\n    {\n      \"column\": \"canonical_smiles\",\n      \"properties\": {\n        \"dtype\": \"string\",\n        \"num_unique_values\": 27958,\n        \"samples\": [\n          \"COc1ccccc1-n1cc(CNC(=O)c2cnc3ccc(-c4cnc(OC)c(NS(=O)(=O)c5ccc(F)cc5F)c4)cn23)nn1\",\n          \"Cc1ccc(C#Cc2sc3c(c2C(=O)c2ccccc2)CCCC3)cc1\",\n          \"COc1ccc(-c2nnnn2OCc2cccc(Cl)c2)cc1\"\n        ],\n        \"semantic_type\": \"\",\n        \"description\": \"\"\n      }\n    },\n    {\n      \"column\": \"standard_value\",\n      \"properties\": {\n        \"dtype\": \"number\",\n        \"std\": 8583631.530045263,\n        \"min\": 0.0,\n        \"max\": 926829823.38,\n        \"num_unique_values\": 6873,\n        \"samples\": [\n          554.0,\n          2.371,\n          162.0\n        ],\n        \"semantic_type\": \"\",\n        \"description\": \"\"\n      }\n    },\n    {\n      \"column\": \"class\",\n      \"properties\": {\n        \"dtype\": \"category\",\n        \"num_unique_values\": 2,\n        \"samples\": [\n          \"inactive\",\n          \"active\"\n        ],\n        \"semantic_type\": \"\",\n        \"description\": \"\"\n      }\n    }\n  ]\n}"
            }
          },
          "metadata": {},
          "execution_count": 3
        }
      ],
      "source": [
        "df_2class_prep = pd.read_csv('https://github.com/Mfys212/GNN-for-Molekul-Classifier/raw/refs/heads/main/PI3K%20(Phosphoinositide%203-kinases).csv')\n",
        "df_2class_prep"
      ]
    },
    {
      "cell_type": "code",
      "execution_count": 4,
      "metadata": {
        "colab": {
          "base_uri": "https://localhost:8080/"
        },
        "id": "LG9ktoeWBLyT",
        "outputId": "885c7fe1-570b-4fdf-f25c-71ba0c1a683c"
      },
      "outputs": [
        {
          "output_type": "stream",
          "name": "stdout",
          "text": [
            "canonical_smiles    0\n",
            "class               0\n",
            "dtype: int64 \n",
            "\n",
            "<class 'pandas.core.frame.DataFrame'>\n",
            "RangeIndex: 42363 entries, 0 to 42362\n",
            "Data columns (total 2 columns):\n",
            " #   Column            Non-Null Count  Dtype \n",
            "---  ------            --------------  ----- \n",
            " 0   canonical_smiles  42363 non-null  object\n",
            " 1   class             42363 non-null  object\n",
            "dtypes: object(2)\n",
            "memory usage: 662.0+ KB\n"
          ]
        }
      ],
      "source": [
        "data = df_2class_prep[[\"canonical_smiles\", \"class\"]]\n",
        "print(data.isnull().sum(), \"\\n\")\n",
        "data.info()"
      ]
    },
    {
      "cell_type": "code",
      "source": [
        "smiles = []\n",
        "for i in data.canonical_smiles.tolist():\n",
        "    cpd = str(i).split('.')\n",
        "    cpd_longest = max(cpd, key = len)\n",
        "    smiles.append(cpd_longest)\n",
        "\n",
        "df_clean = data.copy()\n",
        "df_clean = df_clean.drop(columns='canonical_smiles')\n",
        "df_clean['canonical_smiles'] = smiles\n",
        "df_clean"
      ],
      "metadata": {
        "id": "46vYw7JJxARX",
        "outputId": "32cb4afe-ddec-4fd0-e7df-3bd74d2d3716",
        "colab": {
          "base_uri": "https://localhost:8080/",
          "height": 423
        }
      },
      "execution_count": 5,
      "outputs": [
        {
          "output_type": "execute_result",
          "data": {
            "text/plain": [
              "          class                                   canonical_smiles\n",
              "0        active  Cc1ccc([N+](=O)[O-])cc1S(=O)(=O)c1nc(-c2cnc3cc...\n",
              "1        active          Oc1cccc(-c2nc(N3CCOCC3)c3oc4ncccc4c3n2)c1\n",
              "2        active                Oc1cccc(-c2nc(N3CCOCC3)c3sccc3n2)c1\n",
              "3        active  Cc1ccc([N+](=O)[O-])cc1S(=O)(=O)N(C)/N=C/c1cnc...\n",
              "4        active          Oc1cccc(-c2nc(N3CCOCC3)c3oc4ncccc4c3n2)c1\n",
              "...         ...                                                ...\n",
              "42358  inactive  Cn1c(=O)c(S(=O)(=O)c2ccc(F)cc2F)cc2cnc(Nc3ccc4...\n",
              "42359  inactive  CC1(C)OCC(=O)Nc2cc(Nc3nc(NCC(F)(F)F)c4occc4n3)...\n",
              "42360    active  CN[C@@H]1C[C@H]2O[C@@](C)([C@@H]1OC)n1c3ccccc3...\n",
              "42361    active  CN[C@@H]1C[C@H]2O[C@@](C)([C@@H]1OC)n1c3ccccc3...\n",
              "42362  inactive  CC[C@@H]1CN(C(=O)NCC(F)(F)F)C[C@@H]1c1cnc2cnc3...\n",
              "\n",
              "[42363 rows x 2 columns]"
            ],
            "text/html": [
              "\n",
              "  <div id=\"df-e46fe36a-b69f-468a-b4f2-890299b67335\" class=\"colab-df-container\">\n",
              "    <div>\n",
              "<style scoped>\n",
              "    .dataframe tbody tr th:only-of-type {\n",
              "        vertical-align: middle;\n",
              "    }\n",
              "\n",
              "    .dataframe tbody tr th {\n",
              "        vertical-align: top;\n",
              "    }\n",
              "\n",
              "    .dataframe thead th {\n",
              "        text-align: right;\n",
              "    }\n",
              "</style>\n",
              "<table border=\"1\" class=\"dataframe\">\n",
              "  <thead>\n",
              "    <tr style=\"text-align: right;\">\n",
              "      <th></th>\n",
              "      <th>class</th>\n",
              "      <th>canonical_smiles</th>\n",
              "    </tr>\n",
              "  </thead>\n",
              "  <tbody>\n",
              "    <tr>\n",
              "      <th>0</th>\n",
              "      <td>active</td>\n",
              "      <td>Cc1ccc([N+](=O)[O-])cc1S(=O)(=O)c1nc(-c2cnc3cc...</td>\n",
              "    </tr>\n",
              "    <tr>\n",
              "      <th>1</th>\n",
              "      <td>active</td>\n",
              "      <td>Oc1cccc(-c2nc(N3CCOCC3)c3oc4ncccc4c3n2)c1</td>\n",
              "    </tr>\n",
              "    <tr>\n",
              "      <th>2</th>\n",
              "      <td>active</td>\n",
              "      <td>Oc1cccc(-c2nc(N3CCOCC3)c3sccc3n2)c1</td>\n",
              "    </tr>\n",
              "    <tr>\n",
              "      <th>3</th>\n",
              "      <td>active</td>\n",
              "      <td>Cc1ccc([N+](=O)[O-])cc1S(=O)(=O)N(C)/N=C/c1cnc...</td>\n",
              "    </tr>\n",
              "    <tr>\n",
              "      <th>4</th>\n",
              "      <td>active</td>\n",
              "      <td>Oc1cccc(-c2nc(N3CCOCC3)c3oc4ncccc4c3n2)c1</td>\n",
              "    </tr>\n",
              "    <tr>\n",
              "      <th>...</th>\n",
              "      <td>...</td>\n",
              "      <td>...</td>\n",
              "    </tr>\n",
              "    <tr>\n",
              "      <th>42358</th>\n",
              "      <td>inactive</td>\n",
              "      <td>Cn1c(=O)c(S(=O)(=O)c2ccc(F)cc2F)cc2cnc(Nc3ccc4...</td>\n",
              "    </tr>\n",
              "    <tr>\n",
              "      <th>42359</th>\n",
              "      <td>inactive</td>\n",
              "      <td>CC1(C)OCC(=O)Nc2cc(Nc3nc(NCC(F)(F)F)c4occc4n3)...</td>\n",
              "    </tr>\n",
              "    <tr>\n",
              "      <th>42360</th>\n",
              "      <td>active</td>\n",
              "      <td>CN[C@@H]1C[C@H]2O[C@@](C)([C@@H]1OC)n1c3ccccc3...</td>\n",
              "    </tr>\n",
              "    <tr>\n",
              "      <th>42361</th>\n",
              "      <td>active</td>\n",
              "      <td>CN[C@@H]1C[C@H]2O[C@@](C)([C@@H]1OC)n1c3ccccc3...</td>\n",
              "    </tr>\n",
              "    <tr>\n",
              "      <th>42362</th>\n",
              "      <td>inactive</td>\n",
              "      <td>CC[C@@H]1CN(C(=O)NCC(F)(F)F)C[C@@H]1c1cnc2cnc3...</td>\n",
              "    </tr>\n",
              "  </tbody>\n",
              "</table>\n",
              "<p>42363 rows × 2 columns</p>\n",
              "</div>\n",
              "    <div class=\"colab-df-buttons\">\n",
              "\n",
              "  <div class=\"colab-df-container\">\n",
              "    <button class=\"colab-df-convert\" onclick=\"convertToInteractive('df-e46fe36a-b69f-468a-b4f2-890299b67335')\"\n",
              "            title=\"Convert this dataframe to an interactive table.\"\n",
              "            style=\"display:none;\">\n",
              "\n",
              "  <svg xmlns=\"http://www.w3.org/2000/svg\" height=\"24px\" viewBox=\"0 -960 960 960\">\n",
              "    <path d=\"M120-120v-720h720v720H120Zm60-500h600v-160H180v160Zm220 220h160v-160H400v160Zm0 220h160v-160H400v160ZM180-400h160v-160H180v160Zm440 0h160v-160H620v160ZM180-180h160v-160H180v160Zm440 0h160v-160H620v160Z\"/>\n",
              "  </svg>\n",
              "    </button>\n",
              "\n",
              "  <style>\n",
              "    .colab-df-container {\n",
              "      display:flex;\n",
              "      gap: 12px;\n",
              "    }\n",
              "\n",
              "    .colab-df-convert {\n",
              "      background-color: #E8F0FE;\n",
              "      border: none;\n",
              "      border-radius: 50%;\n",
              "      cursor: pointer;\n",
              "      display: none;\n",
              "      fill: #1967D2;\n",
              "      height: 32px;\n",
              "      padding: 0 0 0 0;\n",
              "      width: 32px;\n",
              "    }\n",
              "\n",
              "    .colab-df-convert:hover {\n",
              "      background-color: #E2EBFA;\n",
              "      box-shadow: 0px 1px 2px rgba(60, 64, 67, 0.3), 0px 1px 3px 1px rgba(60, 64, 67, 0.15);\n",
              "      fill: #174EA6;\n",
              "    }\n",
              "\n",
              "    .colab-df-buttons div {\n",
              "      margin-bottom: 4px;\n",
              "    }\n",
              "\n",
              "    [theme=dark] .colab-df-convert {\n",
              "      background-color: #3B4455;\n",
              "      fill: #D2E3FC;\n",
              "    }\n",
              "\n",
              "    [theme=dark] .colab-df-convert:hover {\n",
              "      background-color: #434B5C;\n",
              "      box-shadow: 0px 1px 3px 1px rgba(0, 0, 0, 0.15);\n",
              "      filter: drop-shadow(0px 1px 2px rgba(0, 0, 0, 0.3));\n",
              "      fill: #FFFFFF;\n",
              "    }\n",
              "  </style>\n",
              "\n",
              "    <script>\n",
              "      const buttonEl =\n",
              "        document.querySelector('#df-e46fe36a-b69f-468a-b4f2-890299b67335 button.colab-df-convert');\n",
              "      buttonEl.style.display =\n",
              "        google.colab.kernel.accessAllowed ? 'block' : 'none';\n",
              "\n",
              "      async function convertToInteractive(key) {\n",
              "        const element = document.querySelector('#df-e46fe36a-b69f-468a-b4f2-890299b67335');\n",
              "        const dataTable =\n",
              "          await google.colab.kernel.invokeFunction('convertToInteractive',\n",
              "                                                    [key], {});\n",
              "        if (!dataTable) return;\n",
              "\n",
              "        const docLinkHtml = 'Like what you see? Visit the ' +\n",
              "          '<a target=\"_blank\" href=https://colab.research.google.com/notebooks/data_table.ipynb>data table notebook</a>'\n",
              "          + ' to learn more about interactive tables.';\n",
              "        element.innerHTML = '';\n",
              "        dataTable['output_type'] = 'display_data';\n",
              "        await google.colab.output.renderOutput(dataTable, element);\n",
              "        const docLink = document.createElement('div');\n",
              "        docLink.innerHTML = docLinkHtml;\n",
              "        element.appendChild(docLink);\n",
              "      }\n",
              "    </script>\n",
              "  </div>\n",
              "\n",
              "\n",
              "<div id=\"df-7c80ec45-de18-49b0-bc84-3e60355da3d8\">\n",
              "  <button class=\"colab-df-quickchart\" onclick=\"quickchart('df-7c80ec45-de18-49b0-bc84-3e60355da3d8')\"\n",
              "            title=\"Suggest charts\"\n",
              "            style=\"display:none;\">\n",
              "\n",
              "<svg xmlns=\"http://www.w3.org/2000/svg\" height=\"24px\"viewBox=\"0 0 24 24\"\n",
              "     width=\"24px\">\n",
              "    <g>\n",
              "        <path d=\"M19 3H5c-1.1 0-2 .9-2 2v14c0 1.1.9 2 2 2h14c1.1 0 2-.9 2-2V5c0-1.1-.9-2-2-2zM9 17H7v-7h2v7zm4 0h-2V7h2v10zm4 0h-2v-4h2v4z\"/>\n",
              "    </g>\n",
              "</svg>\n",
              "  </button>\n",
              "\n",
              "<style>\n",
              "  .colab-df-quickchart {\n",
              "      --bg-color: #E8F0FE;\n",
              "      --fill-color: #1967D2;\n",
              "      --hover-bg-color: #E2EBFA;\n",
              "      --hover-fill-color: #174EA6;\n",
              "      --disabled-fill-color: #AAA;\n",
              "      --disabled-bg-color: #DDD;\n",
              "  }\n",
              "\n",
              "  [theme=dark] .colab-df-quickchart {\n",
              "      --bg-color: #3B4455;\n",
              "      --fill-color: #D2E3FC;\n",
              "      --hover-bg-color: #434B5C;\n",
              "      --hover-fill-color: #FFFFFF;\n",
              "      --disabled-bg-color: #3B4455;\n",
              "      --disabled-fill-color: #666;\n",
              "  }\n",
              "\n",
              "  .colab-df-quickchart {\n",
              "    background-color: var(--bg-color);\n",
              "    border: none;\n",
              "    border-radius: 50%;\n",
              "    cursor: pointer;\n",
              "    display: none;\n",
              "    fill: var(--fill-color);\n",
              "    height: 32px;\n",
              "    padding: 0;\n",
              "    width: 32px;\n",
              "  }\n",
              "\n",
              "  .colab-df-quickchart:hover {\n",
              "    background-color: var(--hover-bg-color);\n",
              "    box-shadow: 0 1px 2px rgba(60, 64, 67, 0.3), 0 1px 3px 1px rgba(60, 64, 67, 0.15);\n",
              "    fill: var(--button-hover-fill-color);\n",
              "  }\n",
              "\n",
              "  .colab-df-quickchart-complete:disabled,\n",
              "  .colab-df-quickchart-complete:disabled:hover {\n",
              "    background-color: var(--disabled-bg-color);\n",
              "    fill: var(--disabled-fill-color);\n",
              "    box-shadow: none;\n",
              "  }\n",
              "\n",
              "  .colab-df-spinner {\n",
              "    border: 2px solid var(--fill-color);\n",
              "    border-color: transparent;\n",
              "    border-bottom-color: var(--fill-color);\n",
              "    animation:\n",
              "      spin 1s steps(1) infinite;\n",
              "  }\n",
              "\n",
              "  @keyframes spin {\n",
              "    0% {\n",
              "      border-color: transparent;\n",
              "      border-bottom-color: var(--fill-color);\n",
              "      border-left-color: var(--fill-color);\n",
              "    }\n",
              "    20% {\n",
              "      border-color: transparent;\n",
              "      border-left-color: var(--fill-color);\n",
              "      border-top-color: var(--fill-color);\n",
              "    }\n",
              "    30% {\n",
              "      border-color: transparent;\n",
              "      border-left-color: var(--fill-color);\n",
              "      border-top-color: var(--fill-color);\n",
              "      border-right-color: var(--fill-color);\n",
              "    }\n",
              "    40% {\n",
              "      border-color: transparent;\n",
              "      border-right-color: var(--fill-color);\n",
              "      border-top-color: var(--fill-color);\n",
              "    }\n",
              "    60% {\n",
              "      border-color: transparent;\n",
              "      border-right-color: var(--fill-color);\n",
              "    }\n",
              "    80% {\n",
              "      border-color: transparent;\n",
              "      border-right-color: var(--fill-color);\n",
              "      border-bottom-color: var(--fill-color);\n",
              "    }\n",
              "    90% {\n",
              "      border-color: transparent;\n",
              "      border-bottom-color: var(--fill-color);\n",
              "    }\n",
              "  }\n",
              "</style>\n",
              "\n",
              "  <script>\n",
              "    async function quickchart(key) {\n",
              "      const quickchartButtonEl =\n",
              "        document.querySelector('#' + key + ' button');\n",
              "      quickchartButtonEl.disabled = true;  // To prevent multiple clicks.\n",
              "      quickchartButtonEl.classList.add('colab-df-spinner');\n",
              "      try {\n",
              "        const charts = await google.colab.kernel.invokeFunction(\n",
              "            'suggestCharts', [key], {});\n",
              "      } catch (error) {\n",
              "        console.error('Error during call to suggestCharts:', error);\n",
              "      }\n",
              "      quickchartButtonEl.classList.remove('colab-df-spinner');\n",
              "      quickchartButtonEl.classList.add('colab-df-quickchart-complete');\n",
              "    }\n",
              "    (() => {\n",
              "      let quickchartButtonEl =\n",
              "        document.querySelector('#df-7c80ec45-de18-49b0-bc84-3e60355da3d8 button');\n",
              "      quickchartButtonEl.style.display =\n",
              "        google.colab.kernel.accessAllowed ? 'block' : 'none';\n",
              "    })();\n",
              "  </script>\n",
              "</div>\n",
              "\n",
              "  <div id=\"id_3fa6d766-c3a3-4e2e-a3eb-65871b857810\">\n",
              "    <style>\n",
              "      .colab-df-generate {\n",
              "        background-color: #E8F0FE;\n",
              "        border: none;\n",
              "        border-radius: 50%;\n",
              "        cursor: pointer;\n",
              "        display: none;\n",
              "        fill: #1967D2;\n",
              "        height: 32px;\n",
              "        padding: 0 0 0 0;\n",
              "        width: 32px;\n",
              "      }\n",
              "\n",
              "      .colab-df-generate:hover {\n",
              "        background-color: #E2EBFA;\n",
              "        box-shadow: 0px 1px 2px rgba(60, 64, 67, 0.3), 0px 1px 3px 1px rgba(60, 64, 67, 0.15);\n",
              "        fill: #174EA6;\n",
              "      }\n",
              "\n",
              "      [theme=dark] .colab-df-generate {\n",
              "        background-color: #3B4455;\n",
              "        fill: #D2E3FC;\n",
              "      }\n",
              "\n",
              "      [theme=dark] .colab-df-generate:hover {\n",
              "        background-color: #434B5C;\n",
              "        box-shadow: 0px 1px 3px 1px rgba(0, 0, 0, 0.15);\n",
              "        filter: drop-shadow(0px 1px 2px rgba(0, 0, 0, 0.3));\n",
              "        fill: #FFFFFF;\n",
              "      }\n",
              "    </style>\n",
              "    <button class=\"colab-df-generate\" onclick=\"generateWithVariable('df_clean')\"\n",
              "            title=\"Generate code using this dataframe.\"\n",
              "            style=\"display:none;\">\n",
              "\n",
              "  <svg xmlns=\"http://www.w3.org/2000/svg\" height=\"24px\"viewBox=\"0 0 24 24\"\n",
              "       width=\"24px\">\n",
              "    <path d=\"M7,19H8.4L18.45,9,17,7.55,7,17.6ZM5,21V16.75L18.45,3.32a2,2,0,0,1,2.83,0l1.4,1.43a1.91,1.91,0,0,1,.58,1.4,1.91,1.91,0,0,1-.58,1.4L9.25,21ZM18.45,9,17,7.55Zm-12,3A5.31,5.31,0,0,0,4.9,8.1,5.31,5.31,0,0,0,1,6.5,5.31,5.31,0,0,0,4.9,4.9,5.31,5.31,0,0,0,6.5,1,5.31,5.31,0,0,0,8.1,4.9,5.31,5.31,0,0,0,12,6.5,5.46,5.46,0,0,0,6.5,12Z\"/>\n",
              "  </svg>\n",
              "    </button>\n",
              "    <script>\n",
              "      (() => {\n",
              "      const buttonEl =\n",
              "        document.querySelector('#id_3fa6d766-c3a3-4e2e-a3eb-65871b857810 button.colab-df-generate');\n",
              "      buttonEl.style.display =\n",
              "        google.colab.kernel.accessAllowed ? 'block' : 'none';\n",
              "\n",
              "      buttonEl.onclick = () => {\n",
              "        google.colab.notebook.generateWithVariable('df_clean');\n",
              "      }\n",
              "      })();\n",
              "    </script>\n",
              "  </div>\n",
              "\n",
              "    </div>\n",
              "  </div>\n"
            ],
            "application/vnd.google.colaboratory.intrinsic+json": {
              "type": "dataframe",
              "variable_name": "df_clean",
              "summary": "{\n  \"name\": \"df_clean\",\n  \"rows\": 42363,\n  \"fields\": [\n    {\n      \"column\": \"class\",\n      \"properties\": {\n        \"dtype\": \"category\",\n        \"num_unique_values\": 2,\n        \"samples\": [\n          \"inactive\",\n          \"active\"\n        ],\n        \"semantic_type\": \"\",\n        \"description\": \"\"\n      }\n    },\n    {\n      \"column\": \"canonical_smiles\",\n      \"properties\": {\n        \"dtype\": \"string\",\n        \"num_unique_values\": 27917,\n        \"samples\": [\n          \"C[C@@H](O[C@H]1CN(C(=O)OC(C)(C)C)[C@@H](CO)[C@@H]1c1ccc(F)cc1)c1cc(C(F)(F)F)cc(C(F)(F)F)c1\",\n          \"COc1cccc(C(=O)N2CCCN(Cc3cncn3Cc3ccc(C#N)cc3)CC2)c1OC\"\n        ],\n        \"semantic_type\": \"\",\n        \"description\": \"\"\n      }\n    }\n  ]\n}"
            }
          },
          "metadata": {},
          "execution_count": 5
        }
      ]
    },
    {
      "cell_type": "code",
      "execution_count": 6,
      "metadata": {
        "colab": {
          "base_uri": "https://localhost:8080/",
          "height": 178
        },
        "id": "IMxwy9NhBtDm",
        "outputId": "d9e15646-f39c-442a-ab5f-0d2f3e80d964"
      },
      "outputs": [
        {
          "output_type": "execute_result",
          "data": {
            "text/plain": [
              "class\n",
              "active      25610\n",
              "inactive    16753\n",
              "Name: count, dtype: int64"
            ],
            "text/html": [
              "<div>\n",
              "<style scoped>\n",
              "    .dataframe tbody tr th:only-of-type {\n",
              "        vertical-align: middle;\n",
              "    }\n",
              "\n",
              "    .dataframe tbody tr th {\n",
              "        vertical-align: top;\n",
              "    }\n",
              "\n",
              "    .dataframe thead th {\n",
              "        text-align: right;\n",
              "    }\n",
              "</style>\n",
              "<table border=\"1\" class=\"dataframe\">\n",
              "  <thead>\n",
              "    <tr style=\"text-align: right;\">\n",
              "      <th></th>\n",
              "      <th>count</th>\n",
              "    </tr>\n",
              "    <tr>\n",
              "      <th>class</th>\n",
              "      <th></th>\n",
              "    </tr>\n",
              "  </thead>\n",
              "  <tbody>\n",
              "    <tr>\n",
              "      <th>active</th>\n",
              "      <td>25610</td>\n",
              "    </tr>\n",
              "    <tr>\n",
              "      <th>inactive</th>\n",
              "      <td>16753</td>\n",
              "    </tr>\n",
              "  </tbody>\n",
              "</table>\n",
              "</div><br><label><b>dtype:</b> int64</label>"
            ]
          },
          "metadata": {},
          "execution_count": 6
        }
      ],
      "source": [
        "class_counts = df_clean[\"class\"].value_counts()\n",
        "class_counts"
      ]
    },
    {
      "cell_type": "code",
      "execution_count": 7,
      "metadata": {
        "id": "28XP9tiECHxU",
        "colab": {
          "base_uri": "https://localhost:8080/"
        },
        "outputId": "efcf7ab2-a2b4-4c18-a13d-b29eddc3aa59"
      },
      "outputs": [
        {
          "output_type": "stream",
          "name": "stderr",
          "text": [
            "/usr/local/lib/python3.10/dist-packages/sklearn/base.py:484: FutureWarning: `BaseEstimator._check_n_features` is deprecated in 1.6 and will be removed in 1.7. Use `sklearn.utils.validation._check_n_features` instead.\n",
            "  warnings.warn(\n",
            "/usr/local/lib/python3.10/dist-packages/sklearn/base.py:493: FutureWarning: `BaseEstimator._check_feature_names` is deprecated in 1.6 and will be removed in 1.7. Use `sklearn.utils.validation._check_feature_names` instead.\n",
            "  warnings.warn(\n"
          ]
        }
      ],
      "source": [
        "target_over = 20000\n",
        "ros = RandomOverSampler(sampling_strategy={'inactive': target_over}, random_state=42)\n",
        "X_resampled, y_resampled = ros.fit_resample(df_clean[['canonical_smiles']], df_clean['class'])\n",
        "\n",
        "df_final = pd.DataFrame({\n",
        "    'canonical_smiles': X_resampled['canonical_smiles'],\n",
        "    'class': y_resampled\n",
        "})"
      ]
    },
    {
      "cell_type": "code",
      "execution_count": 8,
      "metadata": {
        "colab": {
          "base_uri": "https://localhost:8080/",
          "height": 369
        },
        "id": "fdrMG5reClM4",
        "outputId": "a2c26728-5d61-4510-9321-27e2f09a34c1"
      },
      "outputs": [
        {
          "output_type": "stream",
          "name": "stdout",
          "text": [
            "<class 'pandas.core.frame.DataFrame'>\n",
            "RangeIndex: 45610 entries, 0 to 45609\n",
            "Data columns (total 2 columns):\n",
            " #   Column            Non-Null Count  Dtype \n",
            "---  ------            --------------  ----- \n",
            " 0   canonical_smiles  45610 non-null  object\n",
            " 1   class             45610 non-null  object\n",
            "dtypes: object(2)\n",
            "memory usage: 712.8+ KB\n",
            "None \n",
            "\n"
          ]
        },
        {
          "output_type": "execute_result",
          "data": {
            "text/plain": [
              "class\n",
              "active      25610\n",
              "inactive    20000\n",
              "Name: count, dtype: int64"
            ],
            "text/html": [
              "<div>\n",
              "<style scoped>\n",
              "    .dataframe tbody tr th:only-of-type {\n",
              "        vertical-align: middle;\n",
              "    }\n",
              "\n",
              "    .dataframe tbody tr th {\n",
              "        vertical-align: top;\n",
              "    }\n",
              "\n",
              "    .dataframe thead th {\n",
              "        text-align: right;\n",
              "    }\n",
              "</style>\n",
              "<table border=\"1\" class=\"dataframe\">\n",
              "  <thead>\n",
              "    <tr style=\"text-align: right;\">\n",
              "      <th></th>\n",
              "      <th>count</th>\n",
              "    </tr>\n",
              "    <tr>\n",
              "      <th>class</th>\n",
              "      <th></th>\n",
              "    </tr>\n",
              "  </thead>\n",
              "  <tbody>\n",
              "    <tr>\n",
              "      <th>active</th>\n",
              "      <td>25610</td>\n",
              "    </tr>\n",
              "    <tr>\n",
              "      <th>inactive</th>\n",
              "      <td>20000</td>\n",
              "    </tr>\n",
              "  </tbody>\n",
              "</table>\n",
              "</div><br><label><b>dtype:</b> int64</label>"
            ]
          },
          "metadata": {},
          "execution_count": 8
        }
      ],
      "source": [
        "print(df_final.info(), \"\\n\")\n",
        "df_final['class'].value_counts()"
      ]
    },
    {
      "cell_type": "code",
      "source": [
        "df_final['smiles_length'] = df_final['canonical_smiles'].apply(len)\n",
        "plt.figure(figsize=(8, 6))\n",
        "sns.boxplot(x='class', y='smiles_length', data=df_final)\n",
        "plt.title('SMILES Length')\n",
        "plt.show()"
      ],
      "metadata": {
        "id": "MeJpb_hEKpXp",
        "outputId": "32031d74-4cea-4307-c1f8-00841109cc00",
        "colab": {
          "base_uri": "https://localhost:8080/",
          "height": 564
        }
      },
      "execution_count": 9,
      "outputs": [
        {
          "output_type": "display_data",
          "data": {
            "text/plain": [
              "<Figure size 800x600 with 1 Axes>"
            ],
            "image/png": "[encoded data removed]"
          },
          "metadata": {}
        }
      ]
    },
    {
      "cell_type": "code",
      "source": [
        "class LoaderData(nn.Module):\n",
        "    def __init__(self, X, y, batch=32, test_size=0.2, seed=212, use_y=True):\n",
        "        super().__init__()\n",
        "        self.use_y = use_y\n",
        "        if use_y:\n",
        "            X_train, X_test, y_train, y_test = train_test_split(X, y, stratify=y, test_size=test_size, random_state=seed)\n",
        "            self.batch_size = batch\n",
        "            self.X_train = X_train\n",
        "            self.X_test = X_test\n",
        "            self.y_train = y_train\n",
        "            self.y_test = y_test\n",
        "\n",
        "    def process_molecule(self, molecule, cls, use_y=True):\n",
        "        return self.molecule_to_graph(molecule, cls, use_y)\n",
        "\n",
        "    def forward(self, x=None):\n",
        "        with concurrent.futures.ThreadPoolExecutor() as executor:\n",
        "            if self.use_y:\n",
        "              train_graphs = list(executor.map(self.process_molecule, self.X_train, self.y_train))\n",
        "              val_graphs = list(executor.map(self.process_molecule, self.X_test, self.y_test))\n",
        "            else:\n",
        "              graphs = self.process_molecule(x, None, self.use_y)\n",
        "\n",
        "        if self.use_y:\n",
        "            train_loader = DL_geo(train_graphs, batch_size=self.batch_size, shuffle=True)\n",
        "            val_loader = DL_geo(val_graphs, batch_size=self.batch_size, shuffle=False)\n",
        "            return train_loader, val_loader\n",
        "        else:\n",
        "            return graphs\n",
        "\n",
        "    def molecule_to_graph(self, molecule: str, y=None, use_y=True):\n",
        "        mol = Chem.MolFromSmiles(molecule)\n",
        "        if mol is None:\n",
        "            return None\n",
        "\n",
        "        atoms = [\n",
        "            [\n",
        "                atom.GetAtomicNum(),              # Nomor atom\n",
        "                atom.GetMass(),                   # Massa atom\n",
        "                int(atom.GetIsAromatic()),        # Apakah atom aromatik\n",
        "                int(atom.GetHybridization()),     # Tipe hibridisasi\n",
        "                atom.GetFormalCharge(),           # Muatan formal\n",
        "                atom.GetDegree(),                 # Derajat atom\n",
        "                atom.GetImplicitValence(),        # Valensi implisit\n",
        "                atom.GetExplicitValence(),        # Valensi eksplisit\n",
        "                int(atom.IsInRing()),             # Apakah dalam cincin\n",
        "                int(atom.GetChiralTag()),         # Tag kiralitas\n",
        "            ]\n",
        "            for atom in mol.GetAtoms()\n",
        "        ]\n",
        "\n",
        "        edges = []\n",
        "        edge_attr = []\n",
        "        for bond in mol.GetBonds():\n",
        "            i = bond.GetBeginAtomIdx()\n",
        "            j = bond.GetEndAtomIdx()\n",
        "            edges.append([i, j])\n",
        "            edges.append([j, i])  # kedua arah untuk graf tak berarah\n",
        "\n",
        "            bond_features = [\n",
        "                bond.GetBondTypeAsDouble(),      # Tipe ikatan\n",
        "                int(bond.GetIsConjugated()),     # Apakah ikatan terkonjugasi\n",
        "                int(bond.GetIsAromatic()),       # Apakah ikatan aromatik\n",
        "                int(bond.GetStereo()),           # Stereokimia ikatan\n",
        "                int(bond.IsInRing()),            # Apakah ikatan dalam cincin\n",
        "            ]\n",
        "            edge_attr.append(bond_features)\n",
        "            edge_attr.append(bond_features) # fitur edge untuk arah sebaliknya\n",
        "\n",
        "        edge_index = torch.tensor(edges, dtype=torch.long).t().contiguous()\n",
        "        edge_attr = torch.tensor(edge_attr, dtype=torch.float)\n",
        "        x = torch.tensor(atoms, dtype=torch.float)\n",
        "\n",
        "        if use_y:\n",
        "            data = Data(x=x, edge_index=edge_index, edge_attr=edge_attr, y=torch.tensor([y], dtype=torch.long))\n",
        "        else:\n",
        "            data = Data(x=x, edge_index=edge_index, edge_attr=edge_attr)\n",
        "        return data\n",
        "\n",
        "class GNNBlock(nn.Module):\n",
        "    def __init__(self, edge_features, c1, c2, dropout_rate=0.2, c1_=False):\n",
        "        super().__init__()\n",
        "        self.conv1 = GINEConv(nn.Linear(c1, c2), edge_dim=edge_features)\n",
        "        self.conv2 = GINEConv(nn.Linear(c2, c1), edge_dim=edge_features)\n",
        "        self.dropout = nn.Dropout(dropout_rate)\n",
        "\n",
        "    def forward(self, inputs, edge_index, edge_attr):\n",
        "        x = self.dropout(F.leaky_relu(self.conv1(inputs, edge_index, edge_attr)))\n",
        "        return self.conv2(x+inputs, edge_index, edge_attr)\n",
        "\n",
        "class GNNModel(nn.Module):\n",
        "    def __init__(self, num_features, edge_features, c1=128, c2=128, num_block=2, output_dim=2):\n",
        "        super().__init__()\n",
        "        self.inputs = GINEConv(nn.Linear(num_features, c1//2), edge_dim=edge_features)\n",
        "        self.conv = GINEConv(nn.Linear(c1//2, c1), edge_dim=edge_features)\n",
        "        self.block = [GNNBlock(edge_features, c1, c2) for i in range(num_block)]\n",
        "        self.cls = nn.Linear(c1, output_dim)\n",
        "\n",
        "    def forward(self, data):\n",
        "        x, edge_index, edge_attr = data.x, data.edge_index, data.edge_attr\n",
        "        x = F.leaky_relu(self.inputs(x, edge_index, edge_attr))\n",
        "        x = self.conv(x, edge_index, edge_attr)\n",
        "        for block in self.block:\n",
        "            x = block(x, edge_index, edge_attr)\n",
        "        x = global_mean_pool(self.cls(x), data.batch)\n",
        "        return x\n",
        "\n",
        "class CreateModel(nn.Module):\n",
        "    def __init__(self,\n",
        "                 X, y,\n",
        "                 batch=32,\n",
        "                 test_size=0.2,\n",
        "                 output_dim=2,\n",
        "                 seed=212,\n",
        "                 c1=128,\n",
        "                 c2=128,\n",
        "                 num_block=2,\n",
        "                 dropout_rate=0.3):\n",
        "        super().__init__()\n",
        "        print(\"Loading data ...\")\n",
        "        self.X, self.y = X, y\n",
        "        self.loader = LoaderData(X, y, batch, test_size, seed)\n",
        "        self.train_loader, self.val_loader = self.loader()\n",
        "        self.num_node_features = self.train_loader.dataset[0].x.size(1)\n",
        "        self.num_edge_features = self.train_loader.dataset[0].edge_attr.size(1)\n",
        "        self.model = GNNModel(self.num_node_features, self.num_edge_features, c1, c2, num_block, output_dim)\n",
        "        self.device = 'cuda' if torch.cuda.is_available() else 'cpu'\n",
        "        self.model = self.model.to(self.device)\n",
        "        print(\"Successful load model\")\n",
        "\n",
        "    def forward(self, x):\n",
        "        self.load= LoaderData(self.X, self.y, 1, 0.2, seed=212, use_y=False)\n",
        "        data = self.load(x=x)\n",
        "        out = self.model(data)\n",
        "        return torch.sigmoid(out)\n",
        "\n",
        "    def predict(self, x):\n",
        "        return self.forward(x)\n",
        "\n",
        "    def train(self, optimizer, criterion):\n",
        "        self.model.train()\n",
        "        total_loss = 0\n",
        "        correct = 0\n",
        "        with tqdm(self.train_loader, desc=\"Training\", unit=\"batch\") as t:\n",
        "            for data in t:\n",
        "                data = data.to(self.device)\n",
        "                optimizer.zero_grad()\n",
        "                out = self.model(data)\n",
        "                loss = criterion(out.view(-1), data.y.float())\n",
        "                loss.backward()\n",
        "                optimizer.step()\n",
        "                total_loss += loss.item()\n",
        "                pred = torch.sigmoid(out)\n",
        "                pred = (pred > 0.5).float()\n",
        "                correct += (pred.view(-1) == data.y).sum().item()\n",
        "        avg_loss = total_loss / len(self.train_loader)\n",
        "        accuracy = correct / len(self.train_loader.dataset)\n",
        "        return avg_loss, accuracy\n",
        "\n",
        "    def eval(self, threshold=0.5):\n",
        "        self.model.eval()\n",
        "        total_loss = 0\n",
        "        correct = 0\n",
        "        all_labels, all_preds = [], []\n",
        "        with tqdm(self.val_loader, desc=\"Validation\", unit=\"batch\") as t:\n",
        "            with torch.no_grad():\n",
        "                for data in t:\n",
        "                    data = data.to(self.device)\n",
        "                    out = self.model(data)\n",
        "                    pred = torch.sigmoid(out)\n",
        "                    pred = (pred > threshold).float()\n",
        "                    all_labels.extend(data.y.cpu().numpy())\n",
        "                    all_preds.extend(pred.cpu().numpy())\n",
        "        return all_labels, all_preds\n",
        "\n",
        "    def validate(self, criterion):\n",
        "        self.model.eval()\n",
        "        total_loss = 0\n",
        "        correct = 0\n",
        "        with tqdm(self.val_loader, desc=\"Validation\", unit=\"batch\") as t:\n",
        "            with torch.no_grad():\n",
        "                for data in t:\n",
        "                    data = data.to(self.device)\n",
        "                    out = self.model(data)\n",
        "                    loss = criterion(out.view(-1), data.y.float())\n",
        "                    total_loss += loss.item()\n",
        "                    pred = torch.sigmoid(out)\n",
        "                    pred = (pred > 0.5).float()\n",
        "                    correct += (pred.view(-1) == data.y).sum().item()\n",
        "        avg_loss = total_loss / len(self.val_loader)\n",
        "        accuracy = correct / len(self.val_loader.dataset)\n",
        "        return avg_loss, accuracy\n",
        "\n",
        "    def fit(self, epochs, optimizer, lr, loss, loss_w=None):\n",
        "        optimizer, criterion = self.get_optim(optimizer, lr, loss, loss_w)\n",
        "        t_acc, t_loss, v_acc, v_loss = [], [], [], []\n",
        "        best_val_loss = float('inf')\n",
        "        best_model_state_dict = None\n",
        "        for epoch in range(1, epochs + 1):\n",
        "            train_loss, train_acc = self.train(optimizer, criterion)\n",
        "            val_loss, val_accuracy = self.validate(criterion)\n",
        "            if val_loss < best_val_loss:\n",
        "                best_val_loss = val_loss\n",
        "                best_model_state_dict = self.model.state_dict()\n",
        "            print(f\"Epoch {epoch}/{epochs} | Train Loss: {train_loss:.4f} | Train Acc: {train_acc:.4f} | Val Loss: {val_loss:.4f} | Val Acc: {val_accuracy:.4f}\\n\")\n",
        "            t_loss.append(train_loss)\n",
        "            t_acc.append(train_acc)\n",
        "            v_loss.append(val_loss)\n",
        "            v_acc.append(val_accuracy)\n",
        "        torch.save(self.model.state_dict(), \"last.pt\")\n",
        "        if best_model_state_dict:\n",
        "            self.model.load_state_dict(best_model_state_dict)\n",
        "            torch.save(self.model.state_dict(), \"best.pt\")\n",
        "            print(\"Restored model to the best state based on validation loss.\")\n",
        "        history = {\"Train Loss\":t_loss, \"Train Acc\":t_acc, \"Val Loss\":v_loss, \"Val Acc\":v_acc}\n",
        "        return history\n",
        "\n",
        "    def get_optim(self, optimizer, lr, loss, loss_w):\n",
        "        optimizer = optimizer(self.model.parameters(), lr=lr)\n",
        "        if loss_w is not None:\n",
        "            try:\n",
        "              criterion = loss(weight=loss_w)\n",
        "            except:\n",
        "              criterion = loss(pos_weight=loss_w)\n",
        "        else:\n",
        "            criterion = loss()\n",
        "        return optimizer, criterion\n",
        "\n",
        "    def load_state(self, weight):\n",
        "        self.model.load_state_dict(torch.load(weight))\n",
        "\n",
        "    def load_model(self, weight):\n",
        "        self.model = torch.load(weight)"
      ],
      "metadata": {
        "id": "x3FDmAEXOpXD"
      },
      "execution_count": 10,
      "outputs": []
    },
    {
      "cell_type": "code",
      "source": [
        "X = df_final['canonical_smiles']\n",
        "y = df_final['class'].map({'active': 1, 'inactive': 0})\n",
        "EPOCHS = 100\n",
        "model = CreateModel(X, y, batch=32, test_size=0.2, output_dim=1, seed=212)"
      ],
      "metadata": {
        "id": "HOYL7JGlsfcj",
        "outputId": "e27f97d4-97f2-4e97-c5de-d7996bd395f6",
        "colab": {
          "base_uri": "https://localhost:8080/"
        }
      },
      "execution_count": 11,
      "outputs": [
        {
          "output_type": "stream",
          "name": "stdout",
          "text": [
            "Loading data ...\n",
            "Successful load model\n"
          ]
        }
      ]
    },
    {
      "cell_type": "code",
      "source": [
        "loss_weights = torch.tensor([0.85])\n",
        "history = model.fit(epochs=EPOCHS, optimizer=torch.optim.Adam, lr=0.001, loss=nn.BCEWithLogitsLoss, loss_w=loss_weights)"
      ],
      "metadata": {
        "colab": {
          "base_uri": "https://localhost:8080/"
        },
        "id": "e9lYgivHsgiY",
        "outputId": "df0ec079-45de-48ea-e174-ecffbb776d82"
      },
      "execution_count": 12,
      "outputs": [
        {
          "output_type": "stream",
          "name": "stderr",
          "text": [
            "Training: 100%|██████████| 1141/1141 [01:13<00:00, 15.48batch/s]\n",
            "Validation: 100%|██████████| 286/286 [00:05<00:00, 51.06batch/s]\n"
          ]
        },
        {
          "output_type": "stream",
          "name": "stdout",
          "text": [
            "Epoch 1/100 | Train Loss: 0.8052 | Train Acc: 0.5699 | Val Loss: 0.5615 | Val Acc: 0.6094\n",
            "\n"
          ]
        },
        {
          "output_type": "stream",
          "name": "stderr",
          "text": [
            "Training: 100%|██████████| 1141/1141 [00:47<00:00, 24.09batch/s]\n",
            "Validation: 100%|██████████| 286/286 [00:05<00:00, 52.58batch/s]\n"
          ]
        },
        {
          "output_type": "stream",
          "name": "stdout",
          "text": [
            "Epoch 2/100 | Train Loss: 0.5487 | Train Acc: 0.6384 | Val Loss: 0.5291 | Val Acc: 0.6785\n",
            "\n"
          ]
        },
        {
          "output_type": "stream",
          "name": "stderr",
          "text": [
            "Training: 100%|██████████| 1141/1141 [00:48<00:00, 23.48batch/s]\n",
            "Validation: 100%|██████████| 286/286 [00:06<00:00, 42.97batch/s]\n"
          ]
        },
        {
          "output_type": "stream",
          "name": "stdout",
          "text": [
            "Epoch 3/100 | Train Loss: 0.5334 | Train Acc: 0.6579 | Val Loss: 0.5481 | Val Acc: 0.6317\n",
            "\n"
          ]
        },
        {
          "output_type": "stream",
          "name": "stderr",
          "text": [
            "Training: 100%|██████████| 1141/1141 [00:46<00:00, 24.49batch/s]\n",
            "Validation: 100%|██████████| 286/286 [00:06<00:00, 44.01batch/s]\n"
          ]
        },
        {
          "output_type": "stream",
          "name": "stdout",
          "text": [
            "Epoch 4/100 | Train Loss: 0.5249 | Train Acc: 0.6686 | Val Loss: 0.5089 | Val Acc: 0.6923\n",
            "\n"
          ]
        },
        {
          "output_type": "stream",
          "name": "stderr",
          "text": [
            "Training: 100%|██████████| 1141/1141 [00:45<00:00, 25.04batch/s]\n",
            "Validation: 100%|██████████| 286/286 [00:05<00:00, 54.17batch/s]\n"
          ]
        },
        {
          "output_type": "stream",
          "name": "stdout",
          "text": [
            "Epoch 5/100 | Train Loss: 0.5143 | Train Acc: 0.6827 | Val Loss: 0.5576 | Val Acc: 0.6386\n",
            "\n"
          ]
        },
        {
          "output_type": "stream",
          "name": "stderr",
          "text": [
            "Training: 100%|██████████| 1141/1141 [00:47<00:00, 24.14batch/s]\n",
            "Validation: 100%|██████████| 286/286 [00:05<00:00, 53.82batch/s]\n"
          ]
        },
        {
          "output_type": "stream",
          "name": "stdout",
          "text": [
            "Epoch 6/100 | Train Loss: 0.5079 | Train Acc: 0.6922 | Val Loss: 0.4920 | Val Acc: 0.7138\n",
            "\n"
          ]
        },
        {
          "output_type": "stream",
          "name": "stderr",
          "text": [
            "Training: 100%|██████████| 1141/1141 [00:48<00:00, 23.31batch/s]\n",
            "Validation: 100%|██████████| 286/286 [00:06<00:00, 45.29batch/s]\n"
          ]
        },
        {
          "output_type": "stream",
          "name": "stdout",
          "text": [
            "Epoch 7/100 | Train Loss: 0.5012 | Train Acc: 0.6976 | Val Loss: 0.5038 | Val Acc: 0.6986\n",
            "\n"
          ]
        },
        {
          "output_type": "stream",
          "name": "stderr",
          "text": [
            "Training: 100%|██████████| 1141/1141 [00:47<00:00, 23.93batch/s]\n",
            "Validation: 100%|██████████| 286/286 [00:05<00:00, 56.04batch/s]\n"
          ]
        },
        {
          "output_type": "stream",
          "name": "stdout",
          "text": [
            "Epoch 8/100 | Train Loss: 0.4921 | Train Acc: 0.7077 | Val Loss: 0.4819 | Val Acc: 0.7107\n",
            "\n"
          ]
        },
        {
          "output_type": "stream",
          "name": "stderr",
          "text": [
            "Training: 100%|██████████| 1141/1141 [00:45<00:00, 24.88batch/s]\n",
            "Validation: 100%|██████████| 286/286 [00:06<00:00, 44.58batch/s]\n"
          ]
        },
        {
          "output_type": "stream",
          "name": "stdout",
          "text": [
            "Epoch 9/100 | Train Loss: 0.4844 | Train Acc: 0.7157 | Val Loss: 0.4644 | Val Acc: 0.7340\n",
            "\n"
          ]
        },
        {
          "output_type": "stream",
          "name": "stderr",
          "text": [
            "Training: 100%|██████████| 1141/1141 [00:46<00:00, 24.42batch/s]\n",
            "Validation: 100%|██████████| 286/286 [00:05<00:00, 55.96batch/s]\n"
          ]
        },
        {
          "output_type": "stream",
          "name": "stdout",
          "text": [
            "Epoch 10/100 | Train Loss: 0.4751 | Train Acc: 0.7206 | Val Loss: 0.4991 | Val Acc: 0.6914\n",
            "\n"
          ]
        },
        {
          "output_type": "stream",
          "name": "stderr",
          "text": [
            "Training: 100%|██████████| 1141/1141 [00:45<00:00, 25.13batch/s]\n",
            "Validation: 100%|██████████| 286/286 [00:06<00:00, 46.87batch/s]\n"
          ]
        },
        {
          "output_type": "stream",
          "name": "stdout",
          "text": [
            "Epoch 11/100 | Train Loss: 0.4676 | Train Acc: 0.7292 | Val Loss: 0.4628 | Val Acc: 0.7307\n",
            "\n"
          ]
        },
        {
          "output_type": "stream",
          "name": "stderr",
          "text": [
            "Training: 100%|██████████| 1141/1141 [00:44<00:00, 25.67batch/s]\n",
            "Validation: 100%|██████████| 286/286 [00:04<00:00, 57.96batch/s]\n"
          ]
        },
        {
          "output_type": "stream",
          "name": "stdout",
          "text": [
            "Epoch 12/100 | Train Loss: 0.4598 | Train Acc: 0.7373 | Val Loss: 0.4519 | Val Acc: 0.7412\n",
            "\n"
          ]
        },
        {
          "output_type": "stream",
          "name": "stderr",
          "text": [
            "Training: 100%|██████████| 1141/1141 [00:44<00:00, 25.77batch/s]\n",
            "Validation: 100%|██████████| 286/286 [00:05<00:00, 50.64batch/s]\n"
          ]
        },
        {
          "output_type": "stream",
          "name": "stdout",
          "text": [
            "Epoch 13/100 | Train Loss: 0.4534 | Train Acc: 0.7420 | Val Loss: 0.4508 | Val Acc: 0.7430\n",
            "\n"
          ]
        },
        {
          "output_type": "stream",
          "name": "stderr",
          "text": [
            "Training: 100%|██████████| 1141/1141 [00:43<00:00, 25.95batch/s]\n",
            "Validation: 100%|██████████| 286/286 [00:04<00:00, 60.52batch/s]\n"
          ]
        },
        {
          "output_type": "stream",
          "name": "stdout",
          "text": [
            "Epoch 14/100 | Train Loss: 0.4489 | Train Acc: 0.7457 | Val Loss: 0.4413 | Val Acc: 0.7452\n",
            "\n"
          ]
        },
        {
          "output_type": "stream",
          "name": "stderr",
          "text": [
            "Training: 100%|██████████| 1141/1141 [00:43<00:00, 26.18batch/s]\n",
            "Validation: 100%|██████████| 286/286 [00:05<00:00, 49.01batch/s]\n"
          ]
        },
        {
          "output_type": "stream",
          "name": "stdout",
          "text": [
            "Epoch 15/100 | Train Loss: 0.4441 | Train Acc: 0.7480 | Val Loss: 0.4267 | Val Acc: 0.7612\n",
            "\n"
          ]
        },
        {
          "output_type": "stream",
          "name": "stderr",
          "text": [
            "Training: 100%|██████████| 1141/1141 [00:43<00:00, 25.98batch/s]\n",
            "Validation: 100%|██████████| 286/286 [00:04<00:00, 57.30batch/s]\n"
          ]
        },
        {
          "output_type": "stream",
          "name": "stdout",
          "text": [
            "Epoch 16/100 | Train Loss: 0.4389 | Train Acc: 0.7503 | Val Loss: 0.4218 | Val Acc: 0.7678\n",
            "\n"
          ]
        },
        {
          "output_type": "stream",
          "name": "stderr",
          "text": [
            "Training: 100%|██████████| 1141/1141 [00:45<00:00, 24.91batch/s]\n",
            "Validation: 100%|██████████| 286/286 [00:06<00:00, 46.18batch/s]\n"
          ]
        },
        {
          "output_type": "stream",
          "name": "stdout",
          "text": [
            "Epoch 17/100 | Train Loss: 0.4363 | Train Acc: 0.7559 | Val Loss: 0.4240 | Val Acc: 0.7647\n",
            "\n"
          ]
        },
        {
          "output_type": "stream",
          "name": "stderr",
          "text": [
            "Training: 100%|██████████| 1141/1141 [00:56<00:00, 20.03batch/s]\n",
            "Validation: 100%|██████████| 286/286 [00:07<00:00, 40.24batch/s]\n"
          ]
        },
        {
          "output_type": "stream",
          "name": "stdout",
          "text": [
            "Epoch 18/100 | Train Loss: 0.4284 | Train Acc: 0.7587 | Val Loss: 0.4160 | Val Acc: 0.7664\n",
            "\n"
          ]
        },
        {
          "output_type": "stream",
          "name": "stderr",
          "text": [
            "Training: 100%|██████████| 1141/1141 [00:45<00:00, 25.24batch/s]\n",
            "Validation: 100%|██████████| 286/286 [00:05<00:00, 49.06batch/s]\n"
          ]
        },
        {
          "output_type": "stream",
          "name": "stdout",
          "text": [
            "Epoch 19/100 | Train Loss: 0.4264 | Train Acc: 0.7605 | Val Loss: 0.4251 | Val Acc: 0.7645\n",
            "\n"
          ]
        },
        {
          "output_type": "stream",
          "name": "stderr",
          "text": [
            "Training: 100%|██████████| 1141/1141 [00:45<00:00, 25.16batch/s]\n",
            "Validation: 100%|██████████| 286/286 [00:04<00:00, 59.08batch/s]\n"
          ]
        },
        {
          "output_type": "stream",
          "name": "stdout",
          "text": [
            "Epoch 20/100 | Train Loss: 0.4216 | Train Acc: 0.7668 | Val Loss: 0.4113 | Val Acc: 0.7712\n",
            "\n"
          ]
        },
        {
          "output_type": "stream",
          "name": "stderr",
          "text": [
            "Training: 100%|██████████| 1141/1141 [00:44<00:00, 25.79batch/s]\n",
            "Validation: 100%|██████████| 286/286 [00:06<00:00, 46.74batch/s]\n"
          ]
        },
        {
          "output_type": "stream",
          "name": "stdout",
          "text": [
            "Epoch 21/100 | Train Loss: 0.4190 | Train Acc: 0.7675 | Val Loss: 0.4137 | Val Acc: 0.7697\n",
            "\n"
          ]
        },
        {
          "output_type": "stream",
          "name": "stderr",
          "text": [
            "Training: 100%|██████████| 1141/1141 [00:45<00:00, 24.98batch/s]\n",
            "Validation: 100%|██████████| 286/286 [00:05<00:00, 50.41batch/s]\n"
          ]
        },
        {
          "output_type": "stream",
          "name": "stdout",
          "text": [
            "Epoch 22/100 | Train Loss: 0.4129 | Train Acc: 0.7723 | Val Loss: 0.4160 | Val Acc: 0.7640\n",
            "\n"
          ]
        },
        {
          "output_type": "stream",
          "name": "stderr",
          "text": [
            "Training: 100%|██████████| 1141/1141 [00:46<00:00, 24.44batch/s]\n",
            "Validation: 100%|██████████| 286/286 [00:05<00:00, 50.64batch/s]\n"
          ]
        },
        {
          "output_type": "stream",
          "name": "stdout",
          "text": [
            "Epoch 23/100 | Train Loss: 0.4116 | Train Acc: 0.7728 | Val Loss: 0.4397 | Val Acc: 0.7602\n",
            "\n"
          ]
        },
        {
          "output_type": "stream",
          "name": "stderr",
          "text": [
            "Training: 100%|██████████| 1141/1141 [00:48<00:00, 23.71batch/s]\n",
            "Validation: 100%|██████████| 286/286 [00:06<00:00, 45.77batch/s]\n"
          ]
        },
        {
          "output_type": "stream",
          "name": "stdout",
          "text": [
            "Epoch 24/100 | Train Loss: 0.4088 | Train Acc: 0.7753 | Val Loss: 0.4063 | Val Acc: 0.7786\n",
            "\n"
          ]
        },
        {
          "output_type": "stream",
          "name": "stderr",
          "text": [
            "Training: 100%|██████████| 1141/1141 [00:47<00:00, 24.07batch/s]\n",
            "Validation: 100%|██████████| 286/286 [00:05<00:00, 53.05batch/s]\n"
          ]
        },
        {
          "output_type": "stream",
          "name": "stdout",
          "text": [
            "Epoch 25/100 | Train Loss: 0.4063 | Train Acc: 0.7787 | Val Loss: 0.4021 | Val Acc: 0.7827\n",
            "\n"
          ]
        },
        {
          "output_type": "stream",
          "name": "stderr",
          "text": [
            "Training: 100%|██████████| 1141/1141 [00:48<00:00, 23.56batch/s]\n",
            "Validation: 100%|██████████| 286/286 [00:05<00:00, 53.26batch/s]\n"
          ]
        },
        {
          "output_type": "stream",
          "name": "stdout",
          "text": [
            "Epoch 26/100 | Train Loss: 0.4034 | Train Acc: 0.7808 | Val Loss: 0.4050 | Val Acc: 0.7797\n",
            "\n"
          ]
        },
        {
          "output_type": "stream",
          "name": "stderr",
          "text": [
            "Training: 100%|██████████| 1141/1141 [00:45<00:00, 25.09batch/s]\n",
            "Validation: 100%|██████████| 286/286 [00:06<00:00, 44.21batch/s]\n"
          ]
        },
        {
          "output_type": "stream",
          "name": "stdout",
          "text": [
            "Epoch 27/100 | Train Loss: 0.3995 | Train Acc: 0.7825 | Val Loss: 0.4139 | Val Acc: 0.7691\n",
            "\n"
          ]
        },
        {
          "output_type": "stream",
          "name": "stderr",
          "text": [
            "Training: 100%|██████████| 1141/1141 [00:44<00:00, 25.42batch/s]\n",
            "Validation: 100%|██████████| 286/286 [00:05<00:00, 54.41batch/s]\n"
          ]
        },
        {
          "output_type": "stream",
          "name": "stdout",
          "text": [
            "Epoch 28/100 | Train Loss: 0.3973 | Train Acc: 0.7825 | Val Loss: 0.3912 | Val Acc: 0.7867\n",
            "\n"
          ]
        },
        {
          "output_type": "stream",
          "name": "stderr",
          "text": [
            "Training: 100%|██████████| 1141/1141 [00:46<00:00, 24.31batch/s]\n",
            "Validation: 100%|██████████| 286/286 [00:05<00:00, 49.38batch/s]\n"
          ]
        },
        {
          "output_type": "stream",
          "name": "stdout",
          "text": [
            "Epoch 29/100 | Train Loss: 0.3955 | Train Acc: 0.7847 | Val Loss: 0.3924 | Val Acc: 0.7873\n",
            "\n"
          ]
        },
        {
          "output_type": "stream",
          "name": "stderr",
          "text": [
            "Training: 100%|██████████| 1141/1141 [00:46<00:00, 24.63batch/s]\n",
            "Validation: 100%|██████████| 286/286 [00:05<00:00, 49.80batch/s]\n"
          ]
        },
        {
          "output_type": "stream",
          "name": "stdout",
          "text": [
            "Epoch 30/100 | Train Loss: 0.3927 | Train Acc: 0.7866 | Val Loss: 0.4454 | Val Acc: 0.7509\n",
            "\n"
          ]
        },
        {
          "output_type": "stream",
          "name": "stderr",
          "text": [
            "Training: 100%|██████████| 1141/1141 [00:46<00:00, 24.76batch/s]\n",
            "Validation: 100%|██████████| 286/286 [00:05<00:00, 52.80batch/s]\n"
          ]
        },
        {
          "output_type": "stream",
          "name": "stdout",
          "text": [
            "Epoch 31/100 | Train Loss: 0.3897 | Train Acc: 0.7903 | Val Loss: 0.3761 | Val Acc: 0.7949\n",
            "\n"
          ]
        },
        {
          "output_type": "stream",
          "name": "stderr",
          "text": [
            "Training: 100%|██████████| 1141/1141 [00:48<00:00, 23.76batch/s]\n",
            "Validation: 100%|██████████| 286/286 [00:05<00:00, 49.47batch/s]\n"
          ]
        },
        {
          "output_type": "stream",
          "name": "stdout",
          "text": [
            "Epoch 32/100 | Train Loss: 0.3867 | Train Acc: 0.7920 | Val Loss: 0.3995 | Val Acc: 0.7764\n",
            "\n"
          ]
        },
        {
          "output_type": "stream",
          "name": "stderr",
          "text": [
            "Training: 100%|██████████| 1141/1141 [00:47<00:00, 24.18batch/s]\n",
            "Validation: 100%|██████████| 286/286 [00:06<00:00, 47.24batch/s]\n"
          ]
        },
        {
          "output_type": "stream",
          "name": "stdout",
          "text": [
            "Epoch 33/100 | Train Loss: 0.3863 | Train Acc: 0.7914 | Val Loss: 0.3950 | Val Acc: 0.7797\n",
            "\n"
          ]
        },
        {
          "output_type": "stream",
          "name": "stderr",
          "text": [
            "Training: 100%|██████████| 1141/1141 [00:48<00:00, 23.33batch/s]\n",
            "Validation: 100%|██████████| 286/286 [00:06<00:00, 45.98batch/s]\n"
          ]
        },
        {
          "output_type": "stream",
          "name": "stdout",
          "text": [
            "Epoch 34/100 | Train Loss: 0.3838 | Train Acc: 0.7927 | Val Loss: 0.3966 | Val Acc: 0.7807\n",
            "\n"
          ]
        },
        {
          "output_type": "stream",
          "name": "stderr",
          "text": [
            "Training: 100%|██████████| 1141/1141 [00:47<00:00, 24.17batch/s]\n",
            "Validation: 100%|██████████| 286/286 [00:05<00:00, 54.79batch/s]\n"
          ]
        },
        {
          "output_type": "stream",
          "name": "stdout",
          "text": [
            "Epoch 35/100 | Train Loss: 0.3824 | Train Acc: 0.7949 | Val Loss: 0.3917 | Val Acc: 0.7901\n",
            "\n"
          ]
        },
        {
          "output_type": "stream",
          "name": "stderr",
          "text": [
            "Training: 100%|██████████| 1141/1141 [00:45<00:00, 24.81batch/s]\n",
            "Validation: 100%|██████████| 286/286 [00:06<00:00, 44.33batch/s]\n"
          ]
        },
        {
          "output_type": "stream",
          "name": "stdout",
          "text": [
            "Epoch 36/100 | Train Loss: 0.3813 | Train Acc: 0.7939 | Val Loss: 0.3972 | Val Acc: 0.7758\n",
            "\n"
          ]
        },
        {
          "output_type": "stream",
          "name": "stderr",
          "text": [
            "Training: 100%|██████████| 1141/1141 [00:46<00:00, 24.80batch/s]\n",
            "Validation: 100%|██████████| 286/286 [00:05<00:00, 47.83batch/s]\n"
          ]
        },
        {
          "output_type": "stream",
          "name": "stdout",
          "text": [
            "Epoch 37/100 | Train Loss: 0.3799 | Train Acc: 0.7962 | Val Loss: 0.3765 | Val Acc: 0.8030\n",
            "\n"
          ]
        },
        {
          "output_type": "stream",
          "name": "stderr",
          "text": [
            "Training: 100%|██████████| 1141/1141 [00:46<00:00, 24.33batch/s]\n",
            "Validation: 100%|██████████| 286/286 [00:05<00:00, 55.33batch/s]\n"
          ]
        },
        {
          "output_type": "stream",
          "name": "stdout",
          "text": [
            "Epoch 38/100 | Train Loss: 0.3778 | Train Acc: 0.7977 | Val Loss: 0.3779 | Val Acc: 0.7931\n",
            "\n"
          ]
        },
        {
          "output_type": "stream",
          "name": "stderr",
          "text": [
            "Training: 100%|██████████| 1141/1141 [00:47<00:00, 23.79batch/s]\n",
            "Validation: 100%|██████████| 286/286 [00:06<00:00, 44.78batch/s]\n"
          ]
        },
        {
          "output_type": "stream",
          "name": "stdout",
          "text": [
            "Epoch 39/100 | Train Loss: 0.3769 | Train Acc: 0.7973 | Val Loss: 0.3788 | Val Acc: 0.7975\n",
            "\n"
          ]
        },
        {
          "output_type": "stream",
          "name": "stderr",
          "text": [
            "Training: 100%|██████████| 1141/1141 [00:45<00:00, 24.96batch/s]\n",
            "Validation: 100%|██████████| 286/286 [00:04<00:00, 57.40batch/s]\n"
          ]
        },
        {
          "output_type": "stream",
          "name": "stdout",
          "text": [
            "Epoch 40/100 | Train Loss: 0.3747 | Train Acc: 0.7996 | Val Loss: 0.4040 | Val Acc: 0.7869\n",
            "\n"
          ]
        },
        {
          "output_type": "stream",
          "name": "stderr",
          "text": [
            "Training: 100%|██████████| 1141/1141 [00:47<00:00, 24.15batch/s]\n",
            "Validation: 100%|██████████| 286/286 [00:04<00:00, 57.36batch/s]\n"
          ]
        },
        {
          "output_type": "stream",
          "name": "stdout",
          "text": [
            "Epoch 41/100 | Train Loss: 0.3728 | Train Acc: 0.8022 | Val Loss: 0.3692 | Val Acc: 0.8054\n",
            "\n"
          ]
        },
        {
          "output_type": "stream",
          "name": "stderr",
          "text": [
            "Training: 100%|██████████| 1141/1141 [00:45<00:00, 25.14batch/s]\n",
            "Validation: 100%|██████████| 286/286 [00:06<00:00, 44.69batch/s]\n"
          ]
        },
        {
          "output_type": "stream",
          "name": "stdout",
          "text": [
            "Epoch 42/100 | Train Loss: 0.3701 | Train Acc: 0.8041 | Val Loss: 0.3704 | Val Acc: 0.8016\n",
            "\n"
          ]
        },
        {
          "output_type": "stream",
          "name": "stderr",
          "text": [
            "Training: 100%|██████████| 1141/1141 [00:45<00:00, 25.21batch/s]\n",
            "Validation: 100%|██████████| 286/286 [00:05<00:00, 55.33batch/s]\n"
          ]
        },
        {
          "output_type": "stream",
          "name": "stdout",
          "text": [
            "Epoch 43/100 | Train Loss: 0.3694 | Train Acc: 0.8045 | Val Loss: 0.3795 | Val Acc: 0.7973\n",
            "\n"
          ]
        },
        {
          "output_type": "stream",
          "name": "stderr",
          "text": [
            "Training: 100%|██████████| 1141/1141 [00:45<00:00, 24.87batch/s]\n",
            "Validation: 100%|██████████| 286/286 [00:05<00:00, 49.47batch/s]\n"
          ]
        },
        {
          "output_type": "stream",
          "name": "stdout",
          "text": [
            "Epoch 44/100 | Train Loss: 0.3676 | Train Acc: 0.8052 | Val Loss: 0.3630 | Val Acc: 0.8090\n",
            "\n"
          ]
        },
        {
          "output_type": "stream",
          "name": "stderr",
          "text": [
            "Training: 100%|██████████| 1141/1141 [00:44<00:00, 25.40batch/s]\n",
            "Validation: 100%|██████████| 286/286 [00:05<00:00, 56.61batch/s]\n"
          ]
        },
        {
          "output_type": "stream",
          "name": "stdout",
          "text": [
            "Epoch 45/100 | Train Loss: 0.3659 | Train Acc: 0.8057 | Val Loss: 0.3693 | Val Acc: 0.8049\n",
            "\n"
          ]
        },
        {
          "output_type": "stream",
          "name": "stderr",
          "text": [
            "Training: 100%|██████████| 1141/1141 [00:44<00:00, 25.90batch/s]\n",
            "Validation: 100%|██████████| 286/286 [00:05<00:00, 52.86batch/s]\n"
          ]
        },
        {
          "output_type": "stream",
          "name": "stdout",
          "text": [
            "Epoch 46/100 | Train Loss: 0.3656 | Train Acc: 0.8080 | Val Loss: 0.3632 | Val Acc: 0.8055\n",
            "\n"
          ]
        },
        {
          "output_type": "stream",
          "name": "stderr",
          "text": [
            "Training: 100%|██████████| 1141/1141 [00:45<00:00, 25.24batch/s]\n",
            "Validation: 100%|██████████| 286/286 [00:05<00:00, 53.70batch/s]\n"
          ]
        },
        {
          "output_type": "stream",
          "name": "stdout",
          "text": [
            "Epoch 47/100 | Train Loss: 0.3665 | Train Acc: 0.8068 | Val Loss: 0.3818 | Val Acc: 0.7999\n",
            "\n"
          ]
        },
        {
          "output_type": "stream",
          "name": "stderr",
          "text": [
            "Training: 100%|██████████| 1141/1141 [00:46<00:00, 24.55batch/s]\n",
            "Validation: 100%|██████████| 286/286 [00:05<00:00, 53.42batch/s]\n"
          ]
        },
        {
          "output_type": "stream",
          "name": "stdout",
          "text": [
            "Epoch 48/100 | Train Loss: 0.3636 | Train Acc: 0.8075 | Val Loss: 0.3613 | Val Acc: 0.8086\n",
            "\n"
          ]
        },
        {
          "output_type": "stream",
          "name": "stderr",
          "text": [
            "Training: 100%|██████████| 1141/1141 [00:47<00:00, 24.22batch/s]\n",
            "Validation: 100%|██████████| 286/286 [00:06<00:00, 44.81batch/s]\n"
          ]
        },
        {
          "output_type": "stream",
          "name": "stdout",
          "text": [
            "Epoch 49/100 | Train Loss: 0.3623 | Train Acc: 0.8100 | Val Loss: 0.3771 | Val Acc: 0.7970\n",
            "\n"
          ]
        },
        {
          "output_type": "stream",
          "name": "stderr",
          "text": [
            "Training: 100%|██████████| 1141/1141 [00:45<00:00, 25.11batch/s]\n",
            "Validation: 100%|██████████| 286/286 [00:05<00:00, 50.26batch/s]\n"
          ]
        },
        {
          "output_type": "stream",
          "name": "stdout",
          "text": [
            "Epoch 50/100 | Train Loss: 0.3597 | Train Acc: 0.8108 | Val Loss: 0.3725 | Val Acc: 0.8003\n",
            "\n"
          ]
        },
        {
          "output_type": "stream",
          "name": "stderr",
          "text": [
            "Training: 100%|██████████| 1141/1141 [00:47<00:00, 24.20batch/s]\n",
            "Validation: 100%|██████████| 286/286 [00:05<00:00, 54.67batch/s]\n"
          ]
        },
        {
          "output_type": "stream",
          "name": "stdout",
          "text": [
            "Epoch 51/100 | Train Loss: 0.3579 | Train Acc: 0.8117 | Val Loss: 0.3545 | Val Acc: 0.8151\n",
            "\n"
          ]
        },
        {
          "output_type": "stream",
          "name": "stderr",
          "text": [
            "Training: 100%|██████████| 1141/1141 [00:44<00:00, 25.58batch/s]\n",
            "Validation: 100%|██████████| 286/286 [00:06<00:00, 42.82batch/s]\n"
          ]
        },
        {
          "output_type": "stream",
          "name": "stdout",
          "text": [
            "Epoch 52/100 | Train Loss: 0.3586 | Train Acc: 0.8103 | Val Loss: 0.3667 | Val Acc: 0.8106\n",
            "\n"
          ]
        },
        {
          "output_type": "stream",
          "name": "stderr",
          "text": [
            "Training: 100%|██████████| 1141/1141 [00:46<00:00, 24.70batch/s]\n",
            "Validation: 100%|██████████| 286/286 [00:05<00:00, 52.12batch/s]\n"
          ]
        },
        {
          "output_type": "stream",
          "name": "stdout",
          "text": [
            "Epoch 53/100 | Train Loss: 0.3588 | Train Acc: 0.8126 | Val Loss: 0.3614 | Val Acc: 0.8072\n",
            "\n"
          ]
        },
        {
          "output_type": "stream",
          "name": "stderr",
          "text": [
            "Training: 100%|██████████| 1141/1141 [00:45<00:00, 25.24batch/s]\n",
            "Validation: 100%|██████████| 286/286 [00:07<00:00, 40.37batch/s]\n"
          ]
        },
        {
          "output_type": "stream",
          "name": "stdout",
          "text": [
            "Epoch 54/100 | Train Loss: 0.3563 | Train Acc: 0.8139 | Val Loss: 0.3648 | Val Acc: 0.8064\n",
            "\n"
          ]
        },
        {
          "output_type": "stream",
          "name": "stderr",
          "text": [
            "Training: 100%|██████████| 1141/1141 [00:43<00:00, 26.31batch/s]\n",
            "Validation: 100%|██████████| 286/286 [00:04<00:00, 58.34batch/s]\n"
          ]
        },
        {
          "output_type": "stream",
          "name": "stdout",
          "text": [
            "Epoch 55/100 | Train Loss: 0.3574 | Train Acc: 0.8142 | Val Loss: 0.3496 | Val Acc: 0.8154\n",
            "\n"
          ]
        },
        {
          "output_type": "stream",
          "name": "stderr",
          "text": [
            "Training: 100%|██████████| 1141/1141 [00:46<00:00, 24.50batch/s]\n",
            "Validation: 100%|██████████| 286/286 [00:05<00:00, 49.54batch/s]\n"
          ]
        },
        {
          "output_type": "stream",
          "name": "stdout",
          "text": [
            "Epoch 56/100 | Train Loss: 0.3540 | Train Acc: 0.8151 | Val Loss: 0.3600 | Val Acc: 0.8181\n",
            "\n"
          ]
        },
        {
          "output_type": "stream",
          "name": "stderr",
          "text": [
            "Training: 100%|██████████| 1141/1141 [00:44<00:00, 25.64batch/s]\n",
            "Validation: 100%|██████████| 286/286 [00:05<00:00, 56.47batch/s]\n"
          ]
        },
        {
          "output_type": "stream",
          "name": "stdout",
          "text": [
            "Epoch 57/100 | Train Loss: 0.3552 | Train Acc: 0.8151 | Val Loss: 0.3692 | Val Acc: 0.8074\n",
            "\n"
          ]
        },
        {
          "output_type": "stream",
          "name": "stderr",
          "text": [
            "Training: 100%|██████████| 1141/1141 [00:44<00:00, 25.50batch/s]\n",
            "Validation: 100%|██████████| 286/286 [00:05<00:00, 55.11batch/s]\n"
          ]
        },
        {
          "output_type": "stream",
          "name": "stdout",
          "text": [
            "Epoch 58/100 | Train Loss: 0.3506 | Train Acc: 0.8185 | Val Loss: 0.3721 | Val Acc: 0.8034\n",
            "\n"
          ]
        },
        {
          "output_type": "stream",
          "name": "stderr",
          "text": [
            "Training: 100%|██████████| 1141/1141 [00:43<00:00, 26.10batch/s]\n",
            "Validation: 100%|██████████| 286/286 [00:05<00:00, 55.20batch/s]\n"
          ]
        },
        {
          "output_type": "stream",
          "name": "stdout",
          "text": [
            "Epoch 59/100 | Train Loss: 0.3545 | Train Acc: 0.8164 | Val Loss: 0.3681 | Val Acc: 0.8041\n",
            "\n"
          ]
        },
        {
          "output_type": "stream",
          "name": "stderr",
          "text": [
            "Training: 100%|██████████| 1141/1141 [00:47<00:00, 23.96batch/s]\n",
            "Validation: 100%|██████████| 286/286 [00:05<00:00, 54.80batch/s]\n"
          ]
        },
        {
          "output_type": "stream",
          "name": "stdout",
          "text": [
            "Epoch 60/100 | Train Loss: 0.3504 | Train Acc: 0.8162 | Val Loss: 0.3515 | Val Acc: 0.8186\n",
            "\n"
          ]
        },
        {
          "output_type": "stream",
          "name": "stderr",
          "text": [
            "Training: 100%|██████████| 1141/1141 [00:44<00:00, 25.49batch/s]\n",
            "Validation: 100%|██████████| 286/286 [00:06<00:00, 46.55batch/s]\n"
          ]
        },
        {
          "output_type": "stream",
          "name": "stdout",
          "text": [
            "Epoch 61/100 | Train Loss: 0.3505 | Train Acc: 0.8197 | Val Loss: 0.3727 | Val Acc: 0.7943\n",
            "\n"
          ]
        },
        {
          "output_type": "stream",
          "name": "stderr",
          "text": [
            "Training: 100%|██████████| 1141/1141 [00:45<00:00, 25.27batch/s]\n",
            "Validation: 100%|██████████| 286/286 [00:05<00:00, 56.49batch/s]\n"
          ]
        },
        {
          "output_type": "stream",
          "name": "stdout",
          "text": [
            "Epoch 62/100 | Train Loss: 0.3508 | Train Acc: 0.8194 | Val Loss: 0.3572 | Val Acc: 0.8088\n",
            "\n"
          ]
        },
        {
          "output_type": "stream",
          "name": "stderr",
          "text": [
            "Training: 100%|██████████| 1141/1141 [00:43<00:00, 26.16batch/s]\n",
            "Validation: 100%|██████████| 286/286 [00:06<00:00, 47.35batch/s]\n"
          ]
        },
        {
          "output_type": "stream",
          "name": "stdout",
          "text": [
            "Epoch 63/100 | Train Loss: 0.3486 | Train Acc: 0.8191 | Val Loss: 0.4151 | Val Acc: 0.7807\n",
            "\n"
          ]
        },
        {
          "output_type": "stream",
          "name": "stderr",
          "text": [
            "Training: 100%|██████████| 1141/1141 [00:44<00:00, 25.82batch/s]\n",
            "Validation: 100%|██████████| 286/286 [00:04<00:00, 58.05batch/s]\n"
          ]
        },
        {
          "output_type": "stream",
          "name": "stdout",
          "text": [
            "Epoch 64/100 | Train Loss: 0.3460 | Train Acc: 0.8204 | Val Loss: 0.3518 | Val Acc: 0.8144\n",
            "\n"
          ]
        },
        {
          "output_type": "stream",
          "name": "stderr",
          "text": [
            "Training: 100%|██████████| 1141/1141 [00:45<00:00, 24.92batch/s]\n",
            "Validation: 100%|██████████| 286/286 [00:06<00:00, 47.01batch/s]\n"
          ]
        },
        {
          "output_type": "stream",
          "name": "stdout",
          "text": [
            "Epoch 65/100 | Train Loss: 0.3467 | Train Acc: 0.8217 | Val Loss: 0.3583 | Val Acc: 0.8165\n",
            "\n"
          ]
        },
        {
          "output_type": "stream",
          "name": "stderr",
          "text": [
            "Training: 100%|██████████| 1141/1141 [01:01<00:00, 18.59batch/s]\n",
            "Validation: 100%|██████████| 286/286 [00:05<00:00, 53.10batch/s]\n"
          ]
        },
        {
          "output_type": "stream",
          "name": "stdout",
          "text": [
            "Epoch 66/100 | Train Loss: 0.3462 | Train Acc: 0.8206 | Val Loss: 0.3513 | Val Acc: 0.8198\n",
            "\n"
          ]
        },
        {
          "output_type": "stream",
          "name": "stderr",
          "text": [
            "Training: 100%|██████████| 1141/1141 [00:57<00:00, 19.71batch/s]\n",
            "Validation: 100%|██████████| 286/286 [00:07<00:00, 40.10batch/s]\n"
          ]
        },
        {
          "output_type": "stream",
          "name": "stdout",
          "text": [
            "Epoch 67/100 | Train Loss: 0.3453 | Train Acc: 0.8230 | Val Loss: 0.3571 | Val Acc: 0.8157\n",
            "\n"
          ]
        },
        {
          "output_type": "stream",
          "name": "stderr",
          "text": [
            "Training: 100%|██████████| 1141/1141 [00:57<00:00, 19.90batch/s]\n",
            "Validation: 100%|██████████| 286/286 [00:07<00:00, 36.93batch/s]\n"
          ]
        },
        {
          "output_type": "stream",
          "name": "stdout",
          "text": [
            "Epoch 68/100 | Train Loss: 0.3441 | Train Acc: 0.8220 | Val Loss: 0.3579 | Val Acc: 0.8135\n",
            "\n"
          ]
        },
        {
          "output_type": "stream",
          "name": "stderr",
          "text": [
            "Training: 100%|██████████| 1141/1141 [00:49<00:00, 23.02batch/s]\n",
            "Validation: 100%|██████████| 286/286 [00:07<00:00, 40.41batch/s]\n"
          ]
        },
        {
          "output_type": "stream",
          "name": "stdout",
          "text": [
            "Epoch 69/100 | Train Loss: 0.3450 | Train Acc: 0.8191 | Val Loss: 0.3430 | Val Acc: 0.8262\n",
            "\n"
          ]
        },
        {
          "output_type": "stream",
          "name": "stderr",
          "text": [
            "Training: 100%|██████████| 1141/1141 [00:48<00:00, 23.65batch/s]\n",
            "Validation: 100%|██████████| 286/286 [00:07<00:00, 40.11batch/s]\n"
          ]
        },
        {
          "output_type": "stream",
          "name": "stdout",
          "text": [
            "Epoch 70/100 | Train Loss: 0.3408 | Train Acc: 0.8241 | Val Loss: 0.3645 | Val Acc: 0.8076\n",
            "\n"
          ]
        },
        {
          "output_type": "stream",
          "name": "stderr",
          "text": [
            "Training: 100%|██████████| 1141/1141 [00:49<00:00, 23.13batch/s]\n",
            "Validation: 100%|██████████| 286/286 [00:05<00:00, 52.90batch/s]\n"
          ]
        },
        {
          "output_type": "stream",
          "name": "stdout",
          "text": [
            "Epoch 71/100 | Train Loss: 0.3419 | Train Acc: 0.8233 | Val Loss: 0.3552 | Val Acc: 0.8156\n",
            "\n"
          ]
        },
        {
          "output_type": "stream",
          "name": "stderr",
          "text": [
            "Training: 100%|██████████| 1141/1141 [00:49<00:00, 22.97batch/s]\n",
            "Validation: 100%|██████████| 286/286 [00:05<00:00, 49.89batch/s]\n"
          ]
        },
        {
          "output_type": "stream",
          "name": "stdout",
          "text": [
            "Epoch 72/100 | Train Loss: 0.3418 | Train Acc: 0.8247 | Val Loss: 0.3572 | Val Acc: 0.8136\n",
            "\n"
          ]
        },
        {
          "output_type": "stream",
          "name": "stderr",
          "text": [
            "Training: 100%|██████████| 1141/1141 [00:48<00:00, 23.53batch/s]\n",
            "Validation: 100%|██████████| 286/286 [00:05<00:00, 53.03batch/s]\n"
          ]
        },
        {
          "output_type": "stream",
          "name": "stdout",
          "text": [
            "Epoch 73/100 | Train Loss: 0.3403 | Train Acc: 0.8241 | Val Loss: 0.3461 | Val Acc: 0.8246\n",
            "\n"
          ]
        },
        {
          "output_type": "stream",
          "name": "stderr",
          "text": [
            "Training: 100%|██████████| 1141/1141 [00:47<00:00, 23.90batch/s]\n",
            "Validation: 100%|██████████| 286/286 [00:07<00:00, 39.17batch/s]\n"
          ]
        },
        {
          "output_type": "stream",
          "name": "stdout",
          "text": [
            "Epoch 74/100 | Train Loss: 0.3400 | Train Acc: 0.8244 | Val Loss: 0.3433 | Val Acc: 0.8227\n",
            "\n"
          ]
        },
        {
          "output_type": "stream",
          "name": "stderr",
          "text": [
            "Training: 100%|██████████| 1141/1141 [00:47<00:00, 24.26batch/s]\n",
            "Validation: 100%|██████████| 286/286 [00:05<00:00, 52.87batch/s]\n"
          ]
        },
        {
          "output_type": "stream",
          "name": "stdout",
          "text": [
            "Epoch 75/100 | Train Loss: 0.3391 | Train Acc: 0.8255 | Val Loss: 0.3521 | Val Acc: 0.8194\n",
            "\n"
          ]
        },
        {
          "output_type": "stream",
          "name": "stderr",
          "text": [
            "Training: 100%|██████████| 1141/1141 [00:50<00:00, 22.38batch/s]\n",
            "Validation: 100%|██████████| 286/286 [00:05<00:00, 49.21batch/s]\n"
          ]
        },
        {
          "output_type": "stream",
          "name": "stdout",
          "text": [
            "Epoch 76/100 | Train Loss: 0.3343 | Train Acc: 0.8308 | Val Loss: 0.3378 | Val Acc: 0.8282\n",
            "\n"
          ]
        },
        {
          "output_type": "stream",
          "name": "stderr",
          "text": [
            "Training: 100%|██████████| 1141/1141 [00:49<00:00, 23.12batch/s]\n",
            "Validation: 100%|██████████| 286/286 [00:04<00:00, 59.43batch/s]\n"
          ]
        },
        {
          "output_type": "stream",
          "name": "stdout",
          "text": [
            "Epoch 77/100 | Train Loss: 0.3382 | Train Acc: 0.8241 | Val Loss: 0.3643 | Val Acc: 0.8063\n",
            "\n"
          ]
        },
        {
          "output_type": "stream",
          "name": "stderr",
          "text": [
            "Training: 100%|██████████| 1141/1141 [00:47<00:00, 24.21batch/s]\n",
            "Validation: 100%|██████████| 286/286 [00:08<00:00, 35.38batch/s]\n"
          ]
        },
        {
          "output_type": "stream",
          "name": "stdout",
          "text": [
            "Epoch 78/100 | Train Loss: 0.3379 | Train Acc: 0.8268 | Val Loss: 0.3499 | Val Acc: 0.8234\n",
            "\n"
          ]
        },
        {
          "output_type": "stream",
          "name": "stderr",
          "text": [
            "Training: 100%|██████████| 1141/1141 [00:47<00:00, 24.03batch/s]\n",
            "Validation: 100%|██████████| 286/286 [00:05<00:00, 48.78batch/s]\n"
          ]
        },
        {
          "output_type": "stream",
          "name": "stdout",
          "text": [
            "Epoch 79/100 | Train Loss: 0.3368 | Train Acc: 0.8272 | Val Loss: 0.3697 | Val Acc: 0.8051\n",
            "\n"
          ]
        },
        {
          "output_type": "stream",
          "name": "stderr",
          "text": [
            "Training: 100%|██████████| 1141/1141 [00:49<00:00, 23.19batch/s]\n",
            "Validation: 100%|██████████| 286/286 [00:05<00:00, 53.16batch/s]\n"
          ]
        },
        {
          "output_type": "stream",
          "name": "stdout",
          "text": [
            "Epoch 80/100 | Train Loss: 0.3364 | Train Acc: 0.8278 | Val Loss: 0.3346 | Val Acc: 0.8300\n",
            "\n"
          ]
        },
        {
          "output_type": "stream",
          "name": "stderr",
          "text": [
            "Training: 100%|██████████| 1141/1141 [00:45<00:00, 24.84batch/s]\n",
            "Validation: 100%|██████████| 286/286 [00:06<00:00, 47.65batch/s]\n"
          ]
        },
        {
          "output_type": "stream",
          "name": "stdout",
          "text": [
            "Epoch 81/100 | Train Loss: 0.3358 | Train Acc: 0.8270 | Val Loss: 0.3501 | Val Acc: 0.8208\n",
            "\n"
          ]
        },
        {
          "output_type": "stream",
          "name": "stderr",
          "text": [
            "Training: 100%|██████████| 1141/1141 [00:43<00:00, 25.96batch/s]\n",
            "Validation: 100%|██████████| 286/286 [00:05<00:00, 55.14batch/s]\n"
          ]
        },
        {
          "output_type": "stream",
          "name": "stdout",
          "text": [
            "Epoch 82/100 | Train Loss: 0.3331 | Train Acc: 0.8314 | Val Loss: 0.3458 | Val Acc: 0.8181\n",
            "\n"
          ]
        },
        {
          "output_type": "stream",
          "name": "stderr",
          "text": [
            "Training: 100%|██████████| 1141/1141 [00:45<00:00, 24.88batch/s]\n",
            "Validation: 100%|██████████| 286/286 [00:05<00:00, 50.00batch/s]\n"
          ]
        },
        {
          "output_type": "stream",
          "name": "stdout",
          "text": [
            "Epoch 83/100 | Train Loss: 0.3348 | Train Acc: 0.8287 | Val Loss: 0.3406 | Val Acc: 0.8268\n",
            "\n"
          ]
        },
        {
          "output_type": "stream",
          "name": "stderr",
          "text": [
            "Training: 100%|██████████| 1141/1141 [00:45<00:00, 25.14batch/s]\n",
            "Validation: 100%|██████████| 286/286 [00:04<00:00, 57.28batch/s]\n"
          ]
        },
        {
          "output_type": "stream",
          "name": "stdout",
          "text": [
            "Epoch 84/100 | Train Loss: 0.3354 | Train Acc: 0.8281 | Val Loss: 0.3666 | Val Acc: 0.8117\n",
            "\n"
          ]
        },
        {
          "output_type": "stream",
          "name": "stderr",
          "text": [
            "Training: 100%|██████████| 1141/1141 [00:44<00:00, 25.52batch/s]\n",
            "Validation: 100%|██████████| 286/286 [00:06<00:00, 45.77batch/s]\n"
          ]
        },
        {
          "output_type": "stream",
          "name": "stdout",
          "text": [
            "Epoch 85/100 | Train Loss: 0.3350 | Train Acc: 0.8293 | Val Loss: 0.3411 | Val Acc: 0.8233\n",
            "\n"
          ]
        },
        {
          "output_type": "stream",
          "name": "stderr",
          "text": [
            "Training: 100%|██████████| 1141/1141 [00:45<00:00, 25.06batch/s]\n",
            "Validation: 100%|██████████| 286/286 [00:05<00:00, 56.72batch/s]\n"
          ]
        },
        {
          "output_type": "stream",
          "name": "stdout",
          "text": [
            "Epoch 86/100 | Train Loss: 0.3337 | Train Acc: 0.8296 | Val Loss: 0.3385 | Val Acc: 0.8232\n",
            "\n"
          ]
        },
        {
          "output_type": "stream",
          "name": "stderr",
          "text": [
            "Training: 100%|██████████| 1141/1141 [00:45<00:00, 25.23batch/s]\n",
            "Validation: 100%|██████████| 286/286 [00:06<00:00, 45.96batch/s]\n"
          ]
        },
        {
          "output_type": "stream",
          "name": "stdout",
          "text": [
            "Epoch 87/100 | Train Loss: 0.3348 | Train Acc: 0.8307 | Val Loss: 0.3525 | Val Acc: 0.8086\n",
            "\n"
          ]
        },
        {
          "output_type": "stream",
          "name": "stderr",
          "text": [
            "Training: 100%|██████████| 1141/1141 [00:47<00:00, 24.17batch/s]\n",
            "Validation: 100%|██████████| 286/286 [00:06<00:00, 45.41batch/s]\n"
          ]
        },
        {
          "output_type": "stream",
          "name": "stdout",
          "text": [
            "Epoch 88/100 | Train Loss: 0.3286 | Train Acc: 0.8329 | Val Loss: 0.3313 | Val Acc: 0.8324\n",
            "\n"
          ]
        },
        {
          "output_type": "stream",
          "name": "stderr",
          "text": [
            "Training: 100%|██████████| 1141/1141 [00:45<00:00, 25.32batch/s]\n",
            "Validation: 100%|██████████| 286/286 [00:05<00:00, 54.09batch/s]\n"
          ]
        },
        {
          "output_type": "stream",
          "name": "stdout",
          "text": [
            "Epoch 89/100 | Train Loss: 0.3317 | Train Acc: 0.8327 | Val Loss: 0.3394 | Val Acc: 0.8259\n",
            "\n"
          ]
        },
        {
          "output_type": "stream",
          "name": "stderr",
          "text": [
            "Training: 100%|██████████| 1141/1141 [00:45<00:00, 25.30batch/s]\n",
            "Validation: 100%|██████████| 286/286 [00:05<00:00, 49.97batch/s]\n"
          ]
        },
        {
          "output_type": "stream",
          "name": "stdout",
          "text": [
            "Epoch 90/100 | Train Loss: 0.3320 | Train Acc: 0.8286 | Val Loss: 0.3400 | Val Acc: 0.8219\n",
            "\n"
          ]
        },
        {
          "output_type": "stream",
          "name": "stderr",
          "text": [
            "Training: 100%|██████████| 1141/1141 [00:45<00:00, 25.04batch/s]\n",
            "Validation: 100%|██████████| 286/286 [00:05<00:00, 55.55batch/s]\n"
          ]
        },
        {
          "output_type": "stream",
          "name": "stdout",
          "text": [
            "Epoch 91/100 | Train Loss: 0.3282 | Train Acc: 0.8321 | Val Loss: 0.3783 | Val Acc: 0.8021\n",
            "\n"
          ]
        },
        {
          "output_type": "stream",
          "name": "stderr",
          "text": [
            "Training: 100%|██████████| 1141/1141 [00:44<00:00, 25.87batch/s]\n",
            "Validation: 100%|██████████| 286/286 [00:06<00:00, 47.11batch/s]\n"
          ]
        },
        {
          "output_type": "stream",
          "name": "stdout",
          "text": [
            "Epoch 92/100 | Train Loss: 0.3295 | Train Acc: 0.8326 | Val Loss: 0.3404 | Val Acc: 0.8285\n",
            "\n"
          ]
        },
        {
          "output_type": "stream",
          "name": "stderr",
          "text": [
            "Training: 100%|██████████| 1141/1141 [00:46<00:00, 24.46batch/s]\n",
            "Validation: 100%|██████████| 286/286 [00:04<00:00, 59.51batch/s]\n"
          ]
        },
        {
          "output_type": "stream",
          "name": "stdout",
          "text": [
            "Epoch 93/100 | Train Loss: 0.3270 | Train Acc: 0.8327 | Val Loss: 0.3419 | Val Acc: 0.8220\n",
            "\n"
          ]
        },
        {
          "output_type": "stream",
          "name": "stderr",
          "text": [
            "Training: 100%|██████████| 1141/1141 [00:45<00:00, 24.97batch/s]\n",
            "Validation: 100%|██████████| 286/286 [00:05<00:00, 48.00batch/s]\n"
          ]
        },
        {
          "output_type": "stream",
          "name": "stdout",
          "text": [
            "Epoch 94/100 | Train Loss: 0.3283 | Train Acc: 0.8335 | Val Loss: 0.3375 | Val Acc: 0.8249\n",
            "\n"
          ]
        },
        {
          "output_type": "stream",
          "name": "stderr",
          "text": [
            "Training: 100%|██████████| 1141/1141 [00:45<00:00, 24.89batch/s]\n",
            "Validation: 100%|██████████| 286/286 [00:05<00:00, 50.23batch/s]\n"
          ]
        },
        {
          "output_type": "stream",
          "name": "stdout",
          "text": [
            "Epoch 95/100 | Train Loss: 0.3283 | Train Acc: 0.8324 | Val Loss: 0.3312 | Val Acc: 0.8321\n",
            "\n"
          ]
        },
        {
          "output_type": "stream",
          "name": "stderr",
          "text": [
            "Training: 100%|██████████| 1141/1141 [00:47<00:00, 24.11batch/s]\n",
            "Validation: 100%|██████████| 286/286 [00:05<00:00, 53.69batch/s]\n"
          ]
        },
        {
          "output_type": "stream",
          "name": "stdout",
          "text": [
            "Epoch 96/100 | Train Loss: 0.3284 | Train Acc: 0.8333 | Val Loss: 0.3443 | Val Acc: 0.8222\n",
            "\n"
          ]
        },
        {
          "output_type": "stream",
          "name": "stderr",
          "text": [
            "Training: 100%|██████████| 1141/1141 [00:45<00:00, 25.02batch/s]\n",
            "Validation: 100%|██████████| 286/286 [00:06<00:00, 46.28batch/s]\n"
          ]
        },
        {
          "output_type": "stream",
          "name": "stdout",
          "text": [
            "Epoch 97/100 | Train Loss: 0.3226 | Train Acc: 0.8335 | Val Loss: 0.3461 | Val Acc: 0.8269\n",
            "\n"
          ]
        },
        {
          "output_type": "stream",
          "name": "stderr",
          "text": [
            "Training: 100%|██████████| 1141/1141 [00:47<00:00, 24.26batch/s]\n",
            "Validation: 100%|██████████| 286/286 [00:06<00:00, 43.67batch/s]\n"
          ]
        },
        {
          "output_type": "stream",
          "name": "stdout",
          "text": [
            "Epoch 98/100 | Train Loss: 0.3244 | Train Acc: 0.8354 | Val Loss: 0.3352 | Val Acc: 0.8258\n",
            "\n"
          ]
        },
        {
          "output_type": "stream",
          "name": "stderr",
          "text": [
            "Training: 100%|██████████| 1141/1141 [00:49<00:00, 23.11batch/s]\n",
            "Validation: 100%|██████████| 286/286 [00:04<00:00, 59.49batch/s]\n"
          ]
        },
        {
          "output_type": "stream",
          "name": "stdout",
          "text": [
            "Epoch 99/100 | Train Loss: 0.3270 | Train Acc: 0.8341 | Val Loss: 0.3414 | Val Acc: 0.8313\n",
            "\n"
          ]
        },
        {
          "output_type": "stream",
          "name": "stderr",
          "text": [
            "Training: 100%|██████████| 1141/1141 [00:47<00:00, 24.04batch/s]\n",
            "Validation: 100%|██████████| 286/286 [00:06<00:00, 44.91batch/s]"
          ]
        },
        {
          "output_type": "stream",
          "name": "stdout",
          "text": [
            "Epoch 100/100 | Train Loss: 0.3261 | Train Acc: 0.8355 | Val Loss: 0.3328 | Val Acc: 0.8314\n",
            "\n",
            "Restored model to the best state based on validation loss.\n"
          ]
        },
        {
          "output_type": "stream",
          "name": "stderr",
          "text": [
            "\n"
          ]
        }
      ]
    },
    {
      "cell_type": "code",
      "source": [
        "epochs_range = range(EPOCHS)\n",
        "plt.figure(figsize=(15, 15))\n",
        "plt.subplot(2, 2, 1)\n",
        "plt.plot(epochs_range, history['Train Acc'], label='Training Accuracy')\n",
        "plt.plot(epochs_range, history['Val Acc'], label='Validation Accuracy')\n",
        "plt.legend(loc='lower right')\n",
        "plt.title('Training and Validation Accuracy')\n",
        "\n",
        "plt.subplot(2, 2, 2)\n",
        "plt.plot(epochs_range, history['Train Loss'], label='Training Loss')\n",
        "plt.plot(epochs_range, history['Val Loss'], label='Validation Loss')\n",
        "plt.legend(loc='upper right')\n",
        "plt.title('Training and Validation Loss')\n",
        "plt.show()"
      ],
      "metadata": {
        "colab": {
          "base_uri": "https://localhost:8080/",
          "height": 608
        },
        "id": "b7AQ3G4Ysj-t",
        "outputId": "ab1fa7b2-405d-4d90-ee55-d63e68a7b75b"
      },
      "execution_count": 13,
      "outputs": [
        {
          "output_type": "display_data",
          "data": {
            "text/plain": [
              "<Figure size 1500x1500 with 2 Axes>"
            ],
            "image/png": "[encoded data removed]"
          },
          "metadata": {}
        }
      ]
    },
    {
      "cell_type": "code",
      "source": [
        "from sklearn.metrics import confusion_matrix, precision_score, recall_score, f1_score, accuracy_score\n",
        "\n",
        "def tune_threshold(threshold):\n",
        "    best_f1, best_thres = 0, 0\n",
        "    y_t, y_p = 0, 0\n",
        "    for i in threshold:\n",
        "        y_true, y_pred = model.eval(threshold=i)\n",
        "        f1 = f1_score(y_true, y_pred, average='macro')\n",
        "        if best_f1 < f1:\n",
        "            best_f1, best_thres = f1, i\n",
        "            y_t = y_true\n",
        "            y_p = y_pred\n",
        "    return best_thres, y_t, y_p\n",
        "\n",
        "threshold, y_true, y_pred = tune_threshold(np.arange(0.45, 0.65, 0.01))"
      ],
      "metadata": {
        "id": "6N7kUZSmWioD",
        "outputId": "5819e849-a8b5-410f-a840-2ff5e556f556",
        "colab": {
          "base_uri": "https://localhost:8080/"
        }
      },
      "execution_count": 14,
      "outputs": [
        {
          "output_type": "stream",
          "name": "stderr",
          "text": [
            "Validation: 100%|██████████| 286/286 [00:05<00:00, 53.82batch/s]\n",
            "Validation: 100%|██████████| 286/286 [00:05<00:00, 48.31batch/s]\n",
            "Validation: 100%|██████████| 286/286 [00:05<00:00, 55.65batch/s]\n",
            "Validation: 100%|██████████| 286/286 [00:06<00:00, 45.52batch/s]\n",
            "Validation: 100%|██████████| 286/286 [00:05<00:00, 50.80batch/s]\n",
            "Validation: 100%|██████████| 286/286 [00:05<00:00, 54.51batch/s]\n",
            "Validation: 100%|██████████| 286/286 [00:06<00:00, 45.40batch/s]\n",
            "Validation: 100%|██████████| 286/286 [00:05<00:00, 55.29batch/s]\n",
            "Validation: 100%|██████████| 286/286 [00:05<00:00, 47.86batch/s]\n",
            "Validation: 100%|██████████| 286/286 [00:05<00:00, 53.38batch/s]\n",
            "Validation: 100%|██████████| 286/286 [00:05<00:00, 50.60batch/s]\n",
            "Validation: 100%|██████████| 286/286 [00:06<00:00, 47.63batch/s]\n",
            "Validation: 100%|██████████| 286/286 [00:05<00:00, 54.39batch/s]\n",
            "Validation: 100%|██████████| 286/286 [00:06<00:00, 44.21batch/s]\n",
            "Validation: 100%|██████████| 286/286 [00:05<00:00, 56.25batch/s]\n",
            "Validation: 100%|██████████| 286/286 [00:05<00:00, 48.68batch/s]\n",
            "Validation: 100%|██████████| 286/286 [00:06<00:00, 47.39batch/s]\n",
            "Validation: 100%|██████████| 286/286 [00:05<00:00, 55.46batch/s]\n",
            "Validation: 100%|██████████| 286/286 [00:06<00:00, 44.34batch/s]\n",
            "Validation: 100%|██████████| 286/286 [00:05<00:00, 57.20batch/s]\n"
          ]
        }
      ]
    },
    {
      "cell_type": "code",
      "source": [
        "precision = precision_score(y_true, y_pred, average='macro')\n",
        "recall = recall_score(y_true, y_pred, average='macro')\n",
        "f1 = f1_score(y_true, y_pred, average='macro')\n",
        "accuracy = accuracy_score(y_true, y_pred)\n",
        "\n",
        "print(f\"Precision: {precision:.4f}\")\n",
        "print(f\"Recall: {recall:.4f}\")\n",
        "print(f\"F1 Score: {f1:.4f}\")\n",
        "print(f\"Akurasi: {accuracy:.4f}\")\n",
        "print(f\"Threshold: {threshold:.4f}\")\n",
        "\n",
        "cm = confusion_matrix(y_true, y_pred)\n",
        "\n",
        "plt.figure(figsize=(6, 5))\n",
        "sns.heatmap(cm, annot=True, fmt='d', cmap='Blues', xticklabels=['Inactive', 'Active'], yticklabels=['Inactive', 'Active'])\n",
        "plt.title('Confusion Matrix')\n",
        "plt.xlabel('Predicted')\n",
        "plt.ylabel('True')\n",
        "plt.show()"
      ],
      "metadata": {
        "id": "5f_QYTpNAlJD",
        "outputId": "1798198e-64e5-4231-9f7f-eb89a4ff28ae",
        "colab": {
          "base_uri": "https://localhost:8080/",
          "height": 574
        }
      },
      "execution_count": 31,
      "outputs": [
        {
          "output_type": "stream",
          "name": "stdout",
          "text": [
            "Precision: 0.8343\n",
            "Recall: 0.8333\n",
            "F1 Score: 0.8338\n",
            "Akurasi: 0.8365\n",
            "Threshold: 0.4500\n"
          ]
        },
        {
          "output_type": "display_data",
          "data": {
            "text/plain": [
              "<Figure size 600x500 with 2 Axes>"
            ],
            "image/png": "[encoded data removed]"
          },
          "metadata": {}
        }
      ]
    },
    {
      "cell_type": "code",
      "source": [
        "def predict(model, molekul, threshold):\n",
        "    prob = model.predict(molekul)\n",
        "    pred = \"active\" if prob[0] > threshold else \"inactive\"\n",
        "    return pred\n",
        "\n",
        "print(predict(model, \"Oc1cccc(-c2nc(N3CCOCC3)c3sccc3n2)c1\", threshold))\n",
        "print(predict(model, \"CCn1c(=O)c2ccnn2c2cc(NC)c(C(=O)NCc3cccnc3)cc21\", threshold))"
      ],
      "metadata": {
        "id": "ATlQsdbgvw8_",
        "outputId": "2d08a2a4-a4ba-43bf-c5ba-b758f7c543eb",
        "colab": {
          "base_uri": "https://localhost:8080/"
        }
      },
      "execution_count": 16,
      "outputs": [
        {
          "output_type": "stream",
          "name": "stdout",
          "text": [
            "active\n",
            "inactive\n"
          ]
        }
      ]
    },
    {
      "cell_type": "code",
      "source": [
        "# model.load_state(\"best.pt\")"
      ],
      "metadata": {
        "id": "g_lxaxAwNR6e"
      },
      "execution_count": null,
      "outputs": []
    },
    {
      "cell_type": "code",
      "source": [
        "torch.save(model.model, \"bio.pt\")"
      ],
      "metadata": {
        "id": "Tx7urbr4zNxi"
      },
      "execution_count": 17,
      "outputs": []
    },
    {
      "cell_type": "code",
      "source": [
        "from google.colab import files\n",
        "files.download('bio.pt')"
      ],
      "metadata": {
        "colab": {
          "base_uri": "https://localhost:8080/",
          "height": 17
        },
        "id": "_NUKiL-YAc0E",
        "outputId": "a4e14244-cb5c-4f4a-edab-34c32a0cd595"
      },
      "execution_count": 18,
      "outputs": [
        {
          "output_type": "display_data",
          "data": {
            "text/plain": [
              "<IPython.core.display.Javascript object>"
            ],
            "application/javascript": [
              "\n",
              "    async function download(id, filename, size) {\n",
              "      if (!google.colab.kernel.accessAllowed) {\n",
              "        return;\n",
              "      }\n",
              "      const div = document.createElement('div');\n",
              "      const label = document.createElement('label');\n",
              "      label.textContent = `Downloading \"${filename}\": `;\n",
              "      div.appendChild(label);\n",
              "      const progress = document.createElement('progress');\n",
              "      progress.max = size;\n",
              "      div.appendChild(progress);\n",
              "      document.body.appendChild(div);\n",
              "\n",
              "      const buffers = [];\n",
              "      let downloaded = 0;\n",
              "\n",
              "      const channel = await google.colab.kernel.comms.open(id);\n",
              "      // Send a message to notify the kernel that we're ready.\n",
              "      channel.send({})\n",
              "\n",
              "      for await (const message of channel.messages) {\n",
              "        // Send a message to notify the kernel that we're ready.\n",
              "        channel.send({})\n",
              "        if (message.buffers) {\n",
              "          for (const buffer of message.buffers) {\n",
              "            buffers.push(buffer);\n",
              "            downloaded += buffer.byteLength;\n",
              "            progress.value = downloaded;\n",
              "          }\n",
              "        }\n",
              "      }\n",
              "      const blob = new Blob(buffers, {type: 'application/binary'});\n",
              "      const a = document.createElement('a');\n",
              "      a.href = window.URL.createObjectURL(blob);\n",
              "      a.download = filename;\n",
              "      div.appendChild(a);\n",
              "      a.click();\n",
              "      div.remove();\n",
              "    }\n",
              "  "
            ]
          },
          "metadata": {}
        },
        {
          "output_type": "display_data",
          "data": {
            "text/plain": [
              "<IPython.core.display.Javascript object>"
            ],
            "application/javascript": [
              "download(\"download_04b3f63d-4510-41df-b284-48d2c2f0a6f3\", \"bio.pt\", 339302)"
            ]
          },
          "metadata": {}
        }
      ]
    }
  ],
  "metadata": {
    "colab": {
      "provenance": [],
      "include_colab_link": true
    },
    "kernelspec": {
      "display_name": "Python 3",
      "name": "python3"
    },
    "language_info": {
      "name": "python"
    }
  },
  "nbformat": 4,
  "nbformat_minor": 0
}