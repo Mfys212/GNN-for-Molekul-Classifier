{
  "cells": [
    {
      "cell_type": "markdown",
      "metadata": {
        "id": "view-in-github",
        "colab_type": "text"
      },
      "source": [
        "<a href=\"https://colab.research.google.com/github/Mfys212/GNN-for-Molekul-Classifier/blob/main/GNN_Molekul.ipynb\" target=\"_parent\"><img src=\"https://colab.research.google.com/assets/colab-badge.svg\" alt=\"Open In Colab\"/></a>"
      ]
    },
    {
      "cell_type": "code",
      "execution_count": 1,
      "metadata": {
        "colab": {
          "base_uri": "https://localhost:8080/"
        },
        "id": "rfwWo0myAtaN",
        "outputId": "8685bac0-731b-4df6-d288-65f2372caec9"
      },
      "outputs": [
        {
          "output_type": "stream",
          "name": "stdout",
          "text": [
            "Collecting torch_geometric\n",
            "  Downloading torch_geometric-2.6.1-py3-none-any.whl.metadata (63 kB)\n",
            "\u001b[?25l     \u001b[90m━━━━━━━━━━━━━━━━━━━━━━━━━━━━━━━━━━━━━━━━\u001b[0m \u001b[32m0.0/63.1 kB\u001b[0m \u001b[31m?\u001b[0m eta \u001b[36m-:--:--\u001b[0m\r\u001b[2K     \u001b[90m━━━━━━━━━━━━━━━━━━━━━━━━━━━━━━━━━━━━━━━━\u001b[0m \u001b[32m63.1/63.1 kB\u001b[0m \u001b[31m2.9 MB/s\u001b[0m eta \u001b[36m0:00:00\u001b[0m\n",
            "\u001b[?25hRequirement already satisfied: aiohttp in /usr/local/lib/python3.10/dist-packages (from torch_geometric) (3.11.9)\n",
            "Requirement already satisfied: fsspec in /usr/local/lib/python3.10/dist-packages (from torch_geometric) (2024.10.0)\n",
            "Requirement already satisfied: jinja2 in /usr/local/lib/python3.10/dist-packages (from torch_geometric) (3.1.4)\n",
            "Requirement already satisfied: numpy in /usr/local/lib/python3.10/dist-packages (from torch_geometric) (1.26.4)\n",
            "Requirement already satisfied: psutil>=5.8.0 in /usr/local/lib/python3.10/dist-packages (from torch_geometric) (5.9.5)\n",
            "Requirement already satisfied: pyparsing in /usr/local/lib/python3.10/dist-packages (from torch_geometric) (3.2.0)\n",
            "Requirement already satisfied: requests in /usr/local/lib/python3.10/dist-packages (from torch_geometric) (2.32.3)\n",
            "Requirement already satisfied: tqdm in /usr/local/lib/python3.10/dist-packages (from torch_geometric) (4.66.6)\n",
            "Requirement already satisfied: aiohappyeyeballs>=2.3.0 in /usr/local/lib/python3.10/dist-packages (from aiohttp->torch_geometric) (2.4.4)\n",
            "Requirement already satisfied: aiosignal>=1.1.2 in /usr/local/lib/python3.10/dist-packages (from aiohttp->torch_geometric) (1.3.1)\n",
            "Requirement already satisfied: async-timeout<6.0,>=4.0 in /usr/local/lib/python3.10/dist-packages (from aiohttp->torch_geometric) (4.0.3)\n",
            "Requirement already satisfied: attrs>=17.3.0 in /usr/local/lib/python3.10/dist-packages (from aiohttp->torch_geometric) (24.2.0)\n",
            "Requirement already satisfied: frozenlist>=1.1.1 in /usr/local/lib/python3.10/dist-packages (from aiohttp->torch_geometric) (1.5.0)\n",
            "Requirement already satisfied: multidict<7.0,>=4.5 in /usr/local/lib/python3.10/dist-packages (from aiohttp->torch_geometric) (6.1.0)\n",
            "Requirement already satisfied: propcache>=0.2.0 in /usr/local/lib/python3.10/dist-packages (from aiohttp->torch_geometric) (0.2.1)\n",
            "Requirement already satisfied: yarl<2.0,>=1.17.0 in /usr/local/lib/python3.10/dist-packages (from aiohttp->torch_geometric) (1.18.3)\n",
            "Requirement already satisfied: MarkupSafe>=2.0 in /usr/local/lib/python3.10/dist-packages (from jinja2->torch_geometric) (3.0.2)\n",
            "Requirement already satisfied: charset-normalizer<4,>=2 in /usr/local/lib/python3.10/dist-packages (from requests->torch_geometric) (3.4.0)\n",
            "Requirement already satisfied: idna<4,>=2.5 in /usr/local/lib/python3.10/dist-packages (from requests->torch_geometric) (3.10)\n",
            "Requirement already satisfied: urllib3<3,>=1.21.1 in /usr/local/lib/python3.10/dist-packages (from requests->torch_geometric) (2.2.3)\n",
            "Requirement already satisfied: certifi>=2017.4.17 in /usr/local/lib/python3.10/dist-packages (from requests->torch_geometric) (2024.8.30)\n",
            "Requirement already satisfied: typing-extensions>=4.1.0 in /usr/local/lib/python3.10/dist-packages (from multidict<7.0,>=4.5->aiohttp->torch_geometric) (4.12.2)\n",
            "Downloading torch_geometric-2.6.1-py3-none-any.whl (1.1 MB)\n",
            "\u001b[2K   \u001b[90m━━━━━━━━━━━━━━━━━━━━━━━━━━━━━━━━━━━━━━━━\u001b[0m \u001b[32m1.1/1.1 MB\u001b[0m \u001b[31m28.4 MB/s\u001b[0m eta \u001b[36m0:00:00\u001b[0m\n",
            "\u001b[?25hInstalling collected packages: torch_geometric\n",
            "Successfully installed torch_geometric-2.6.1\n",
            "Collecting rdkit\n",
            "  Downloading rdkit-2024.3.6-cp310-cp310-manylinux_2_28_x86_64.whl.metadata (4.0 kB)\n",
            "Requirement already satisfied: numpy in /usr/local/lib/python3.10/dist-packages (from rdkit) (1.26.4)\n",
            "Requirement already satisfied: Pillow in /usr/local/lib/python3.10/dist-packages (from rdkit) (11.0.0)\n",
            "Downloading rdkit-2024.3.6-cp310-cp310-manylinux_2_28_x86_64.whl (32.8 MB)\n",
            "\u001b[2K   \u001b[90m━━━━━━━━━━━━━━━━━━━━━━━━━━━━━━━━━━━━━━━━\u001b[0m \u001b[32m32.8/32.8 MB\u001b[0m \u001b[31m32.8 MB/s\u001b[0m eta \u001b[36m0:00:00\u001b[0m\n",
            "\u001b[?25hInstalling collected packages: rdkit\n",
            "Successfully installed rdkit-2024.3.6\n"
          ]
        }
      ],
      "source": [
        "!pip install torch_geometric\n",
        "!pip install rdkit"
      ]
    },
    {
      "cell_type": "code",
      "execution_count": 2,
      "metadata": {
        "id": "wo5hwgrpAhmh"
      },
      "outputs": [],
      "source": [
        "import pandas as pd\n",
        "import torch\n",
        "from torch import nn\n",
        "from torch_geometric.data import Data\n",
        "from torch_geometric.loader import DataLoader as DL_geo\n",
        "from torch_geometric.nn import GCNConv, global_mean_pool, GINEConv\n",
        "from torch.utils.data import DataLoader, TensorDataset\n",
        "from rdkit import Chem\n",
        "from rdkit.Chem import rdmolops, AllChem\n",
        "import torch.nn.functional as F\n",
        "from sklearn.preprocessing import LabelEncoder\n",
        "import random\n",
        "from imblearn.over_sampling import RandomOverSampler\n",
        "from imblearn.under_sampling import RandomUnderSampler\n",
        "from sklearn.model_selection import train_test_split\n",
        "import concurrent.futures\n",
        "from tqdm import tqdm"
      ]
    },
    {
      "cell_type": "code",
      "execution_count": 3,
      "metadata": {
        "colab": {
          "base_uri": "https://localhost:8080/",
          "height": 423
        },
        "id": "OXWEX8o7BDSO",
        "outputId": "60207b28-a0ec-40ef-ea06-d84a776a25dd"
      },
      "outputs": [
        {
          "output_type": "execute_result",
          "data": {
            "text/plain": [
              "     molecule_chembl_id     class  \\\n",
              "0          CHEMBL541133    active   \n",
              "1          CHEMBL538346    active   \n",
              "2          CHEMBL541643    active   \n",
              "3          CHEMBL556399    active   \n",
              "4          CHEMBL538346    active   \n",
              "...                 ...       ...   \n",
              "5805      CHEMBL5279152    active   \n",
              "5806      CHEMBL5269677    active   \n",
              "5807      CHEMBL5279774  inactive   \n",
              "5808      CHEMBL5271447  inactive   \n",
              "5809      CHEMBL5291405  inactive   \n",
              "\n",
              "                                       canonical_smiles       MW     LogP  \\\n",
              "0     Cc1ccc([N+](=O)[O-])cc1S(=O)(=O)c1nc(-c2cnc3cc...  434.886  4.16062   \n",
              "1             Oc1cccc(-c2nc(N3CCOCC3)c3oc4ncccc4c3n2)c1  348.362  2.98020   \n",
              "2                   Oc1cccc(-c2nc(N3CCOCC3)c3sccc3n2)c1  313.382  2.90050   \n",
              "3     Cc1ccc([N+](=O)[O-])cc1S(=O)(=O)N(C)/N=C/c1cnc...  452.290  2.96802   \n",
              "4             Oc1cccc(-c2nc(N3CCOCC3)c3oc4ncccc4c3n2)c1  348.362  2.98020   \n",
              "...                                                 ...      ...      ...   \n",
              "5805      CCn1c(=O)c2ccnn2c2cc(N)c(C(=O)NCc3cccnc3)cc21  362.393  1.57630   \n",
              "5806      CCn1c(=O)c2ccnn2c2cc(N)c(C(=O)NCc3cncnc3)cc21  363.381  0.97130   \n",
              "5807     CCn1c(=O)c2ccnn2c2cc(NC)c(C(=O)NCc3cccnc3)cc21  376.420  2.03580   \n",
              "5808  CCn1c(=O)c2ccnn2c2cc(N(C)C)c(C(=O)NCc3cccnc3)cc21  390.447  2.06010   \n",
              "5809  CCn1c(=O)c2ccnn2c2cc(NC(C)=O)c(C(=O)NCc3cncnc3...  405.418  1.34750   \n",
              "\n",
              "      NumHDonors  NumHAcceptors     pIC50  \n",
              "0            0.0            8.0  7.000000  \n",
              "1            1.0            7.0  8.000000  \n",
              "2            1.0            6.0  6.657577  \n",
              "3            0.0            7.0  7.000000  \n",
              "4            1.0            7.0  8.000000  \n",
              "...          ...            ...       ...  \n",
              "5805         2.0            7.0  6.060481  \n",
              "5806         2.0            8.0  6.619789  \n",
              "5807         2.0            7.0  4.698970  \n",
              "5808         1.0            7.0  4.698970  \n",
              "5809         2.0            8.0  4.698970  \n",
              "\n",
              "[5810 rows x 8 columns]"
            ],
            "text/html": [
              "\n",
              "  <div id=\"df-e8f6c45f-9163-4435-8605-6204a2f58906\" class=\"colab-df-container\">\n",
              "    <div>\n",
              "<style scoped>\n",
              "    .dataframe tbody tr th:only-of-type {\n",
              "        vertical-align: middle;\n",
              "    }\n",
              "\n",
              "    .dataframe tbody tr th {\n",
              "        vertical-align: top;\n",
              "    }\n",
              "\n",
              "    .dataframe thead th {\n",
              "        text-align: right;\n",
              "    }\n",
              "</style>\n",
              "<table border=\"1\" class=\"dataframe\">\n",
              "  <thead>\n",
              "    <tr style=\"text-align: right;\">\n",
              "      <th></th>\n",
              "      <th>molecule_chembl_id</th>\n",
              "      <th>class</th>\n",
              "      <th>canonical_smiles</th>\n",
              "      <th>MW</th>\n",
              "      <th>LogP</th>\n",
              "      <th>NumHDonors</th>\n",
              "      <th>NumHAcceptors</th>\n",
              "      <th>pIC50</th>\n",
              "    </tr>\n",
              "  </thead>\n",
              "  <tbody>\n",
              "    <tr>\n",
              "      <th>0</th>\n",
              "      <td>CHEMBL541133</td>\n",
              "      <td>active</td>\n",
              "      <td>Cc1ccc([N+](=O)[O-])cc1S(=O)(=O)c1nc(-c2cnc3cc...</td>\n",
              "      <td>434.886</td>\n",
              "      <td>4.16062</td>\n",
              "      <td>0.0</td>\n",
              "      <td>8.0</td>\n",
              "      <td>7.000000</td>\n",
              "    </tr>\n",
              "    <tr>\n",
              "      <th>1</th>\n",
              "      <td>CHEMBL538346</td>\n",
              "      <td>active</td>\n",
              "      <td>Oc1cccc(-c2nc(N3CCOCC3)c3oc4ncccc4c3n2)c1</td>\n",
              "      <td>348.362</td>\n",
              "      <td>2.98020</td>\n",
              "      <td>1.0</td>\n",
              "      <td>7.0</td>\n",
              "      <td>8.000000</td>\n",
              "    </tr>\n",
              "    <tr>\n",
              "      <th>2</th>\n",
              "      <td>CHEMBL541643</td>\n",
              "      <td>active</td>\n",
              "      <td>Oc1cccc(-c2nc(N3CCOCC3)c3sccc3n2)c1</td>\n",
              "      <td>313.382</td>\n",
              "      <td>2.90050</td>\n",
              "      <td>1.0</td>\n",
              "      <td>6.0</td>\n",
              "      <td>6.657577</td>\n",
              "    </tr>\n",
              "    <tr>\n",
              "      <th>3</th>\n",
              "      <td>CHEMBL556399</td>\n",
              "      <td>active</td>\n",
              "      <td>Cc1ccc([N+](=O)[O-])cc1S(=O)(=O)N(C)/N=C/c1cnc...</td>\n",
              "      <td>452.290</td>\n",
              "      <td>2.96802</td>\n",
              "      <td>0.0</td>\n",
              "      <td>7.0</td>\n",
              "      <td>7.000000</td>\n",
              "    </tr>\n",
              "    <tr>\n",
              "      <th>4</th>\n",
              "      <td>CHEMBL538346</td>\n",
              "      <td>active</td>\n",
              "      <td>Oc1cccc(-c2nc(N3CCOCC3)c3oc4ncccc4c3n2)c1</td>\n",
              "      <td>348.362</td>\n",
              "      <td>2.98020</td>\n",
              "      <td>1.0</td>\n",
              "      <td>7.0</td>\n",
              "      <td>8.000000</td>\n",
              "    </tr>\n",
              "    <tr>\n",
              "      <th>...</th>\n",
              "      <td>...</td>\n",
              "      <td>...</td>\n",
              "      <td>...</td>\n",
              "      <td>...</td>\n",
              "      <td>...</td>\n",
              "      <td>...</td>\n",
              "      <td>...</td>\n",
              "      <td>...</td>\n",
              "    </tr>\n",
              "    <tr>\n",
              "      <th>5805</th>\n",
              "      <td>CHEMBL5279152</td>\n",
              "      <td>active</td>\n",
              "      <td>CCn1c(=O)c2ccnn2c2cc(N)c(C(=O)NCc3cccnc3)cc21</td>\n",
              "      <td>362.393</td>\n",
              "      <td>1.57630</td>\n",
              "      <td>2.0</td>\n",
              "      <td>7.0</td>\n",
              "      <td>6.060481</td>\n",
              "    </tr>\n",
              "    <tr>\n",
              "      <th>5806</th>\n",
              "      <td>CHEMBL5269677</td>\n",
              "      <td>active</td>\n",
              "      <td>CCn1c(=O)c2ccnn2c2cc(N)c(C(=O)NCc3cncnc3)cc21</td>\n",
              "      <td>363.381</td>\n",
              "      <td>0.97130</td>\n",
              "      <td>2.0</td>\n",
              "      <td>8.0</td>\n",
              "      <td>6.619789</td>\n",
              "    </tr>\n",
              "    <tr>\n",
              "      <th>5807</th>\n",
              "      <td>CHEMBL5279774</td>\n",
              "      <td>inactive</td>\n",
              "      <td>CCn1c(=O)c2ccnn2c2cc(NC)c(C(=O)NCc3cccnc3)cc21</td>\n",
              "      <td>376.420</td>\n",
              "      <td>2.03580</td>\n",
              "      <td>2.0</td>\n",
              "      <td>7.0</td>\n",
              "      <td>4.698970</td>\n",
              "    </tr>\n",
              "    <tr>\n",
              "      <th>5808</th>\n",
              "      <td>CHEMBL5271447</td>\n",
              "      <td>inactive</td>\n",
              "      <td>CCn1c(=O)c2ccnn2c2cc(N(C)C)c(C(=O)NCc3cccnc3)cc21</td>\n",
              "      <td>390.447</td>\n",
              "      <td>2.06010</td>\n",
              "      <td>1.0</td>\n",
              "      <td>7.0</td>\n",
              "      <td>4.698970</td>\n",
              "    </tr>\n",
              "    <tr>\n",
              "      <th>5809</th>\n",
              "      <td>CHEMBL5291405</td>\n",
              "      <td>inactive</td>\n",
              "      <td>CCn1c(=O)c2ccnn2c2cc(NC(C)=O)c(C(=O)NCc3cncnc3...</td>\n",
              "      <td>405.418</td>\n",
              "      <td>1.34750</td>\n",
              "      <td>2.0</td>\n",
              "      <td>8.0</td>\n",
              "      <td>4.698970</td>\n",
              "    </tr>\n",
              "  </tbody>\n",
              "</table>\n",
              "<p>5810 rows × 8 columns</p>\n",
              "</div>\n",
              "    <div class=\"colab-df-buttons\">\n",
              "\n",
              "  <div class=\"colab-df-container\">\n",
              "    <button class=\"colab-df-convert\" onclick=\"convertToInteractive('df-e8f6c45f-9163-4435-8605-6204a2f58906')\"\n",
              "            title=\"Convert this dataframe to an interactive table.\"\n",
              "            style=\"display:none;\">\n",
              "\n",
              "  <svg xmlns=\"http://www.w3.org/2000/svg\" height=\"24px\" viewBox=\"0 -960 960 960\">\n",
              "    <path d=\"M120-120v-720h720v720H120Zm60-500h600v-160H180v160Zm220 220h160v-160H400v160Zm0 220h160v-160H400v160ZM180-400h160v-160H180v160Zm440 0h160v-160H620v160ZM180-180h160v-160H180v160Zm440 0h160v-160H620v160Z\"/>\n",
              "  </svg>\n",
              "    </button>\n",
              "\n",
              "  <style>\n",
              "    .colab-df-container {\n",
              "      display:flex;\n",
              "      gap: 12px;\n",
              "    }\n",
              "\n",
              "    .colab-df-convert {\n",
              "      background-color: #E8F0FE;\n",
              "      border: none;\n",
              "      border-radius: 50%;\n",
              "      cursor: pointer;\n",
              "      display: none;\n",
              "      fill: #1967D2;\n",
              "      height: 32px;\n",
              "      padding: 0 0 0 0;\n",
              "      width: 32px;\n",
              "    }\n",
              "\n",
              "    .colab-df-convert:hover {\n",
              "      background-color: #E2EBFA;\n",
              "      box-shadow: 0px 1px 2px rgba(60, 64, 67, 0.3), 0px 1px 3px 1px rgba(60, 64, 67, 0.15);\n",
              "      fill: #174EA6;\n",
              "    }\n",
              "\n",
              "    .colab-df-buttons div {\n",
              "      margin-bottom: 4px;\n",
              "    }\n",
              "\n",
              "    [theme=dark] .colab-df-convert {\n",
              "      background-color: #3B4455;\n",
              "      fill: #D2E3FC;\n",
              "    }\n",
              "\n",
              "    [theme=dark] .colab-df-convert:hover {\n",
              "      background-color: #434B5C;\n",
              "      box-shadow: 0px 1px 3px 1px rgba(0, 0, 0, 0.15);\n",
              "      filter: drop-shadow(0px 1px 2px rgba(0, 0, 0, 0.3));\n",
              "      fill: #FFFFFF;\n",
              "    }\n",
              "  </style>\n",
              "\n",
              "    <script>\n",
              "      const buttonEl =\n",
              "        document.querySelector('#df-e8f6c45f-9163-4435-8605-6204a2f58906 button.colab-df-convert');\n",
              "      buttonEl.style.display =\n",
              "        google.colab.kernel.accessAllowed ? 'block' : 'none';\n",
              "\n",
              "      async function convertToInteractive(key) {\n",
              "        const element = document.querySelector('#df-e8f6c45f-9163-4435-8605-6204a2f58906');\n",
              "        const dataTable =\n",
              "          await google.colab.kernel.invokeFunction('convertToInteractive',\n",
              "                                                    [key], {});\n",
              "        if (!dataTable) return;\n",
              "\n",
              "        const docLinkHtml = 'Like what you see? Visit the ' +\n",
              "          '<a target=\"_blank\" href=https://colab.research.google.com/notebooks/data_table.ipynb>data table notebook</a>'\n",
              "          + ' to learn more about interactive tables.';\n",
              "        element.innerHTML = '';\n",
              "        dataTable['output_type'] = 'display_data';\n",
              "        await google.colab.output.renderOutput(dataTable, element);\n",
              "        const docLink = document.createElement('div');\n",
              "        docLink.innerHTML = docLinkHtml;\n",
              "        element.appendChild(docLink);\n",
              "      }\n",
              "    </script>\n",
              "  </div>\n",
              "\n",
              "\n",
              "<div id=\"df-633b7aba-11f4-412b-aa55-e1541019a232\">\n",
              "  <button class=\"colab-df-quickchart\" onclick=\"quickchart('df-633b7aba-11f4-412b-aa55-e1541019a232')\"\n",
              "            title=\"Suggest charts\"\n",
              "            style=\"display:none;\">\n",
              "\n",
              "<svg xmlns=\"http://www.w3.org/2000/svg\" height=\"24px\"viewBox=\"0 0 24 24\"\n",
              "     width=\"24px\">\n",
              "    <g>\n",
              "        <path d=\"M19 3H5c-1.1 0-2 .9-2 2v14c0 1.1.9 2 2 2h14c1.1 0 2-.9 2-2V5c0-1.1-.9-2-2-2zM9 17H7v-7h2v7zm4 0h-2V7h2v10zm4 0h-2v-4h2v4z\"/>\n",
              "    </g>\n",
              "</svg>\n",
              "  </button>\n",
              "\n",
              "<style>\n",
              "  .colab-df-quickchart {\n",
              "      --bg-color: #E8F0FE;\n",
              "      --fill-color: #1967D2;\n",
              "      --hover-bg-color: #E2EBFA;\n",
              "      --hover-fill-color: #174EA6;\n",
              "      --disabled-fill-color: #AAA;\n",
              "      --disabled-bg-color: #DDD;\n",
              "  }\n",
              "\n",
              "  [theme=dark] .colab-df-quickchart {\n",
              "      --bg-color: #3B4455;\n",
              "      --fill-color: #D2E3FC;\n",
              "      --hover-bg-color: #434B5C;\n",
              "      --hover-fill-color: #FFFFFF;\n",
              "      --disabled-bg-color: #3B4455;\n",
              "      --disabled-fill-color: #666;\n",
              "  }\n",
              "\n",
              "  .colab-df-quickchart {\n",
              "    background-color: var(--bg-color);\n",
              "    border: none;\n",
              "    border-radius: 50%;\n",
              "    cursor: pointer;\n",
              "    display: none;\n",
              "    fill: var(--fill-color);\n",
              "    height: 32px;\n",
              "    padding: 0;\n",
              "    width: 32px;\n",
              "  }\n",
              "\n",
              "  .colab-df-quickchart:hover {\n",
              "    background-color: var(--hover-bg-color);\n",
              "    box-shadow: 0 1px 2px rgba(60, 64, 67, 0.3), 0 1px 3px 1px rgba(60, 64, 67, 0.15);\n",
              "    fill: var(--button-hover-fill-color);\n",
              "  }\n",
              "\n",
              "  .colab-df-quickchart-complete:disabled,\n",
              "  .colab-df-quickchart-complete:disabled:hover {\n",
              "    background-color: var(--disabled-bg-color);\n",
              "    fill: var(--disabled-fill-color);\n",
              "    box-shadow: none;\n",
              "  }\n",
              "\n",
              "  .colab-df-spinner {\n",
              "    border: 2px solid var(--fill-color);\n",
              "    border-color: transparent;\n",
              "    border-bottom-color: var(--fill-color);\n",
              "    animation:\n",
              "      spin 1s steps(1) infinite;\n",
              "  }\n",
              "\n",
              "  @keyframes spin {\n",
              "    0% {\n",
              "      border-color: transparent;\n",
              "      border-bottom-color: var(--fill-color);\n",
              "      border-left-color: var(--fill-color);\n",
              "    }\n",
              "    20% {\n",
              "      border-color: transparent;\n",
              "      border-left-color: var(--fill-color);\n",
              "      border-top-color: var(--fill-color);\n",
              "    }\n",
              "    30% {\n",
              "      border-color: transparent;\n",
              "      border-left-color: var(--fill-color);\n",
              "      border-top-color: var(--fill-color);\n",
              "      border-right-color: var(--fill-color);\n",
              "    }\n",
              "    40% {\n",
              "      border-color: transparent;\n",
              "      border-right-color: var(--fill-color);\n",
              "      border-top-color: var(--fill-color);\n",
              "    }\n",
              "    60% {\n",
              "      border-color: transparent;\n",
              "      border-right-color: var(--fill-color);\n",
              "    }\n",
              "    80% {\n",
              "      border-color: transparent;\n",
              "      border-right-color: var(--fill-color);\n",
              "      border-bottom-color: var(--fill-color);\n",
              "    }\n",
              "    90% {\n",
              "      border-color: transparent;\n",
              "      border-bottom-color: var(--fill-color);\n",
              "    }\n",
              "  }\n",
              "</style>\n",
              "\n",
              "  <script>\n",
              "    async function quickchart(key) {\n",
              "      const quickchartButtonEl =\n",
              "        document.querySelector('#' + key + ' button');\n",
              "      quickchartButtonEl.disabled = true;  // To prevent multiple clicks.\n",
              "      quickchartButtonEl.classList.add('colab-df-spinner');\n",
              "      try {\n",
              "        const charts = await google.colab.kernel.invokeFunction(\n",
              "            'suggestCharts', [key], {});\n",
              "      } catch (error) {\n",
              "        console.error('Error during call to suggestCharts:', error);\n",
              "      }\n",
              "      quickchartButtonEl.classList.remove('colab-df-spinner');\n",
              "      quickchartButtonEl.classList.add('colab-df-quickchart-complete');\n",
              "    }\n",
              "    (() => {\n",
              "      let quickchartButtonEl =\n",
              "        document.querySelector('#df-633b7aba-11f4-412b-aa55-e1541019a232 button');\n",
              "      quickchartButtonEl.style.display =\n",
              "        google.colab.kernel.accessAllowed ? 'block' : 'none';\n",
              "    })();\n",
              "  </script>\n",
              "</div>\n",
              "\n",
              "  <div id=\"id_8bf95385-da48-4277-b753-a4859d94bd88\">\n",
              "    <style>\n",
              "      .colab-df-generate {\n",
              "        background-color: #E8F0FE;\n",
              "        border: none;\n",
              "        border-radius: 50%;\n",
              "        cursor: pointer;\n",
              "        display: none;\n",
              "        fill: #1967D2;\n",
              "        height: 32px;\n",
              "        padding: 0 0 0 0;\n",
              "        width: 32px;\n",
              "      }\n",
              "\n",
              "      .colab-df-generate:hover {\n",
              "        background-color: #E2EBFA;\n",
              "        box-shadow: 0px 1px 2px rgba(60, 64, 67, 0.3), 0px 1px 3px 1px rgba(60, 64, 67, 0.15);\n",
              "        fill: #174EA6;\n",
              "      }\n",
              "\n",
              "      [theme=dark] .colab-df-generate {\n",
              "        background-color: #3B4455;\n",
              "        fill: #D2E3FC;\n",
              "      }\n",
              "\n",
              "      [theme=dark] .colab-df-generate:hover {\n",
              "        background-color: #434B5C;\n",
              "        box-shadow: 0px 1px 3px 1px rgba(0, 0, 0, 0.15);\n",
              "        filter: drop-shadow(0px 1px 2px rgba(0, 0, 0, 0.3));\n",
              "        fill: #FFFFFF;\n",
              "      }\n",
              "    </style>\n",
              "    <button class=\"colab-df-generate\" onclick=\"generateWithVariable('df_2class_prep')\"\n",
              "            title=\"Generate code using this dataframe.\"\n",
              "            style=\"display:none;\">\n",
              "\n",
              "  <svg xmlns=\"http://www.w3.org/2000/svg\" height=\"24px\"viewBox=\"0 0 24 24\"\n",
              "       width=\"24px\">\n",
              "    <path d=\"M7,19H8.4L18.45,9,17,7.55,7,17.6ZM5,21V16.75L18.45,3.32a2,2,0,0,1,2.83,0l1.4,1.43a1.91,1.91,0,0,1,.58,1.4,1.91,1.91,0,0,1-.58,1.4L9.25,21ZM18.45,9,17,7.55Zm-12,3A5.31,5.31,0,0,0,4.9,8.1,5.31,5.31,0,0,0,1,6.5,5.31,5.31,0,0,0,4.9,4.9,5.31,5.31,0,0,0,6.5,1,5.31,5.31,0,0,0,8.1,4.9,5.31,5.31,0,0,0,12,6.5,5.46,5.46,0,0,0,6.5,12Z\"/>\n",
              "  </svg>\n",
              "    </button>\n",
              "    <script>\n",
              "      (() => {\n",
              "      const buttonEl =\n",
              "        document.querySelector('#id_8bf95385-da48-4277-b753-a4859d94bd88 button.colab-df-generate');\n",
              "      buttonEl.style.display =\n",
              "        google.colab.kernel.accessAllowed ? 'block' : 'none';\n",
              "\n",
              "      buttonEl.onclick = () => {\n",
              "        google.colab.notebook.generateWithVariable('df_2class_prep');\n",
              "      }\n",
              "      })();\n",
              "    </script>\n",
              "  </div>\n",
              "\n",
              "    </div>\n",
              "  </div>\n"
            ],
            "application/vnd.google.colaboratory.intrinsic+json": {
              "type": "dataframe",
              "variable_name": "df_2class_prep",
              "summary": "{\n  \"name\": \"df_2class_prep\",\n  \"rows\": 5810,\n  \"fields\": [\n    {\n      \"column\": \"molecule_chembl_id\",\n      \"properties\": {\n        \"dtype\": \"string\",\n        \"num_unique_values\": 5047,\n        \"samples\": [\n          \"CHEMBL4176338\",\n          \"CHEMBL4061855\",\n          \"CHEMBL1914727\"\n        ],\n        \"semantic_type\": \"\",\n        \"description\": \"\"\n      }\n    },\n    {\n      \"column\": \"class\",\n      \"properties\": {\n        \"dtype\": \"category\",\n        \"num_unique_values\": 2,\n        \"samples\": [\n          \"inactive\",\n          \"active\"\n        ],\n        \"semantic_type\": \"\",\n        \"description\": \"\"\n      }\n    },\n    {\n      \"column\": \"canonical_smiles\",\n      \"properties\": {\n        \"dtype\": \"string\",\n        \"num_unique_values\": 5044,\n        \"samples\": [\n          \"C[C@H]1COCCN1c1nc(N2CCOCC2)nc2[nH]c(-c3cnc4cc[nH]c4c3)nc12\",\n          \"O=S(=O)(c1ccc(Cl)cc1)N1CCN(c2nc(NCCN3CCOCC3)nc(N3CCOCC3)n2)CC1\"\n        ],\n        \"semantic_type\": \"\",\n        \"description\": \"\"\n      }\n    },\n    {\n      \"column\": \"MW\",\n      \"properties\": {\n        \"dtype\": \"number\",\n        \"std\": 90.14801844448029,\n        \"min\": 110.11199999999998,\n        \"max\": 1093.2949999999998,\n        \"num_unique_values\": 3947,\n        \"samples\": [\n          626.7990000000002,\n          455.5650000000001\n        ],\n        \"semantic_type\": \"\",\n        \"description\": \"\"\n      }\n    },\n    {\n      \"column\": \"LogP\",\n      \"properties\": {\n        \"dtype\": \"number\",\n        \"std\": 1.248026760564411,\n        \"min\": -2.870829999999992,\n        \"max\": 8.263900000000005,\n        \"num_unique_values\": 4338,\n        \"samples\": [\n          3.1347000000000014,\n          2.940300000000001\n        ],\n        \"semantic_type\": \"\",\n        \"description\": \"\"\n      }\n    },\n    {\n      \"column\": \"NumHDonors\",\n      \"properties\": {\n        \"dtype\": \"number\",\n        \"std\": 0.9105438108750025,\n        \"min\": 0.0,\n        \"max\": 9.0,\n        \"num_unique_values\": 8,\n        \"samples\": [\n          1.0,\n          5.0\n        ],\n        \"semantic_type\": \"\",\n        \"description\": \"\"\n      }\n    },\n    {\n      \"column\": \"NumHAcceptors\",\n      \"properties\": {\n        \"dtype\": \"number\",\n        \"std\": 1.8927091703503895,\n        \"min\": 1.0,\n        \"max\": 17.0,\n        \"num_unique_values\": 17,\n        \"samples\": [\n          8.0,\n          7.0\n        ],\n        \"semantic_type\": \"\",\n        \"description\": \"\"\n      }\n    },\n    {\n      \"column\": \"pIC50\",\n      \"properties\": {\n        \"dtype\": \"number\",\n        \"std\": 1.2966507469780586,\n        \"min\": 1.3999999999492705,\n        \"max\": 10.744727494896694,\n        \"num_unique_values\": 1693,\n        \"samples\": [\n          6.689519108537325,\n          6.540607512240769\n        ],\n        \"semantic_type\": \"\",\n        \"description\": \"\"\n      }\n    }\n  ]\n}"
            }
          },
          "metadata": {},
          "execution_count": 3
        }
      ],
      "source": [
        "df_2class_prep = pd.read_csv('https://raw.githubusercontent.com/Mfys212/dokumen/refs/heads/main/01_label2class_sars.csv')\n",
        "df_2class_prep"
      ]
    },
    {
      "cell_type": "code",
      "execution_count": 4,
      "metadata": {
        "colab": {
          "base_uri": "https://localhost:8080/"
        },
        "id": "LG9ktoeWBLyT",
        "outputId": "bc436f21-111d-49c7-e6d0-a20d905a4d1b"
      },
      "outputs": [
        {
          "output_type": "stream",
          "name": "stdout",
          "text": [
            "canonical_smiles    0\n",
            "class               0\n",
            "dtype: int64 \n",
            "\n",
            "<class 'pandas.core.frame.DataFrame'>\n",
            "RangeIndex: 5810 entries, 0 to 5809\n",
            "Data columns (total 2 columns):\n",
            " #   Column            Non-Null Count  Dtype \n",
            "---  ------            --------------  ----- \n",
            " 0   canonical_smiles  5810 non-null   object\n",
            " 1   class             5810 non-null   object\n",
            "dtypes: object(2)\n",
            "memory usage: 90.9+ KB\n"
          ]
        }
      ],
      "source": [
        "data = df_2class_prep[[\"canonical_smiles\", \"class\"]]\n",
        "print(data.isnull().sum(), \"\\n\")\n",
        "data.info()"
      ]
    },
    {
      "cell_type": "code",
      "execution_count": 5,
      "metadata": {
        "colab": {
          "base_uri": "https://localhost:8080/",
          "height": 178
        },
        "id": "IMxwy9NhBtDm",
        "outputId": "abdd88de-a0bf-47d1-e97c-d904495cf4ad"
      },
      "outputs": [
        {
          "output_type": "execute_result",
          "data": {
            "text/plain": [
              "class\n",
              "active      4846\n",
              "inactive     964\n",
              "Name: count, dtype: int64"
            ],
            "text/html": [
              "<div>\n",
              "<style scoped>\n",
              "    .dataframe tbody tr th:only-of-type {\n",
              "        vertical-align: middle;\n",
              "    }\n",
              "\n",
              "    .dataframe tbody tr th {\n",
              "        vertical-align: top;\n",
              "    }\n",
              "\n",
              "    .dataframe thead th {\n",
              "        text-align: right;\n",
              "    }\n",
              "</style>\n",
              "<table border=\"1\" class=\"dataframe\">\n",
              "  <thead>\n",
              "    <tr style=\"text-align: right;\">\n",
              "      <th></th>\n",
              "      <th>count</th>\n",
              "    </tr>\n",
              "    <tr>\n",
              "      <th>class</th>\n",
              "      <th></th>\n",
              "    </tr>\n",
              "  </thead>\n",
              "  <tbody>\n",
              "    <tr>\n",
              "      <th>active</th>\n",
              "      <td>4846</td>\n",
              "    </tr>\n",
              "    <tr>\n",
              "      <th>inactive</th>\n",
              "      <td>964</td>\n",
              "    </tr>\n",
              "  </tbody>\n",
              "</table>\n",
              "</div><br><label><b>dtype:</b> int64</label>"
            ]
          },
          "metadata": {},
          "execution_count": 5
        }
      ],
      "source": [
        "class_counts = data[\"class\"].value_counts()\n",
        "class_counts"
      ]
    },
    {
      "cell_type": "code",
      "execution_count": 6,
      "metadata": {
        "id": "28XP9tiECHxU"
      },
      "outputs": [],
      "source": [
        "target_data = 2500\n",
        "ros = RandomOverSampler(random_state=42)\n",
        "run = RandomUnderSampler(sampling_strategy={'active': target_data}, random_state=42)\n",
        "X_resampled, y_resampled = run.fit_resample(data[['canonical_smiles']], data['class'])\n",
        "X_resampled, y_resampled = ros.fit_resample(X_resampled, y_resampled)\n",
        "\n",
        "df_final = pd.DataFrame({\n",
        "    'canonical_smiles': X_resampled['canonical_smiles'],\n",
        "    'class': y_resampled\n",
        "})"
      ]
    },
    {
      "cell_type": "code",
      "execution_count": 7,
      "metadata": {
        "colab": {
          "base_uri": "https://localhost:8080/",
          "height": 369
        },
        "id": "fdrMG5reClM4",
        "outputId": "702734f1-3a1c-4537-f846-b0694471344c"
      },
      "outputs": [
        {
          "output_type": "stream",
          "name": "stdout",
          "text": [
            "<class 'pandas.core.frame.DataFrame'>\n",
            "RangeIndex: 5000 entries, 0 to 4999\n",
            "Data columns (total 2 columns):\n",
            " #   Column            Non-Null Count  Dtype \n",
            "---  ------            --------------  ----- \n",
            " 0   canonical_smiles  5000 non-null   object\n",
            " 1   class             5000 non-null   object\n",
            "dtypes: object(2)\n",
            "memory usage: 78.2+ KB\n",
            "None \n",
            "\n"
          ]
        },
        {
          "output_type": "execute_result",
          "data": {
            "text/plain": [
              "class\n",
              "active      2500\n",
              "inactive    2500\n",
              "Name: count, dtype: int64"
            ],
            "text/html": [
              "<div>\n",
              "<style scoped>\n",
              "    .dataframe tbody tr th:only-of-type {\n",
              "        vertical-align: middle;\n",
              "    }\n",
              "\n",
              "    .dataframe tbody tr th {\n",
              "        vertical-align: top;\n",
              "    }\n",
              "\n",
              "    .dataframe thead th {\n",
              "        text-align: right;\n",
              "    }\n",
              "</style>\n",
              "<table border=\"1\" class=\"dataframe\">\n",
              "  <thead>\n",
              "    <tr style=\"text-align: right;\">\n",
              "      <th></th>\n",
              "      <th>count</th>\n",
              "    </tr>\n",
              "    <tr>\n",
              "      <th>class</th>\n",
              "      <th></th>\n",
              "    </tr>\n",
              "  </thead>\n",
              "  <tbody>\n",
              "    <tr>\n",
              "      <th>active</th>\n",
              "      <td>2500</td>\n",
              "    </tr>\n",
              "    <tr>\n",
              "      <th>inactive</th>\n",
              "      <td>2500</td>\n",
              "    </tr>\n",
              "  </tbody>\n",
              "</table>\n",
              "</div><br><label><b>dtype:</b> int64</label>"
            ]
          },
          "metadata": {},
          "execution_count": 7
        }
      ],
      "source": [
        "print(df_final.info(), \"\\n\")\n",
        "df_final['class'].value_counts()"
      ]
    },
    {
      "cell_type": "code",
      "source": [
        "class LoaderData(nn.Module):\n",
        "    def __init__(self, X, y, batch=32, test_size=0.2, seed=212):\n",
        "        super().__init__()\n",
        "        X_train, X_test, y_train, y_test = train_test_split(X, y, stratify=y, test_size=test_size, random_state=seed)\n",
        "        self.batch_size = batch\n",
        "        self.X_train = X_train\n",
        "        self.X_test = X_test\n",
        "        self.y_train = y_train\n",
        "        self.y_test = y_test\n",
        "\n",
        "    def process_molecule(self, molecule, cls):\n",
        "        return self.molecule_to_graph(molecule, cls)\n",
        "\n",
        "    def forward(self):\n",
        "        with concurrent.futures.ThreadPoolExecutor() as executor:\n",
        "            train_graphs = list(executor.map(self.process_molecule, self.X_train, self.y_train))\n",
        "            val_graphs = list(executor.map(self.process_molecule, self.X_test, self.y_test))\n",
        "\n",
        "        train_loader = DL_geo(train_graphs, batch_size=self.batch_size, shuffle=True)\n",
        "        val_loader = DL_geo(val_graphs, batch_size=self.batch_size, shuffle=False)\n",
        "        return train_loader, val_loader\n",
        "\n",
        "    def molecule_to_graph(self, molecule: str, y=None, use_y=True):\n",
        "        mol = Chem.MolFromSmiles(molecule)\n",
        "        if mol is None:\n",
        "            return None\n",
        "\n",
        "        atoms = [\n",
        "            [\n",
        "                atom.GetAtomicNum(),              # Nomor atom\n",
        "                atom.GetMass(),                   # Massa atom\n",
        "                int(atom.GetIsAromatic()),        # Apakah atom aromatik\n",
        "                int(atom.GetHybridization()),     # Tipe hibridisasi\n",
        "                atom.GetFormalCharge(),           # Muatan formal\n",
        "                atom.GetDegree(),                 # Derajat atom\n",
        "                atom.GetImplicitValence(),        # Valensi implisit\n",
        "                atom.GetExplicitValence(),        # Valensi eksplisit\n",
        "                int(atom.IsInRing()),             # Apakah dalam cincin\n",
        "                int(atom.GetChiralTag()),         # Tag kiralitas\n",
        "            ]\n",
        "            for atom in mol.GetAtoms()\n",
        "        ]\n",
        "\n",
        "        edges = []\n",
        "        edge_attr = []\n",
        "        for bond in mol.GetBonds():\n",
        "            i = bond.GetBeginAtomIdx()\n",
        "            j = bond.GetEndAtomIdx()\n",
        "            edges.append([i, j])\n",
        "            edges.append([j, i])  # kedua arah untuk graf tak berarah\n",
        "\n",
        "            bond_features = [\n",
        "                bond.GetBondTypeAsDouble(),      # Tipe ikatan\n",
        "                int(bond.GetIsConjugated()),     # Apakah ikatan terkonjugasi\n",
        "                int(bond.GetIsAromatic()),       # Apakah ikatan aromatik\n",
        "                int(bond.GetStereo()),           # Stereokimia ikatan\n",
        "                int(bond.IsInRing()),            # Apakah ikatan dalam cincin\n",
        "            ]\n",
        "            edge_attr.append(bond_features)\n",
        "            edge_attr.append(bond_features) # fitur edge untuk arah sebaliknya\n",
        "\n",
        "        edge_index = torch.tensor(edges, dtype=torch.long).t().contiguous()\n",
        "        edge_attr = torch.tensor(edge_attr, dtype=torch.float)\n",
        "        x = torch.tensor(atoms, dtype=torch.float)\n",
        "\n",
        "        if use_y:\n",
        "            data = Data(x=x, edge_index=edge_index, edge_attr=edge_attr, y=torch.tensor([y], dtype=torch.long))\n",
        "        else:\n",
        "            data = Data(x=x, edge_index=edge_index, edge_attr=edge_attr)\n",
        "        return data\n",
        "\n",
        "class GNNBlock(nn.Module):\n",
        "    def __init__(self, edge_features, c1, c2, dropout_rate=0.3):\n",
        "        super().__init__()\n",
        "        self.conv1 = GINEConv(nn.Linear(c1, c2), edge_dim=edge_features)\n",
        "        self.conv2 = GINEConv(nn.Linear(c2, c1), edge_dim=edge_features)\n",
        "        self.dropout = nn.Dropout(dropout_rate)\n",
        "\n",
        "    def forward(self, inputs, edge_index, edge_attr):\n",
        "        x = self.dropout(F.leaky_relu(self.conv1(inputs, edge_index, edge_attr)))\n",
        "        return self.conv2(x+inputs, edge_index, edge_attr)\n",
        "\n",
        "class GNNModel(nn.Module):\n",
        "    def __init__(self, num_features, edge_features, c1=128, c2=128, num_block=2):\n",
        "        super().__init__()\n",
        "        self.inputs = GINEConv(nn.Linear(num_features, c1), edge_dim=edge_features)\n",
        "        self.block = [GNNBlock(edge_features, c1, c2) for i in range(num_block)]\n",
        "        self.cls = nn.Linear(c1, 1)\n",
        "\n",
        "    def forward(self, data):\n",
        "        x, edge_index, edge_attr = data.x, data.edge_index, data.edge_attr\n",
        "        x = self.inputs(x, edge_index, edge_attr)\n",
        "        for block in self.block:\n",
        "            x = block(x, edge_index, edge_attr)\n",
        "        x = global_mean_pool(self.cls(x), data.batch)\n",
        "        return x\n",
        "\n",
        "class CreateModel(nn.Module):\n",
        "    def __init__(self,\n",
        "                 X, y,\n",
        "                 epochs,\n",
        "                 batch=32,\n",
        "                 test_size=0.2,\n",
        "                 seed=212,\n",
        "                 c1=128,\n",
        "                 c2=128,\n",
        "                 num_block=2,\n",
        "                 dropout_rate=0.3):\n",
        "        super().__init__()\n",
        "        self.epochs = epochs\n",
        "        self.loader = LoaderData(X, y, batch, test_size, seed)\n",
        "        self.train_loader, self.val_loader = self.loader()\n",
        "        self.num_node_features = self.train_loader.dataset[0].x.size(1)\n",
        "        self.num_edge_features = self.train_loader.dataset[0].edge_attr.size(1)\n",
        "        self.model = GNNModel(self.num_node_features, self.num_edge_features, c1, c2, num_block)\n",
        "        self.device = 'cuda' if torch.cuda.is_available() else 'cpu'\n",
        "        self.model = self.model.to(self.device)\n",
        "\n",
        "    def train(self, optimizer, criterion):\n",
        "        self.model.train()\n",
        "        total_loss = 0\n",
        "        correct = 0\n",
        "        with tqdm(self.train_loader, desc=\"Training\", unit=\"batch\") as t:\n",
        "            for data in t:\n",
        "                data = data.to(self.device)\n",
        "                optimizer.zero_grad()\n",
        "                out = self.model(data)\n",
        "                loss = criterion(out.view(-1), data.y.float())\n",
        "                loss.backward()\n",
        "                optimizer.step()\n",
        "                total_loss += loss.item()\n",
        "                pred = torch.sigmoid(out)\n",
        "                pred = (pred > 0.5).float()\n",
        "                correct += (pred.view(-1) == data.y).sum().item()\n",
        "        avg_loss = total_loss / len(self.train_loader)\n",
        "        accuracy = correct / len(self.train_loader.dataset)\n",
        "        return avg_loss, accuracy\n",
        "\n",
        "    def validate(self, criterion):\n",
        "        self.model.eval()\n",
        "        total_loss = 0\n",
        "        correct = 0\n",
        "        with tqdm(self.val_loader, desc=\"Validation\", unit=\"batch\") as t:\n",
        "            with torch.no_grad():\n",
        "                for data in t:\n",
        "                    data = data.to(self.device)\n",
        "                    out = self.model(data)\n",
        "                    loss = criterion(out.view(-1), data.y.float())\n",
        "                    total_loss += loss.item()\n",
        "                    pred = torch.sigmoid(out)\n",
        "                    pred = (pred > 0.5).float()\n",
        "                    correct += (pred.view(-1) == data.y).sum().item()\n",
        "        avg_loss = total_loss / len(self.val_loader)\n",
        "        accuracy = correct / len(self.val_loader.dataset)\n",
        "        return avg_loss, accuracy\n",
        "\n",
        "    def fit(self):\n",
        "        optimizer, criterion = self.get_optim()\n",
        "        train_losses, val_losses, val_accuracies = [], [], []\n",
        "        t_acc, t_loss, v_acc, v_loss = [], [], [], []\n",
        "        for epoch in range(1, self.epochs + 1):\n",
        "            train_loss, train_acc = self.train(optimizer, criterion)\n",
        "            train_losses.append(train_loss)\n",
        "            val_loss, val_accuracy = self.validate(criterion)\n",
        "            val_losses.append(val_loss)\n",
        "            val_accuracies.append(val_accuracy)\n",
        "            print(f\"Epoch {epoch}/{self.epochs} | Train Loss: {train_loss:.4f} | Train Acc: {train_acc:.4f} | Val Loss: {val_loss:.4f} | Val Acc: {val_accuracy:.4f}\\n\")\n",
        "            t_loss.append(train_loss)\n",
        "            t_acc.append(train_acc)\n",
        "            v_loss.append(val_loss)\n",
        "            v_acc.append(val_accuracy)\n",
        "        history = {\"Train Loss\":t_loss, \"Train Acc\":t_acc, \"Val Loss\":v_loss, \"Val Acc\":v_acc}\n",
        "        return history\n",
        "\n",
        "    def get_optim(self):\n",
        "        optimizer = torch.optim.Adam(self.model.parameters(), lr=0.001, weight_decay=1e-5)\n",
        "        criterion = nn.BCEWithLogitsLoss()\n",
        "        return optimizer, criterion"
      ],
      "metadata": {
        "id": "x3FDmAEXOpXD"
      },
      "execution_count": 8,
      "outputs": []
    },
    {
      "cell_type": "code",
      "source": [
        "X = df_final['canonical_smiles']\n",
        "y = df_final['class'].map({'active': 1, 'inactive': 0})\n",
        "EPOCHS = 100\n",
        "model = CreateModel(X, y, epochs=EPOCHS, batch=32, test_size=0.2, seed=212)"
      ],
      "metadata": {
        "id": "HOYL7JGlsfcj"
      },
      "execution_count": 9,
      "outputs": []
    },
    {
      "cell_type": "code",
      "source": [
        "history = model.fit()"
      ],
      "metadata": {
        "colab": {
          "base_uri": "https://localhost:8080/"
        },
        "id": "e9lYgivHsgiY",
        "outputId": "3fbb1247-88e2-459c-b50d-20f5057039eb"
      },
      "execution_count": 10,
      "outputs": [
        {
          "output_type": "stream",
          "name": "stderr",
          "text": [
            "Training: 100%|██████████| 125/125 [00:07<00:00, 16.85batch/s]\n",
            "Validation: 100%|██████████| 32/32 [00:02<00:00, 15.15batch/s]\n"
          ]
        },
        {
          "output_type": "stream",
          "name": "stdout",
          "text": [
            "Epoch 1/100 | Train Loss: 3.2159 | Train Acc: 0.5118 | Val Loss: 1.4745 | Val Acc: 0.5210\n",
            "\n"
          ]
        },
        {
          "output_type": "stream",
          "name": "stderr",
          "text": [
            "Training: 100%|██████████| 125/125 [00:09<00:00, 13.39batch/s]\n",
            "Validation: 100%|██████████| 32/32 [00:00<00:00, 78.55batch/s]\n"
          ]
        },
        {
          "output_type": "stream",
          "name": "stdout",
          "text": [
            "Epoch 2/100 | Train Loss: 1.2347 | Train Acc: 0.5110 | Val Loss: 1.0714 | Val Acc: 0.5420\n",
            "\n"
          ]
        },
        {
          "output_type": "stream",
          "name": "stderr",
          "text": [
            "Training: 100%|██████████| 125/125 [00:03<00:00, 35.74batch/s]\n",
            "Validation: 100%|██████████| 32/32 [00:00<00:00, 59.50batch/s]\n"
          ]
        },
        {
          "output_type": "stream",
          "name": "stdout",
          "text": [
            "Epoch 3/100 | Train Loss: 0.9900 | Train Acc: 0.5192 | Val Loss: 0.9107 | Val Acc: 0.5320\n",
            "\n"
          ]
        },
        {
          "output_type": "stream",
          "name": "stderr",
          "text": [
            "Training: 100%|██████████| 125/125 [00:04<00:00, 27.90batch/s]\n",
            "Validation: 100%|██████████| 32/32 [00:00<00:00, 71.00batch/s]\n"
          ]
        },
        {
          "output_type": "stream",
          "name": "stdout",
          "text": [
            "Epoch 4/100 | Train Loss: 0.8763 | Train Acc: 0.5280 | Val Loss: 0.8075 | Val Acc: 0.5250\n",
            "\n"
          ]
        },
        {
          "output_type": "stream",
          "name": "stderr",
          "text": [
            "Training: 100%|██████████| 125/125 [00:03<00:00, 35.73batch/s]\n",
            "Validation: 100%|██████████| 32/32 [00:00<00:00, 73.67batch/s]\n"
          ]
        },
        {
          "output_type": "stream",
          "name": "stdout",
          "text": [
            "Epoch 5/100 | Train Loss: 0.7914 | Train Acc: 0.5367 | Val Loss: 0.8441 | Val Acc: 0.4960\n",
            "\n"
          ]
        },
        {
          "output_type": "stream",
          "name": "stderr",
          "text": [
            "Training: 100%|██████████| 125/125 [00:03<00:00, 35.52batch/s]\n",
            "Validation: 100%|██████████| 32/32 [00:00<00:00, 76.02batch/s]\n"
          ]
        },
        {
          "output_type": "stream",
          "name": "stdout",
          "text": [
            "Epoch 6/100 | Train Loss: 0.8524 | Train Acc: 0.5162 | Val Loss: 0.7326 | Val Acc: 0.5230\n",
            "\n"
          ]
        },
        {
          "output_type": "stream",
          "name": "stderr",
          "text": [
            "Training: 100%|██████████| 125/125 [00:04<00:00, 27.01batch/s]\n",
            "Validation: 100%|██████████| 32/32 [00:00<00:00, 75.63batch/s]\n"
          ]
        },
        {
          "output_type": "stream",
          "name": "stdout",
          "text": [
            "Epoch 7/100 | Train Loss: 0.7543 | Train Acc: 0.5355 | Val Loss: 0.7265 | Val Acc: 0.5380\n",
            "\n"
          ]
        },
        {
          "output_type": "stream",
          "name": "stderr",
          "text": [
            "Training: 100%|██████████| 125/125 [00:03<00:00, 35.67batch/s]\n",
            "Validation: 100%|██████████| 32/32 [00:00<00:00, 74.46batch/s]\n"
          ]
        },
        {
          "output_type": "stream",
          "name": "stdout",
          "text": [
            "Epoch 8/100 | Train Loss: 0.7338 | Train Acc: 0.5340 | Val Loss: 0.7068 | Val Acc: 0.5670\n",
            "\n"
          ]
        },
        {
          "output_type": "stream",
          "name": "stderr",
          "text": [
            "Training: 100%|██████████| 125/125 [00:03<00:00, 35.80batch/s]\n",
            "Validation: 100%|██████████| 32/32 [00:00<00:00, 79.27batch/s]\n"
          ]
        },
        {
          "output_type": "stream",
          "name": "stdout",
          "text": [
            "Epoch 9/100 | Train Loss: 0.7412 | Train Acc: 0.5433 | Val Loss: 0.7055 | Val Acc: 0.5650\n",
            "\n"
          ]
        },
        {
          "output_type": "stream",
          "name": "stderr",
          "text": [
            "Training: 100%|██████████| 125/125 [00:04<00:00, 29.40batch/s]\n",
            "Validation: 100%|██████████| 32/32 [00:00<00:00, 53.09batch/s]\n"
          ]
        },
        {
          "output_type": "stream",
          "name": "stdout",
          "text": [
            "Epoch 10/100 | Train Loss: 0.7033 | Train Acc: 0.5557 | Val Loss: 0.7062 | Val Acc: 0.5310\n",
            "\n"
          ]
        },
        {
          "output_type": "stream",
          "name": "stderr",
          "text": [
            "Training: 100%|██████████| 125/125 [00:03<00:00, 35.55batch/s]\n",
            "Validation: 100%|██████████| 32/32 [00:00<00:00, 76.34batch/s]\n"
          ]
        },
        {
          "output_type": "stream",
          "name": "stdout",
          "text": [
            "Epoch 11/100 | Train Loss: 0.7003 | Train Acc: 0.5623 | Val Loss: 0.6944 | Val Acc: 0.5320\n",
            "\n"
          ]
        },
        {
          "output_type": "stream",
          "name": "stderr",
          "text": [
            "Training: 100%|██████████| 125/125 [00:03<00:00, 36.43batch/s]\n",
            "Validation: 100%|██████████| 32/32 [00:00<00:00, 74.20batch/s]\n"
          ]
        },
        {
          "output_type": "stream",
          "name": "stdout",
          "text": [
            "Epoch 12/100 | Train Loss: 0.7402 | Train Acc: 0.5443 | Val Loss: 0.7768 | Val Acc: 0.5020\n",
            "\n"
          ]
        },
        {
          "output_type": "stream",
          "name": "stderr",
          "text": [
            "Training: 100%|██████████| 125/125 [00:04<00:00, 30.66batch/s]\n",
            "Validation: 100%|██████████| 32/32 [00:00<00:00, 50.23batch/s]\n"
          ]
        },
        {
          "output_type": "stream",
          "name": "stdout",
          "text": [
            "Epoch 13/100 | Train Loss: 0.7187 | Train Acc: 0.5577 | Val Loss: 0.9283 | Val Acc: 0.5010\n",
            "\n"
          ]
        },
        {
          "output_type": "stream",
          "name": "stderr",
          "text": [
            "Training: 100%|██████████| 125/125 [00:03<00:00, 31.40batch/s]\n",
            "Validation: 100%|██████████| 32/32 [00:00<00:00, 77.81batch/s]\n"
          ]
        },
        {
          "output_type": "stream",
          "name": "stdout",
          "text": [
            "Epoch 14/100 | Train Loss: 0.7220 | Train Acc: 0.5505 | Val Loss: 0.6667 | Val Acc: 0.6010\n",
            "\n"
          ]
        },
        {
          "output_type": "stream",
          "name": "stderr",
          "text": [
            "Training: 100%|██████████| 125/125 [00:03<00:00, 35.72batch/s]\n",
            "Validation: 100%|██████████| 32/32 [00:00<00:00, 79.63batch/s]\n"
          ]
        },
        {
          "output_type": "stream",
          "name": "stdout",
          "text": [
            "Epoch 15/100 | Train Loss: 0.6928 | Train Acc: 0.5640 | Val Loss: 0.6878 | Val Acc: 0.5760\n",
            "\n"
          ]
        },
        {
          "output_type": "stream",
          "name": "stderr",
          "text": [
            "Training: 100%|██████████| 125/125 [00:03<00:00, 34.60batch/s]\n",
            "Validation: 100%|██████████| 32/32 [00:00<00:00, 55.48batch/s]\n"
          ]
        },
        {
          "output_type": "stream",
          "name": "stdout",
          "text": [
            "Epoch 16/100 | Train Loss: 0.6939 | Train Acc: 0.5613 | Val Loss: 0.6744 | Val Acc: 0.6130\n",
            "\n"
          ]
        },
        {
          "output_type": "stream",
          "name": "stderr",
          "text": [
            "Training: 100%|██████████| 125/125 [00:04<00:00, 29.73batch/s]\n",
            "Validation: 100%|██████████| 32/32 [00:00<00:00, 72.33batch/s]\n"
          ]
        },
        {
          "output_type": "stream",
          "name": "stdout",
          "text": [
            "Epoch 17/100 | Train Loss: 0.6801 | Train Acc: 0.5817 | Val Loss: 0.6920 | Val Acc: 0.6050\n",
            "\n"
          ]
        },
        {
          "output_type": "stream",
          "name": "stderr",
          "text": [
            "Training: 100%|██████████| 125/125 [00:03<00:00, 35.55batch/s]\n",
            "Validation: 100%|██████████| 32/32 [00:00<00:00, 74.61batch/s]\n"
          ]
        },
        {
          "output_type": "stream",
          "name": "stdout",
          "text": [
            "Epoch 18/100 | Train Loss: 0.7113 | Train Acc: 0.5523 | Val Loss: 0.9021 | Val Acc: 0.5020\n",
            "\n"
          ]
        },
        {
          "output_type": "stream",
          "name": "stderr",
          "text": [
            "Training: 100%|██████████| 125/125 [00:03<00:00, 36.37batch/s]\n",
            "Validation: 100%|██████████| 32/32 [00:00<00:00, 71.28batch/s]\n"
          ]
        },
        {
          "output_type": "stream",
          "name": "stdout",
          "text": [
            "Epoch 19/100 | Train Loss: 0.7075 | Train Acc: 0.5493 | Val Loss: 0.6674 | Val Acc: 0.5710\n",
            "\n"
          ]
        },
        {
          "output_type": "stream",
          "name": "stderr",
          "text": [
            "Training: 100%|██████████| 125/125 [00:04<00:00, 27.66batch/s]\n",
            "Validation: 100%|██████████| 32/32 [00:00<00:00, 72.32batch/s]\n"
          ]
        },
        {
          "output_type": "stream",
          "name": "stdout",
          "text": [
            "Epoch 20/100 | Train Loss: 0.6923 | Train Acc: 0.5673 | Val Loss: 1.0387 | Val Acc: 0.5000\n",
            "\n"
          ]
        },
        {
          "output_type": "stream",
          "name": "stderr",
          "text": [
            "Training: 100%|██████████| 125/125 [00:03<00:00, 35.89batch/s]\n",
            "Validation: 100%|██████████| 32/32 [00:00<00:00, 72.96batch/s]\n"
          ]
        },
        {
          "output_type": "stream",
          "name": "stdout",
          "text": [
            "Epoch 21/100 | Train Loss: 0.7201 | Train Acc: 0.5570 | Val Loss: 0.7050 | Val Acc: 0.5660\n",
            "\n"
          ]
        },
        {
          "output_type": "stream",
          "name": "stderr",
          "text": [
            "Training: 100%|██████████| 125/125 [00:03<00:00, 36.24batch/s]\n",
            "Validation: 100%|██████████| 32/32 [00:00<00:00, 77.77batch/s]\n"
          ]
        },
        {
          "output_type": "stream",
          "name": "stdout",
          "text": [
            "Epoch 22/100 | Train Loss: 0.6834 | Train Acc: 0.5777 | Val Loss: 0.6849 | Val Acc: 0.5890\n",
            "\n"
          ]
        },
        {
          "output_type": "stream",
          "name": "stderr",
          "text": [
            "Training: 100%|██████████| 125/125 [00:06<00:00, 19.66batch/s]\n",
            "Validation: 100%|██████████| 32/32 [00:00<00:00, 73.24batch/s]\n"
          ]
        },
        {
          "output_type": "stream",
          "name": "stdout",
          "text": [
            "Epoch 23/100 | Train Loss: 0.7020 | Train Acc: 0.5607 | Val Loss: 0.7187 | Val Acc: 0.5010\n",
            "\n"
          ]
        },
        {
          "output_type": "stream",
          "name": "stderr",
          "text": [
            "Training: 100%|██████████| 125/125 [00:03<00:00, 35.68batch/s]\n",
            "Validation: 100%|██████████| 32/32 [00:00<00:00, 75.59batch/s]\n"
          ]
        },
        {
          "output_type": "stream",
          "name": "stdout",
          "text": [
            "Epoch 24/100 | Train Loss: 0.6748 | Train Acc: 0.5867 | Val Loss: 0.7726 | Val Acc: 0.4990\n",
            "\n"
          ]
        },
        {
          "output_type": "stream",
          "name": "stderr",
          "text": [
            "Training: 100%|██████████| 125/125 [00:03<00:00, 35.82batch/s]\n",
            "Validation: 100%|██████████| 32/32 [00:00<00:00, 76.62batch/s]\n"
          ]
        },
        {
          "output_type": "stream",
          "name": "stdout",
          "text": [
            "Epoch 25/100 | Train Loss: 0.6949 | Train Acc: 0.5663 | Val Loss: 0.6455 | Val Acc: 0.6160\n",
            "\n"
          ]
        },
        {
          "output_type": "stream",
          "name": "stderr",
          "text": [
            "Training: 100%|██████████| 125/125 [00:04<00:00, 27.80batch/s]\n",
            "Validation: 100%|██████████| 32/32 [00:00<00:00, 79.10batch/s]\n"
          ]
        },
        {
          "output_type": "stream",
          "name": "stdout",
          "text": [
            "Epoch 26/100 | Train Loss: 0.6626 | Train Acc: 0.6045 | Val Loss: 0.7043 | Val Acc: 0.5970\n",
            "\n"
          ]
        },
        {
          "output_type": "stream",
          "name": "stderr",
          "text": [
            "Training: 100%|██████████| 125/125 [00:03<00:00, 35.85batch/s]\n",
            "Validation: 100%|██████████| 32/32 [00:00<00:00, 73.64batch/s]\n"
          ]
        },
        {
          "output_type": "stream",
          "name": "stdout",
          "text": [
            "Epoch 27/100 | Train Loss: 0.6784 | Train Acc: 0.5910 | Val Loss: 0.6382 | Val Acc: 0.6330\n",
            "\n"
          ]
        },
        {
          "output_type": "stream",
          "name": "stderr",
          "text": [
            "Training: 100%|██████████| 125/125 [00:03<00:00, 35.74batch/s]\n",
            "Validation: 100%|██████████| 32/32 [00:00<00:00, 77.09batch/s]\n"
          ]
        },
        {
          "output_type": "stream",
          "name": "stdout",
          "text": [
            "Epoch 28/100 | Train Loss: 0.6733 | Train Acc: 0.6032 | Val Loss: 0.6486 | Val Acc: 0.6520\n",
            "\n"
          ]
        },
        {
          "output_type": "stream",
          "name": "stderr",
          "text": [
            "Training: 100%|██████████| 125/125 [00:04<00:00, 27.97batch/s]\n",
            "Validation: 100%|██████████| 32/32 [00:00<00:00, 67.71batch/s]\n"
          ]
        },
        {
          "output_type": "stream",
          "name": "stdout",
          "text": [
            "Epoch 29/100 | Train Loss: 0.6602 | Train Acc: 0.6045 | Val Loss: 0.6614 | Val Acc: 0.6250\n",
            "\n"
          ]
        },
        {
          "output_type": "stream",
          "name": "stderr",
          "text": [
            "Training: 100%|██████████| 125/125 [00:03<00:00, 36.46batch/s]\n",
            "Validation: 100%|██████████| 32/32 [00:00<00:00, 74.13batch/s]\n"
          ]
        },
        {
          "output_type": "stream",
          "name": "stdout",
          "text": [
            "Epoch 30/100 | Train Loss: 0.6589 | Train Acc: 0.6085 | Val Loss: 0.6528 | Val Acc: 0.6450\n",
            "\n"
          ]
        },
        {
          "output_type": "stream",
          "name": "stderr",
          "text": [
            "Training: 100%|██████████| 125/125 [00:03<00:00, 35.34batch/s]\n",
            "Validation: 100%|██████████| 32/32 [00:00<00:00, 72.31batch/s]\n"
          ]
        },
        {
          "output_type": "stream",
          "name": "stdout",
          "text": [
            "Epoch 31/100 | Train Loss: 0.6557 | Train Acc: 0.6038 | Val Loss: 0.6596 | Val Acc: 0.6020\n",
            "\n"
          ]
        },
        {
          "output_type": "stream",
          "name": "stderr",
          "text": [
            "Training: 100%|██████████| 125/125 [00:04<00:00, 30.50batch/s]\n",
            "Validation: 100%|██████████| 32/32 [00:00<00:00, 48.37batch/s]\n"
          ]
        },
        {
          "output_type": "stream",
          "name": "stdout",
          "text": [
            "Epoch 32/100 | Train Loss: 0.6730 | Train Acc: 0.5905 | Val Loss: 0.6389 | Val Acc: 0.6310\n",
            "\n"
          ]
        },
        {
          "output_type": "stream",
          "name": "stderr",
          "text": [
            "Training: 100%|██████████| 125/125 [00:03<00:00, 35.73batch/s]\n",
            "Validation: 100%|██████████| 32/32 [00:00<00:00, 72.32batch/s]\n"
          ]
        },
        {
          "output_type": "stream",
          "name": "stdout",
          "text": [
            "Epoch 33/100 | Train Loss: 0.6581 | Train Acc: 0.6168 | Val Loss: 0.6811 | Val Acc: 0.5490\n",
            "\n"
          ]
        },
        {
          "output_type": "stream",
          "name": "stderr",
          "text": [
            "Training: 100%|██████████| 125/125 [00:03<00:00, 35.84batch/s]\n",
            "Validation: 100%|██████████| 32/32 [00:00<00:00, 77.97batch/s]\n"
          ]
        },
        {
          "output_type": "stream",
          "name": "stdout",
          "text": [
            "Epoch 34/100 | Train Loss: 0.6545 | Train Acc: 0.6198 | Val Loss: 0.6513 | Val Acc: 0.5990\n",
            "\n"
          ]
        },
        {
          "output_type": "stream",
          "name": "stderr",
          "text": [
            "Training: 100%|██████████| 125/125 [00:04<00:00, 31.12batch/s]\n",
            "Validation: 100%|██████████| 32/32 [00:00<00:00, 52.36batch/s]\n"
          ]
        },
        {
          "output_type": "stream",
          "name": "stdout",
          "text": [
            "Epoch 35/100 | Train Loss: 0.6492 | Train Acc: 0.6262 | Val Loss: 0.6922 | Val Acc: 0.6010\n",
            "\n"
          ]
        },
        {
          "output_type": "stream",
          "name": "stderr",
          "text": [
            "Training: 100%|██████████| 125/125 [00:03<00:00, 33.16batch/s]\n",
            "Validation: 100%|██████████| 32/32 [00:00<00:00, 75.12batch/s]\n"
          ]
        },
        {
          "output_type": "stream",
          "name": "stdout",
          "text": [
            "Epoch 36/100 | Train Loss: 0.6474 | Train Acc: 0.6272 | Val Loss: 0.6598 | Val Acc: 0.5710\n",
            "\n"
          ]
        },
        {
          "output_type": "stream",
          "name": "stderr",
          "text": [
            "Training: 100%|██████████| 125/125 [00:03<00:00, 36.32batch/s]\n",
            "Validation: 100%|██████████| 32/32 [00:00<00:00, 80.54batch/s]\n"
          ]
        },
        {
          "output_type": "stream",
          "name": "stdout",
          "text": [
            "Epoch 37/100 | Train Loss: 0.6633 | Train Acc: 0.6198 | Val Loss: 0.6469 | Val Acc: 0.6370\n",
            "\n"
          ]
        },
        {
          "output_type": "stream",
          "name": "stderr",
          "text": [
            "Training: 100%|██████████| 125/125 [00:03<00:00, 33.56batch/s]\n",
            "Validation: 100%|██████████| 32/32 [00:00<00:00, 50.41batch/s]\n"
          ]
        },
        {
          "output_type": "stream",
          "name": "stdout",
          "text": [
            "Epoch 38/100 | Train Loss: 0.6492 | Train Acc: 0.6295 | Val Loss: 0.6355 | Val Acc: 0.6630\n",
            "\n"
          ]
        },
        {
          "output_type": "stream",
          "name": "stderr",
          "text": [
            "Training: 100%|██████████| 125/125 [00:04<00:00, 30.51batch/s]\n",
            "Validation: 100%|██████████| 32/32 [00:00<00:00, 77.91batch/s]\n"
          ]
        },
        {
          "output_type": "stream",
          "name": "stdout",
          "text": [
            "Epoch 39/100 | Train Loss: 0.6421 | Train Acc: 0.6270 | Val Loss: 0.6305 | Val Acc: 0.6550\n",
            "\n"
          ]
        },
        {
          "output_type": "stream",
          "name": "stderr",
          "text": [
            "Training: 100%|██████████| 125/125 [00:03<00:00, 36.66batch/s]\n",
            "Validation: 100%|██████████| 32/32 [00:00<00:00, 74.65batch/s]\n"
          ]
        },
        {
          "output_type": "stream",
          "name": "stdout",
          "text": [
            "Epoch 40/100 | Train Loss: 0.6581 | Train Acc: 0.6158 | Val Loss: 0.6355 | Val Acc: 0.6430\n",
            "\n"
          ]
        },
        {
          "output_type": "stream",
          "name": "stderr",
          "text": [
            "Training: 100%|██████████| 125/125 [00:03<00:00, 36.15batch/s]\n",
            "Validation: 100%|██████████| 32/32 [00:00<00:00, 60.32batch/s]\n"
          ]
        },
        {
          "output_type": "stream",
          "name": "stdout",
          "text": [
            "Epoch 41/100 | Train Loss: 0.6501 | Train Acc: 0.6232 | Val Loss: 0.6180 | Val Acc: 0.6560\n",
            "\n"
          ]
        },
        {
          "output_type": "stream",
          "name": "stderr",
          "text": [
            "Training: 100%|██████████| 125/125 [00:04<00:00, 28.92batch/s]\n",
            "Validation: 100%|██████████| 32/32 [00:00<00:00, 77.37batch/s]\n"
          ]
        },
        {
          "output_type": "stream",
          "name": "stdout",
          "text": [
            "Epoch 42/100 | Train Loss: 0.6707 | Train Acc: 0.6050 | Val Loss: 0.6373 | Val Acc: 0.6000\n",
            "\n"
          ]
        },
        {
          "output_type": "stream",
          "name": "stderr",
          "text": [
            "Training: 100%|██████████| 125/125 [00:03<00:00, 36.30batch/s]\n",
            "Validation: 100%|██████████| 32/32 [00:00<00:00, 70.26batch/s]\n"
          ]
        },
        {
          "output_type": "stream",
          "name": "stdout",
          "text": [
            "Epoch 43/100 | Train Loss: 0.6532 | Train Acc: 0.6128 | Val Loss: 0.6236 | Val Acc: 0.6600\n",
            "\n"
          ]
        },
        {
          "output_type": "stream",
          "name": "stderr",
          "text": [
            "Training: 100%|██████████| 125/125 [00:03<00:00, 35.77batch/s]\n",
            "Validation: 100%|██████████| 32/32 [00:00<00:00, 75.59batch/s]\n"
          ]
        },
        {
          "output_type": "stream",
          "name": "stdout",
          "text": [
            "Epoch 44/100 | Train Loss: 0.6468 | Train Acc: 0.6275 | Val Loss: 0.6588 | Val Acc: 0.5940\n",
            "\n"
          ]
        },
        {
          "output_type": "stream",
          "name": "stderr",
          "text": [
            "Training: 100%|██████████| 125/125 [00:04<00:00, 27.99batch/s]\n",
            "Validation: 100%|██████████| 32/32 [00:00<00:00, 76.21batch/s]\n"
          ]
        },
        {
          "output_type": "stream",
          "name": "stdout",
          "text": [
            "Epoch 45/100 | Train Loss: 0.6402 | Train Acc: 0.6365 | Val Loss: 0.6394 | Val Acc: 0.6410\n",
            "\n"
          ]
        },
        {
          "output_type": "stream",
          "name": "stderr",
          "text": [
            "Training: 100%|██████████| 125/125 [00:03<00:00, 35.85batch/s]\n",
            "Validation: 100%|██████████| 32/32 [00:00<00:00, 76.39batch/s]\n"
          ]
        },
        {
          "output_type": "stream",
          "name": "stdout",
          "text": [
            "Epoch 46/100 | Train Loss: 0.6328 | Train Acc: 0.6415 | Val Loss: 0.6376 | Val Acc: 0.6410\n",
            "\n"
          ]
        },
        {
          "output_type": "stream",
          "name": "stderr",
          "text": [
            "Training: 100%|██████████| 125/125 [00:03<00:00, 36.48batch/s]\n",
            "Validation: 100%|██████████| 32/32 [00:00<00:00, 75.04batch/s]\n"
          ]
        },
        {
          "output_type": "stream",
          "name": "stdout",
          "text": [
            "Epoch 47/100 | Train Loss: 0.6528 | Train Acc: 0.6248 | Val Loss: 0.6243 | Val Acc: 0.6510\n",
            "\n"
          ]
        },
        {
          "output_type": "stream",
          "name": "stderr",
          "text": [
            "Training: 100%|██████████| 125/125 [00:04<00:00, 28.54batch/s]\n",
            "Validation: 100%|██████████| 32/32 [00:00<00:00, 61.99batch/s]\n"
          ]
        },
        {
          "output_type": "stream",
          "name": "stdout",
          "text": [
            "Epoch 48/100 | Train Loss: 0.6329 | Train Acc: 0.6508 | Val Loss: 0.6104 | Val Acc: 0.6750\n",
            "\n"
          ]
        },
        {
          "output_type": "stream",
          "name": "stderr",
          "text": [
            "Training: 100%|██████████| 125/125 [00:03<00:00, 36.04batch/s]\n",
            "Validation: 100%|██████████| 32/32 [00:00<00:00, 73.42batch/s]\n"
          ]
        },
        {
          "output_type": "stream",
          "name": "stdout",
          "text": [
            "Epoch 49/100 | Train Loss: 0.6368 | Train Acc: 0.6398 | Val Loss: 0.6204 | Val Acc: 0.6530\n",
            "\n"
          ]
        },
        {
          "output_type": "stream",
          "name": "stderr",
          "text": [
            "Training: 100%|██████████| 125/125 [00:03<00:00, 35.79batch/s]\n",
            "Validation: 100%|██████████| 32/32 [00:00<00:00, 76.44batch/s]\n"
          ]
        },
        {
          "output_type": "stream",
          "name": "stdout",
          "text": [
            "Epoch 50/100 | Train Loss: 0.6619 | Train Acc: 0.6138 | Val Loss: 0.6177 | Val Acc: 0.6650\n",
            "\n"
          ]
        },
        {
          "output_type": "stream",
          "name": "stderr",
          "text": [
            "Training: 100%|██████████| 125/125 [00:04<00:00, 30.16batch/s]\n",
            "Validation: 100%|██████████| 32/32 [00:00<00:00, 47.93batch/s]\n"
          ]
        },
        {
          "output_type": "stream",
          "name": "stdout",
          "text": [
            "Epoch 51/100 | Train Loss: 0.6269 | Train Acc: 0.6490 | Val Loss: 0.6226 | Val Acc: 0.6400\n",
            "\n"
          ]
        },
        {
          "output_type": "stream",
          "name": "stderr",
          "text": [
            "Training: 100%|██████████| 125/125 [00:03<00:00, 32.50batch/s]\n",
            "Validation: 100%|██████████| 32/32 [00:00<00:00, 75.39batch/s]\n"
          ]
        },
        {
          "output_type": "stream",
          "name": "stdout",
          "text": [
            "Epoch 52/100 | Train Loss: 0.6321 | Train Acc: 0.6488 | Val Loss: 0.6136 | Val Acc: 0.6700\n",
            "\n"
          ]
        },
        {
          "output_type": "stream",
          "name": "stderr",
          "text": [
            "Training: 100%|██████████| 125/125 [00:03<00:00, 36.37batch/s]\n",
            "Validation: 100%|██████████| 32/32 [00:00<00:00, 75.62batch/s]\n"
          ]
        },
        {
          "output_type": "stream",
          "name": "stdout",
          "text": [
            "Epoch 53/100 | Train Loss: 0.6340 | Train Acc: 0.6518 | Val Loss: 0.6052 | Val Acc: 0.6630\n",
            "\n"
          ]
        },
        {
          "output_type": "stream",
          "name": "stderr",
          "text": [
            "Training: 100%|██████████| 125/125 [00:03<00:00, 35.34batch/s]\n",
            "Validation: 100%|██████████| 32/32 [00:00<00:00, 53.49batch/s]\n"
          ]
        },
        {
          "output_type": "stream",
          "name": "stdout",
          "text": [
            "Epoch 54/100 | Train Loss: 0.6384 | Train Acc: 0.6452 | Val Loss: 0.6175 | Val Acc: 0.6610\n",
            "\n"
          ]
        },
        {
          "output_type": "stream",
          "name": "stderr",
          "text": [
            "Training: 100%|██████████| 125/125 [00:04<00:00, 28.05batch/s]\n",
            "Validation: 100%|██████████| 32/32 [00:00<00:00, 76.55batch/s]\n"
          ]
        },
        {
          "output_type": "stream",
          "name": "stdout",
          "text": [
            "Epoch 55/100 | Train Loss: 0.6411 | Train Acc: 0.6282 | Val Loss: 0.6214 | Val Acc: 0.6610\n",
            "\n"
          ]
        },
        {
          "output_type": "stream",
          "name": "stderr",
          "text": [
            "Training: 100%|██████████| 125/125 [00:03<00:00, 35.92batch/s]\n",
            "Validation: 100%|██████████| 32/32 [00:00<00:00, 79.78batch/s]\n"
          ]
        },
        {
          "output_type": "stream",
          "name": "stdout",
          "text": [
            "Epoch 56/100 | Train Loss: 0.6269 | Train Acc: 0.6465 | Val Loss: 0.6216 | Val Acc: 0.6480\n",
            "\n"
          ]
        },
        {
          "output_type": "stream",
          "name": "stderr",
          "text": [
            "Training: 100%|██████████| 125/125 [00:03<00:00, 36.33batch/s]\n",
            "Validation: 100%|██████████| 32/32 [00:00<00:00, 70.63batch/s]\n"
          ]
        },
        {
          "output_type": "stream",
          "name": "stdout",
          "text": [
            "Epoch 57/100 | Train Loss: 0.6337 | Train Acc: 0.6362 | Val Loss: 0.6282 | Val Acc: 0.6360\n",
            "\n"
          ]
        },
        {
          "output_type": "stream",
          "name": "stderr",
          "text": [
            "Training: 100%|██████████| 125/125 [00:04<00:00, 27.51batch/s]\n",
            "Validation: 100%|██████████| 32/32 [00:00<00:00, 71.01batch/s]\n"
          ]
        },
        {
          "output_type": "stream",
          "name": "stdout",
          "text": [
            "Epoch 58/100 | Train Loss: 0.6405 | Train Acc: 0.6365 | Val Loss: 0.6431 | Val Acc: 0.6330\n",
            "\n"
          ]
        },
        {
          "output_type": "stream",
          "name": "stderr",
          "text": [
            "Training: 100%|██████████| 125/125 [00:03<00:00, 36.54batch/s]\n",
            "Validation: 100%|██████████| 32/32 [00:00<00:00, 75.74batch/s]\n"
          ]
        },
        {
          "output_type": "stream",
          "name": "stdout",
          "text": [
            "Epoch 59/100 | Train Loss: 0.6224 | Train Acc: 0.6607 | Val Loss: 0.6166 | Val Acc: 0.6560\n",
            "\n"
          ]
        },
        {
          "output_type": "stream",
          "name": "stderr",
          "text": [
            "Training: 100%|██████████| 125/125 [00:03<00:00, 36.25batch/s]\n",
            "Validation: 100%|██████████| 32/32 [00:00<00:00, 75.82batch/s]\n"
          ]
        },
        {
          "output_type": "stream",
          "name": "stdout",
          "text": [
            "Epoch 60/100 | Train Loss: 0.6375 | Train Acc: 0.6402 | Val Loss: 0.6278 | Val Acc: 0.6530\n",
            "\n"
          ]
        },
        {
          "output_type": "stream",
          "name": "stderr",
          "text": [
            "Training: 100%|██████████| 125/125 [00:04<00:00, 28.62batch/s]\n",
            "Validation: 100%|██████████| 32/32 [00:00<00:00, 72.16batch/s]\n"
          ]
        },
        {
          "output_type": "stream",
          "name": "stdout",
          "text": [
            "Epoch 61/100 | Train Loss: 0.6482 | Train Acc: 0.6260 | Val Loss: 0.6600 | Val Acc: 0.6310\n",
            "\n"
          ]
        },
        {
          "output_type": "stream",
          "name": "stderr",
          "text": [
            "Training: 100%|██████████| 125/125 [00:03<00:00, 36.70batch/s]\n",
            "Validation: 100%|██████████| 32/32 [00:00<00:00, 79.31batch/s]\n"
          ]
        },
        {
          "output_type": "stream",
          "name": "stdout",
          "text": [
            "Epoch 62/100 | Train Loss: 0.6268 | Train Acc: 0.6448 | Val Loss: 0.6160 | Val Acc: 0.6410\n",
            "\n"
          ]
        },
        {
          "output_type": "stream",
          "name": "stderr",
          "text": [
            "Training: 100%|██████████| 125/125 [00:03<00:00, 35.69batch/s]\n",
            "Validation: 100%|██████████| 32/32 [00:00<00:00, 77.95batch/s]\n"
          ]
        },
        {
          "output_type": "stream",
          "name": "stdout",
          "text": [
            "Epoch 63/100 | Train Loss: 0.6201 | Train Acc: 0.6623 | Val Loss: 0.6162 | Val Acc: 0.6600\n",
            "\n"
          ]
        },
        {
          "output_type": "stream",
          "name": "stderr",
          "text": [
            "Training: 100%|██████████| 125/125 [00:04<00:00, 30.19batch/s]\n",
            "Validation: 100%|██████████| 32/32 [00:00<00:00, 51.68batch/s]\n"
          ]
        },
        {
          "output_type": "stream",
          "name": "stdout",
          "text": [
            "Epoch 64/100 | Train Loss: 0.6326 | Train Acc: 0.6382 | Val Loss: 0.6113 | Val Acc: 0.6690\n",
            "\n"
          ]
        },
        {
          "output_type": "stream",
          "name": "stderr",
          "text": [
            "Training: 100%|██████████| 125/125 [00:03<00:00, 32.38batch/s]\n",
            "Validation: 100%|██████████| 32/32 [00:00<00:00, 73.07batch/s]\n"
          ]
        },
        {
          "output_type": "stream",
          "name": "stdout",
          "text": [
            "Epoch 65/100 | Train Loss: 0.6171 | Train Acc: 0.6558 | Val Loss: 0.6466 | Val Acc: 0.6140\n",
            "\n"
          ]
        },
        {
          "output_type": "stream",
          "name": "stderr",
          "text": [
            "Training: 100%|██████████| 125/125 [00:03<00:00, 36.13batch/s]\n",
            "Validation: 100%|██████████| 32/32 [00:00<00:00, 74.84batch/s]\n"
          ]
        },
        {
          "output_type": "stream",
          "name": "stdout",
          "text": [
            "Epoch 66/100 | Train Loss: 0.6243 | Train Acc: 0.6480 | Val Loss: 0.5895 | Val Acc: 0.6930\n",
            "\n"
          ]
        },
        {
          "output_type": "stream",
          "name": "stderr",
          "text": [
            "Training: 100%|██████████| 125/125 [00:03<00:00, 34.65batch/s]\n",
            "Validation: 100%|██████████| 32/32 [00:00<00:00, 56.49batch/s]\n"
          ]
        },
        {
          "output_type": "stream",
          "name": "stdout",
          "text": [
            "Epoch 67/100 | Train Loss: 0.6313 | Train Acc: 0.6420 | Val Loss: 0.6091 | Val Acc: 0.6630\n",
            "\n"
          ]
        },
        {
          "output_type": "stream",
          "name": "stderr",
          "text": [
            "Training: 100%|██████████| 125/125 [00:04<00:00, 30.27batch/s]\n",
            "Validation: 100%|██████████| 32/32 [00:00<00:00, 74.23batch/s]\n"
          ]
        },
        {
          "output_type": "stream",
          "name": "stdout",
          "text": [
            "Epoch 68/100 | Train Loss: 0.6322 | Train Acc: 0.6458 | Val Loss: 0.5959 | Val Acc: 0.6850\n",
            "\n"
          ]
        },
        {
          "output_type": "stream",
          "name": "stderr",
          "text": [
            "Training: 100%|██████████| 125/125 [00:03<00:00, 36.06batch/s]\n",
            "Validation: 100%|██████████| 32/32 [00:00<00:00, 74.26batch/s]\n"
          ]
        },
        {
          "output_type": "stream",
          "name": "stdout",
          "text": [
            "Epoch 69/100 | Train Loss: 0.6426 | Train Acc: 0.6322 | Val Loss: 0.5985 | Val Acc: 0.6800\n",
            "\n"
          ]
        },
        {
          "output_type": "stream",
          "name": "stderr",
          "text": [
            "Training: 100%|██████████| 125/125 [00:03<00:00, 35.97batch/s]\n",
            "Validation: 100%|██████████| 32/32 [00:00<00:00, 64.24batch/s]\n"
          ]
        },
        {
          "output_type": "stream",
          "name": "stdout",
          "text": [
            "Epoch 70/100 | Train Loss: 0.6217 | Train Acc: 0.6520 | Val Loss: 0.6489 | Val Acc: 0.5920\n",
            "\n"
          ]
        },
        {
          "output_type": "stream",
          "name": "stderr",
          "text": [
            "Training: 100%|██████████| 125/125 [00:04<00:00, 28.71batch/s]\n",
            "Validation: 100%|██████████| 32/32 [00:00<00:00, 72.55batch/s]\n"
          ]
        },
        {
          "output_type": "stream",
          "name": "stdout",
          "text": [
            "Epoch 71/100 | Train Loss: 0.6221 | Train Acc: 0.6498 | Val Loss: 0.6104 | Val Acc: 0.6490\n",
            "\n"
          ]
        },
        {
          "output_type": "stream",
          "name": "stderr",
          "text": [
            "Training: 100%|██████████| 125/125 [00:03<00:00, 35.90batch/s]\n",
            "Validation: 100%|██████████| 32/32 [00:00<00:00, 70.82batch/s]\n"
          ]
        },
        {
          "output_type": "stream",
          "name": "stdout",
          "text": [
            "Epoch 72/100 | Train Loss: 0.6230 | Train Acc: 0.6498 | Val Loss: 0.6049 | Val Acc: 0.6690\n",
            "\n"
          ]
        },
        {
          "output_type": "stream",
          "name": "stderr",
          "text": [
            "Training: 100%|██████████| 125/125 [00:03<00:00, 36.65batch/s]\n",
            "Validation: 100%|██████████| 32/32 [00:00<00:00, 71.81batch/s]\n"
          ]
        },
        {
          "output_type": "stream",
          "name": "stdout",
          "text": [
            "Epoch 73/100 | Train Loss: 0.6213 | Train Acc: 0.6438 | Val Loss: 0.6017 | Val Acc: 0.6690\n",
            "\n"
          ]
        },
        {
          "output_type": "stream",
          "name": "stderr",
          "text": [
            "Training: 100%|██████████| 125/125 [00:04<00:00, 27.44batch/s]\n",
            "Validation: 100%|██████████| 32/32 [00:00<00:00, 72.31batch/s]\n"
          ]
        },
        {
          "output_type": "stream",
          "name": "stdout",
          "text": [
            "Epoch 74/100 | Train Loss: 0.6259 | Train Acc: 0.6482 | Val Loss: 0.6108 | Val Acc: 0.6740\n",
            "\n"
          ]
        },
        {
          "output_type": "stream",
          "name": "stderr",
          "text": [
            "Training: 100%|██████████| 125/125 [00:03<00:00, 36.86batch/s]\n",
            "Validation: 100%|██████████| 32/32 [00:00<00:00, 79.19batch/s]\n"
          ]
        },
        {
          "output_type": "stream",
          "name": "stdout",
          "text": [
            "Epoch 75/100 | Train Loss: 0.6210 | Train Acc: 0.6545 | Val Loss: 0.5989 | Val Acc: 0.6790\n",
            "\n"
          ]
        },
        {
          "output_type": "stream",
          "name": "stderr",
          "text": [
            "Training: 100%|██████████| 125/125 [00:03<00:00, 36.36batch/s]\n",
            "Validation: 100%|██████████| 32/32 [00:00<00:00, 78.73batch/s]\n"
          ]
        },
        {
          "output_type": "stream",
          "name": "stdout",
          "text": [
            "Epoch 76/100 | Train Loss: 0.6172 | Train Acc: 0.6542 | Val Loss: 0.6005 | Val Acc: 0.6650\n",
            "\n"
          ]
        },
        {
          "output_type": "stream",
          "name": "stderr",
          "text": [
            "Training: 100%|██████████| 125/125 [00:04<00:00, 29.45batch/s]\n",
            "Validation: 100%|██████████| 32/32 [00:00<00:00, 50.53batch/s]\n"
          ]
        },
        {
          "output_type": "stream",
          "name": "stdout",
          "text": [
            "Epoch 77/100 | Train Loss: 0.6209 | Train Acc: 0.6552 | Val Loss: 0.6129 | Val Acc: 0.6600\n",
            "\n"
          ]
        },
        {
          "output_type": "stream",
          "name": "stderr",
          "text": [
            "Training: 100%|██████████| 125/125 [00:03<00:00, 34.82batch/s]\n",
            "Validation: 100%|██████████| 32/32 [00:00<00:00, 77.81batch/s]\n"
          ]
        },
        {
          "output_type": "stream",
          "name": "stdout",
          "text": [
            "Epoch 78/100 | Train Loss: 0.6129 | Train Acc: 0.6567 | Val Loss: 0.6018 | Val Acc: 0.6610\n",
            "\n"
          ]
        },
        {
          "output_type": "stream",
          "name": "stderr",
          "text": [
            "Training: 100%|██████████| 125/125 [00:03<00:00, 36.38batch/s]\n",
            "Validation: 100%|██████████| 32/32 [00:00<00:00, 74.96batch/s]\n"
          ]
        },
        {
          "output_type": "stream",
          "name": "stdout",
          "text": [
            "Epoch 79/100 | Train Loss: 0.6536 | Train Acc: 0.6182 | Val Loss: 0.6678 | Val Acc: 0.6300\n",
            "\n"
          ]
        },
        {
          "output_type": "stream",
          "name": "stderr",
          "text": [
            "Training: 100%|██████████| 125/125 [00:03<00:00, 32.76batch/s]\n",
            "Validation: 100%|██████████| 32/32 [00:00<00:00, 53.51batch/s]\n"
          ]
        },
        {
          "output_type": "stream",
          "name": "stdout",
          "text": [
            "Epoch 80/100 | Train Loss: 0.6216 | Train Acc: 0.6512 | Val Loss: 0.6963 | Val Acc: 0.6030\n",
            "\n"
          ]
        },
        {
          "output_type": "stream",
          "name": "stderr",
          "text": [
            "Training: 100%|██████████| 125/125 [00:04<00:00, 30.39batch/s]\n",
            "Validation: 100%|██████████| 32/32 [00:00<00:00, 79.90batch/s]\n"
          ]
        },
        {
          "output_type": "stream",
          "name": "stdout",
          "text": [
            "Epoch 81/100 | Train Loss: 0.6174 | Train Acc: 0.6528 | Val Loss: 0.5861 | Val Acc: 0.6950\n",
            "\n"
          ]
        },
        {
          "output_type": "stream",
          "name": "stderr",
          "text": [
            "Training: 100%|██████████| 125/125 [00:03<00:00, 36.52batch/s]\n",
            "Validation: 100%|██████████| 32/32 [00:00<00:00, 72.34batch/s]\n"
          ]
        },
        {
          "output_type": "stream",
          "name": "stdout",
          "text": [
            "Epoch 82/100 | Train Loss: 0.6263 | Train Acc: 0.6515 | Val Loss: 0.6821 | Val Acc: 0.6140\n",
            "\n"
          ]
        },
        {
          "output_type": "stream",
          "name": "stderr",
          "text": [
            "Training: 100%|██████████| 125/125 [00:03<00:00, 36.08batch/s]\n",
            "Validation: 100%|██████████| 32/32 [00:00<00:00, 71.55batch/s]\n"
          ]
        },
        {
          "output_type": "stream",
          "name": "stdout",
          "text": [
            "Epoch 83/100 | Train Loss: 0.6414 | Train Acc: 0.6320 | Val Loss: 0.5986 | Val Acc: 0.6650\n",
            "\n"
          ]
        },
        {
          "output_type": "stream",
          "name": "stderr",
          "text": [
            "Training: 100%|██████████| 125/125 [00:04<00:00, 27.87batch/s]\n",
            "Validation: 100%|██████████| 32/32 [00:00<00:00, 73.50batch/s]\n"
          ]
        },
        {
          "output_type": "stream",
          "name": "stdout",
          "text": [
            "Epoch 84/100 | Train Loss: 0.6166 | Train Acc: 0.6610 | Val Loss: 0.6118 | Val Acc: 0.6410\n",
            "\n"
          ]
        },
        {
          "output_type": "stream",
          "name": "stderr",
          "text": [
            "Training: 100%|██████████| 125/125 [00:03<00:00, 36.23batch/s]\n",
            "Validation: 100%|██████████| 32/32 [00:00<00:00, 74.78batch/s]\n"
          ]
        },
        {
          "output_type": "stream",
          "name": "stdout",
          "text": [
            "Epoch 85/100 | Train Loss: 0.6331 | Train Acc: 0.6480 | Val Loss: 0.6219 | Val Acc: 0.6590\n",
            "\n"
          ]
        },
        {
          "output_type": "stream",
          "name": "stderr",
          "text": [
            "Training: 100%|██████████| 125/125 [00:03<00:00, 35.95batch/s]\n",
            "Validation: 100%|██████████| 32/32 [00:00<00:00, 73.36batch/s]\n"
          ]
        },
        {
          "output_type": "stream",
          "name": "stdout",
          "text": [
            "Epoch 86/100 | Train Loss: 0.6143 | Train Acc: 0.6640 | Val Loss: 0.6035 | Val Acc: 0.6560\n",
            "\n"
          ]
        },
        {
          "output_type": "stream",
          "name": "stderr",
          "text": [
            "Training: 100%|██████████| 125/125 [00:04<00:00, 27.34batch/s]\n",
            "Validation: 100%|██████████| 32/32 [00:00<00:00, 60.71batch/s]\n"
          ]
        },
        {
          "output_type": "stream",
          "name": "stdout",
          "text": [
            "Epoch 87/100 | Train Loss: 0.6171 | Train Acc: 0.6535 | Val Loss: 0.6888 | Val Acc: 0.6180\n",
            "\n"
          ]
        },
        {
          "output_type": "stream",
          "name": "stderr",
          "text": [
            "Training: 100%|██████████| 125/125 [00:03<00:00, 35.99batch/s]\n",
            "Validation: 100%|██████████| 32/32 [00:00<00:00, 73.91batch/s]\n"
          ]
        },
        {
          "output_type": "stream",
          "name": "stdout",
          "text": [
            "Epoch 88/100 | Train Loss: 0.6051 | Train Acc: 0.6665 | Val Loss: 0.6076 | Val Acc: 0.6530\n",
            "\n"
          ]
        },
        {
          "output_type": "stream",
          "name": "stderr",
          "text": [
            "Training: 100%|██████████| 125/125 [00:03<00:00, 33.41batch/s]\n",
            "Validation: 100%|██████████| 32/32 [00:00<00:00, 55.39batch/s]\n"
          ]
        },
        {
          "output_type": "stream",
          "name": "stdout",
          "text": [
            "Epoch 89/100 | Train Loss: 0.6288 | Train Acc: 0.6368 | Val Loss: 0.6420 | Val Acc: 0.6220\n",
            "\n"
          ]
        },
        {
          "output_type": "stream",
          "name": "stderr",
          "text": [
            "Training: 100%|██████████| 125/125 [00:05<00:00, 24.59batch/s]\n",
            "Validation: 100%|██████████| 32/32 [00:00<00:00, 69.46batch/s]\n"
          ]
        },
        {
          "output_type": "stream",
          "name": "stdout",
          "text": [
            "Epoch 90/100 | Train Loss: 0.6286 | Train Acc: 0.6475 | Val Loss: 0.5945 | Val Acc: 0.6810\n",
            "\n"
          ]
        },
        {
          "output_type": "stream",
          "name": "stderr",
          "text": [
            "Training: 100%|██████████| 125/125 [00:03<00:00, 35.99batch/s]\n",
            "Validation: 100%|██████████| 32/32 [00:00<00:00, 70.91batch/s]\n"
          ]
        },
        {
          "output_type": "stream",
          "name": "stdout",
          "text": [
            "Epoch 91/100 | Train Loss: 0.6097 | Train Acc: 0.6630 | Val Loss: 0.5984 | Val Acc: 0.6690\n",
            "\n"
          ]
        },
        {
          "output_type": "stream",
          "name": "stderr",
          "text": [
            "Training: 100%|██████████| 125/125 [00:03<00:00, 36.20batch/s]\n",
            "Validation: 100%|██████████| 32/32 [00:00<00:00, 73.68batch/s]\n"
          ]
        },
        {
          "output_type": "stream",
          "name": "stdout",
          "text": [
            "Epoch 92/100 | Train Loss: 0.6069 | Train Acc: 0.6613 | Val Loss: 0.6215 | Val Acc: 0.6430\n",
            "\n"
          ]
        },
        {
          "output_type": "stream",
          "name": "stderr",
          "text": [
            "Training: 100%|██████████| 125/125 [00:04<00:00, 29.88batch/s]\n",
            "Validation: 100%|██████████| 32/32 [00:00<00:00, 53.54batch/s]\n"
          ]
        },
        {
          "output_type": "stream",
          "name": "stdout",
          "text": [
            "Epoch 93/100 | Train Loss: 0.6169 | Train Acc: 0.6597 | Val Loss: 0.5949 | Val Acc: 0.6820\n",
            "\n"
          ]
        },
        {
          "output_type": "stream",
          "name": "stderr",
          "text": [
            "Training: 100%|██████████| 125/125 [00:03<00:00, 34.62batch/s]\n",
            "Validation: 100%|██████████| 32/32 [00:00<00:00, 73.84batch/s]\n"
          ]
        },
        {
          "output_type": "stream",
          "name": "stdout",
          "text": [
            "Epoch 94/100 | Train Loss: 0.6082 | Train Acc: 0.6585 | Val Loss: 0.6010 | Val Acc: 0.6560\n",
            "\n"
          ]
        },
        {
          "output_type": "stream",
          "name": "stderr",
          "text": [
            "Training: 100%|██████████| 125/125 [00:03<00:00, 35.85batch/s]\n",
            "Validation: 100%|██████████| 32/32 [00:00<00:00, 72.80batch/s]\n"
          ]
        },
        {
          "output_type": "stream",
          "name": "stdout",
          "text": [
            "Epoch 95/100 | Train Loss: 0.6046 | Train Acc: 0.6667 | Val Loss: 0.5882 | Val Acc: 0.6920\n",
            "\n"
          ]
        },
        {
          "output_type": "stream",
          "name": "stderr",
          "text": [
            "Training: 100%|██████████| 125/125 [00:03<00:00, 32.87batch/s]\n",
            "Validation: 100%|██████████| 32/32 [00:00<00:00, 52.47batch/s]\n"
          ]
        },
        {
          "output_type": "stream",
          "name": "stdout",
          "text": [
            "Epoch 96/100 | Train Loss: 0.6316 | Train Acc: 0.6418 | Val Loss: 0.7123 | Val Acc: 0.5790\n",
            "\n"
          ]
        },
        {
          "output_type": "stream",
          "name": "stderr",
          "text": [
            "Training: 100%|██████████| 125/125 [00:03<00:00, 32.17batch/s]\n",
            "Validation: 100%|██████████| 32/32 [00:00<00:00, 77.52batch/s]\n"
          ]
        },
        {
          "output_type": "stream",
          "name": "stdout",
          "text": [
            "Epoch 97/100 | Train Loss: 0.6191 | Train Acc: 0.6548 | Val Loss: 0.6077 | Val Acc: 0.6430\n",
            "\n"
          ]
        },
        {
          "output_type": "stream",
          "name": "stderr",
          "text": [
            "Training: 100%|██████████| 125/125 [00:03<00:00, 36.42batch/s]\n",
            "Validation: 100%|██████████| 32/32 [00:00<00:00, 69.99batch/s]\n"
          ]
        },
        {
          "output_type": "stream",
          "name": "stdout",
          "text": [
            "Epoch 98/100 | Train Loss: 0.6164 | Train Acc: 0.6577 | Val Loss: 0.5932 | Val Acc: 0.6740\n",
            "\n"
          ]
        },
        {
          "output_type": "stream",
          "name": "stderr",
          "text": [
            "Training: 100%|██████████| 125/125 [00:08<00:00, 14.01batch/s]\n",
            "Validation: 100%|██████████| 32/32 [00:00<00:00, 41.28batch/s]\n"
          ]
        },
        {
          "output_type": "stream",
          "name": "stdout",
          "text": [
            "Epoch 99/100 | Train Loss: 0.6144 | Train Acc: 0.6548 | Val Loss: 0.5944 | Val Acc: 0.6700\n",
            "\n"
          ]
        },
        {
          "output_type": "stream",
          "name": "stderr",
          "text": [
            "Training: 100%|██████████| 125/125 [00:08<00:00, 15.44batch/s]\n",
            "Validation: 100%|██████████| 32/32 [00:01<00:00, 23.06batch/s]"
          ]
        },
        {
          "output_type": "stream",
          "name": "stdout",
          "text": [
            "Epoch 100/100 | Train Loss: 0.6066 | Train Acc: 0.6627 | Val Loss: 0.5942 | Val Acc: 0.6870\n",
            "\n"
          ]
        },
        {
          "output_type": "stream",
          "name": "stderr",
          "text": [
            "\n"
          ]
        }
      ]
    },
    {
      "cell_type": "code",
      "source": [
        "import matplotlib.pyplot as plt\n",
        "\n",
        "epochs_range = range(EPOCHS)\n",
        "plt.figure(figsize=(15, 15))\n",
        "plt.subplot(2, 2, 1)\n",
        "plt.plot(epochs_range, history['Train Acc'], label='Training Accuracy')\n",
        "plt.plot(epochs_range, history['Val Acc'], label='Validation Accuracy')\n",
        "plt.legend(loc='lower right')\n",
        "plt.title('Training and Validation Accuracy')\n",
        "\n",
        "plt.subplot(2, 2, 2)\n",
        "plt.plot(epochs_range, history['Train Loss'], label='Training Loss')\n",
        "plt.plot(epochs_range, history['Val Loss'], label='Validation Loss')\n",
        "plt.legend(loc='upper right')\n",
        "plt.title('Training and Validation Loss')\n",
        "plt.show()"
      ],
      "metadata": {
        "colab": {
          "base_uri": "https://localhost:8080/",
          "height": 608
        },
        "id": "b7AQ3G4Ysj-t",
        "outputId": "03e0461f-79e6-4c44-bd7a-4c3aa51c5621"
      },
      "execution_count": 11,
      "outputs": [
        {
          "output_type": "display_data",
          "data": {
            "text/plain": [
              "<Figure size 1500x1500 with 2 Axes>"
            ],
            "image/png": "[encoded data removed]"
          },
          "metadata": {}
        }
      ]
    },
    {
      "cell_type": "code",
      "source": [
        "_, criterion = model.get_optim()\n",
        "loss, acc = model.validate(criterion)\n",
        "print(\"\\nLoss:\", loss)\n",
        "print(\"Accuracy:\", acc)"
      ],
      "metadata": {
        "colab": {
          "base_uri": "https://localhost:8080/"
        },
        "id": "ISDVDySn13T4",
        "outputId": "7ff61c88-f314-44a7-e45e-e2e191e98345"
      },
      "execution_count": 16,
      "outputs": [
        {
          "output_type": "stream",
          "name": "stderr",
          "text": [
            "Validation: 100%|██████████| 32/32 [00:00<00:00, 63.20batch/s]"
          ]
        },
        {
          "output_type": "stream",
          "name": "stdout",
          "text": [
            "\n",
            "Loss: 0.595219574868679\n",
            "Accuracy: 0.688\n"
          ]
        },
        {
          "output_type": "stream",
          "name": "stderr",
          "text": [
            "\n"
          ]
        }
      ]
    }
  ],
  "metadata": {
    "colab": {
      "provenance": [],
      "include_colab_link": true
    },
    "kernelspec": {
      "display_name": "Python 3",
      "name": "python3"
    },
    "language_info": {
      "name": "python"
    }
  },
  "nbformat": 4,
  "nbformat_minor": 0
}